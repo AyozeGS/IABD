{
 "cells": [
  {
   "cell_type": "code",
   "execution_count": null,
   "metadata": {},
   "outputs": [],
   "source": [
    "import tweepy"
   ]
  },
  {
   "cell_type": "code",
   "execution_count": null,
   "metadata": {},
   "outputs": [],
   "source": [
    "# Tus credenciales de Twitter\n",
    "consumer_key = ''\n",
    "consumer_secret = ''\n",
    "access_token = ''\n",
    "access_token_secret = ''\n",
    "\n",
    "# Autentificación con Twitter\n",
    "auth = tweepy.OAuthHandler(consumer_key, consumer_secret)\n",
    "auth.set_access_token(access_token, access_token_secret)\n",
    "api = tweepy.API(auth, wait_on_rate_limit=True)\n",
    "\n",
    "# Función para obtener tweets de una categoría específica\n",
    "def get_tweets(categoria, cantidad=1):\n",
    "    # Realiza una búsqueda de tweets\n",
    "    tweets = tweepy.Cursor(api.search_tweets, q=categoria, lang='es').items(cantidad)\n",
    "    result_tweets = []\n",
    "    for tweet in tweets:\n",
    "        result_tweets.append({\n",
    "            'usuario': tweet.user.screen_name,\n",
    "            'texto': tweet.text,\n",
    "            'fecha': tweet.created_at\n",
    "        })\n",
    "    return result_tweets"
   ]
  },
  {
   "cell_type": "code",
   "execution_count": null,
   "metadata": {},
   "outputs": [],
   "source": [
    "categoria = 'tecnología'\n",
    "cantidad_de_tweets = 5\n",
    "tweets_obtenidos = get_tweets(categoria, cantidad_de_tweets)\n",
    "\n",
    "# Imprimir los tweets obtenidos\n",
    "for tweet in tweets_obtenidos:\n",
    "    print(f\"Usuario: {tweet['usuario']}\")\n",
    "    print(f\"Tweet: {tweet['texto']}\")\n",
    "    print(f\"Fecha: {tweet['fecha']}\")\n",
    "    print('-'*30)"
   ]
  },
  {
   "cell_type": "code",
   "execution_count": null,
   "metadata": {},
   "outputs": [],
   "source": [
    "\n",
    "# Tu bearer token de Twitter API v2\n",
    "bearer_token = ''\n",
    "\n",
    "# Autentificación con Twitter API v2\n",
    "client = tweepy.Client(bearer_token=bearer_token)\n",
    "\n",
    "# Función para obtener tweets de una categoría específica\n",
    "def get_tweets(category, cantidad=100):\n",
    "    # Realiza una búsqueda de tweets\n",
    "    query = f'{category} -is:retweet lang:es'\n",
    "    tweets = client.search_recent_tweets(query=query, max_results=cantidad, tweet_fields=['author_id', 'created_at'])\n",
    "    result_tweets = []\n",
    "    for tweet in tweets:\n",
    "        result_tweets.append({\n",
    "            'autor_id': tweet.author_id,\n",
    "            'texto': tweet.text,\n",
    "            'fecha': tweet.created_at\n",
    "        })\n",
    "    return result_tweets"
   ]
  },
  {
   "cell_type": "code",
   "execution_count": null,
   "metadata": {},
   "outputs": [],
   "source": [
    "# Ejemplo de uso\n",
    "category = 'tecnología'\n",
    "num_tweets = 1\n",
    "tweets = get_tweets(category, num_tweets)\n",
    "\n",
    "# Imprimir los tweets obtenidos\n",
    "for tweet in tweets:\n",
    "    print(f\"Autor ID: {tweet['autor_id']}\")\n",
    "    print(f\"Tweet: {tweet['texto']}\")\n",
    "    print(f\"Fecha: {tweet['fecha']}\")\n",
    "    print('-'*30)"
   ]
  },
  {
   "cell_type": "code",
   "execution_count": null,
   "metadata": {},
   "outputs": [],
   "source": [
    "import requests\n",
    "\n",
    "# Tu Bearer Token de Twitter API v2\n",
    "bearer_token = ''\n",
    "\n",
    "# URL de la API\n",
    "url = 'https://api.twitter.com/2/tweets/search/recent'\n",
    "\n",
    "# Parámetros de la solicitud\n",
    "params = {\n",
    "    'tweet.fields': 'context_annotations',\n",
    "    'max_results': 100,\n",
    "    'query': 'science'\n",
    "}\n",
    "\n",
    "# Encabezados de la solicitud\n",
    "headers = {\n",
    "    'Authorization': f'Bearer {bearer_token}'\n",
    "}\n",
    "\n",
    "# Realiza la solicitud GET\n",
    "response = requests.get(url, headers=headers, params=params)\n",
    "\n",
    "# Manejo de la respuesta\n",
    "if response.status_code == 200:\n",
    "    tweets = response.json()\n",
    "    for tweet in tweets['data']:\n",
    "        print(tweet)\n",
    "else:\n",
    "    print(f'Error: {response.status_code}')\n",
    "    print(response.json())"
   ]
  }
 ],
 "metadata": {
  "kernelspec": {
   "display_name": "proyecto",
   "language": "python",
   "name": "python3"
  },
  "language_info": {
   "codemirror_mode": {
    "name": "ipython",
    "version": 3
   },
   "file_extension": ".py",
   "mimetype": "text/x-python",
   "name": "python",
   "nbconvert_exporter": "python",
   "pygments_lexer": "ipython3",
   "version": "3.12.3"
  }
 },
 "nbformat": 4,
 "nbformat_minor": 2
}
