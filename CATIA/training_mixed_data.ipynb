{
 "cells": [
  {
   "cell_type": "markdown",
   "metadata": {},
   "source": [
    "# Librerías"
   ]
  },
  {
   "cell_type": "code",
   "execution_count": 48,
   "metadata": {},
   "outputs": [],
   "source": [
    "import pandas as pd\n",
    "import numpy as np\n",
    "import matplotlib.pyplot as plt\n",
    "\n",
    "import os\n",
    "import string\n",
    "import re\n",
    "import io\n",
    "import json\n",
    "\n",
    "import nltk\n",
    "from nltk.corpus import stopwords\n",
    "from nltk.stem import WordNetLemmatizer\n",
    "\n",
    "from sklearn.model_selection import train_test_split\n",
    "from sklearn.preprocessing import LabelEncoder\n",
    "from sklearn.metrics import confusion_matrix\n",
    "from sklearn.utils.multiclass import unique_labels\n",
    "\n",
    "import tensorflow as tf\n",
    "from tensorflow.keras.preprocessing.text import Tokenizer, tokenizer_from_json\n",
    "from tensorflow.keras.preprocessing.sequence import pad_sequences\n",
    "from tensorflow.keras.models import Sequential\n",
    "from tensorflow.keras.layers import Embedding, LSTM, Dense, Dropout, SpatialDropout1D\n"
   ]
  },
  {
   "cell_type": "markdown",
   "metadata": {},
   "source": [
    "# Datos"
   ]
  },
  {
   "cell_type": "markdown",
   "metadata": {},
   "source": [
    "Se importan y concatenan las distintas fuentes de datos."
   ]
  },
  {
   "cell_type": "code",
   "execution_count": 8,
   "metadata": {},
   "outputs": [
    {
     "data": {
      "text/html": [
       "<div>\n",
       "<style scoped>\n",
       "    .dataframe tbody tr th:only-of-type {\n",
       "        vertical-align: middle;\n",
       "    }\n",
       "\n",
       "    .dataframe tbody tr th {\n",
       "        vertical-align: top;\n",
       "    }\n",
       "\n",
       "    .dataframe thead th {\n",
       "        text-align: right;\n",
       "    }\n",
       "</style>\n",
       "<table border=\"1\" class=\"dataframe\">\n",
       "  <thead>\n",
       "    <tr style=\"text-align: right;\">\n",
       "      <th></th>\n",
       "      <th>title</th>\n",
       "      <th>text</th>\n",
       "      <th>word_count</th>\n",
       "      <th>category</th>\n",
       "      <th>source</th>\n",
       "    </tr>\n",
       "  </thead>\n",
       "  <tbody>\n",
       "    <tr>\n",
       "      <th>0</th>\n",
       "      <td>Astronomaycienciageneralcoleccindetrabajoscien...</td>\n",
       "      <td>\\n \\n \\n \\n \\n\\n \\n \\n \\n\\n \\n   \\n Índice \\n ...</td>\n",
       "      <td>187635</td>\n",
       "      <td>Ciencias</td>\n",
       "      <td>epub</td>\n",
       "    </tr>\n",
       "    <tr>\n",
       "      <th>1</th>\n",
       "      <td>Elmecanismodelareaccinqumicadiscursoledoenlaso...</td>\n",
       "      <td>\\n \\n \\n \\n \\n\\n \\n \\n \\n\\n \\n   \\n Índice \\n ...</td>\n",
       "      <td>9797</td>\n",
       "      <td>Ciencias</td>\n",
       "      <td>epub</td>\n",
       "    </tr>\n",
       "    <tr>\n",
       "      <th>2</th>\n",
       "      <td>ElmundodelosvegetalesTextoimpresofenmenosymist...</td>\n",
       "      <td>\\n \\n \\n \\n \\n\\n \\n \\n \\n\\n \\n   \\n Índice \\n ...</td>\n",
       "      <td>48946</td>\n",
       "      <td>Ciencias</td>\n",
       "      <td>epub</td>\n",
       "    </tr>\n",
       "    <tr>\n",
       "      <th>3</th>\n",
       "      <td>Hongoscomestiblesyvenenosos</td>\n",
       "      <td>\\n \\n \\n \\n \\n\\n \\n \\n \\n\\n \\n   \\n Índice \\n ...</td>\n",
       "      <td>27725</td>\n",
       "      <td>Ciencias</td>\n",
       "      <td>epub</td>\n",
       "    </tr>\n",
       "    <tr>\n",
       "      <th>4</th>\n",
       "      <td>LateoriadarwinianaylaCreacinllamadaindependiente</td>\n",
       "      <td>\\n \\n \\n \\n \\n\\n \\n \\n \\n\\n \\n   \\n Índice \\n ...</td>\n",
       "      <td>83198</td>\n",
       "      <td>Ciencias</td>\n",
       "      <td>epub</td>\n",
       "    </tr>\n",
       "    <tr>\n",
       "      <th>...</th>\n",
       "      <td>...</td>\n",
       "      <td>...</td>\n",
       "      <td>...</td>\n",
       "      <td>...</td>\n",
       "      <td>...</td>\n",
       "    </tr>\n",
       "    <tr>\n",
       "      <th>112</th>\n",
       "      <td>imperio</td>\n",
       "      <td>Un imperio (del latín, imperium) es una \"unida...</td>\n",
       "      <td>1627</td>\n",
       "      <td>Historia</td>\n",
       "      <td>wiki</td>\n",
       "    </tr>\n",
       "    <tr>\n",
       "      <th>113</th>\n",
       "      <td>batalla</td>\n",
       "      <td>Una batalla se podría definir como un combate ...</td>\n",
       "      <td>3728</td>\n",
       "      <td>Historia</td>\n",
       "      <td>wiki</td>\n",
       "    </tr>\n",
       "    <tr>\n",
       "      <th>114</th>\n",
       "      <td>arqueología</td>\n",
       "      <td>La arqueología (del griego «ἀρχαίος» archaios,...</td>\n",
       "      <td>5167</td>\n",
       "      <td>Historia</td>\n",
       "      <td>wiki</td>\n",
       "    </tr>\n",
       "    <tr>\n",
       "      <th>115</th>\n",
       "      <td>cronología</td>\n",
       "      <td>Cronología  (del griego χρόνος crónos ‘tiempo’...</td>\n",
       "      <td>6947</td>\n",
       "      <td>Historia</td>\n",
       "      <td>wiki</td>\n",
       "    </tr>\n",
       "    <tr>\n",
       "      <th>116</th>\n",
       "      <td>glaciación</td>\n",
       "      <td>Una glaciación es un periodo de larga duración...</td>\n",
       "      <td>7024</td>\n",
       "      <td>Historia</td>\n",
       "      <td>wiki</td>\n",
       "    </tr>\n",
       "  </tbody>\n",
       "</table>\n",
       "<p>117 rows × 5 columns</p>\n",
       "</div>"
      ],
      "text/plain": [
       "                                                 title  \\\n",
       "0    Astronomaycienciageneralcoleccindetrabajoscien...   \n",
       "1    Elmecanismodelareaccinqumicadiscursoledoenlaso...   \n",
       "2    ElmundodelosvegetalesTextoimpresofenmenosymist...   \n",
       "3                          Hongoscomestiblesyvenenosos   \n",
       "4     LateoriadarwinianaylaCreacinllamadaindependiente   \n",
       "..                                                 ...   \n",
       "112                                            imperio   \n",
       "113                                            batalla   \n",
       "114                                        arqueología   \n",
       "115                                         cronología   \n",
       "116                                         glaciación   \n",
       "\n",
       "                                                  text  word_count  category  \\\n",
       "0    \\n \\n \\n \\n \\n\\n \\n \\n \\n\\n \\n   \\n Índice \\n ...      187635  Ciencias   \n",
       "1    \\n \\n \\n \\n \\n\\n \\n \\n \\n\\n \\n   \\n Índice \\n ...        9797  Ciencias   \n",
       "2    \\n \\n \\n \\n \\n\\n \\n \\n \\n\\n \\n   \\n Índice \\n ...       48946  Ciencias   \n",
       "3    \\n \\n \\n \\n \\n\\n \\n \\n \\n\\n \\n   \\n Índice \\n ...       27725  Ciencias   \n",
       "4    \\n \\n \\n \\n \\n\\n \\n \\n \\n\\n \\n   \\n Índice \\n ...       83198  Ciencias   \n",
       "..                                                 ...         ...       ...   \n",
       "112  Un imperio (del latín, imperium) es una \"unida...        1627  Historia   \n",
       "113  Una batalla se podría definir como un combate ...        3728  Historia   \n",
       "114  La arqueología (del griego «ἀρχαίος» archaios,...        5167  Historia   \n",
       "115  Cronología  (del griego χρόνος crónos ‘tiempo’...        6947  Historia   \n",
       "116  Una glaciación es un periodo de larga duración...        7024  Historia   \n",
       "\n",
       "    source  \n",
       "0     epub  \n",
       "1     epub  \n",
       "2     epub  \n",
       "3     epub  \n",
       "4     epub  \n",
       "..     ...  \n",
       "112   wiki  \n",
       "113   wiki  \n",
       "114   wiki  \n",
       "115   wiki  \n",
       "116   wiki  \n",
       "\n",
       "[117 rows x 5 columns]"
      ]
     },
     "execution_count": 8,
     "metadata": {},
     "output_type": "execute_result"
    }
   ],
   "source": [
    "data = pd.DataFrame([])\n",
    "\n",
    "data_path = \"dataset\"\n",
    "filenames = os.listdir(data_path)\n",
    "for filename in filenames:\n",
    "    if filename.endswith(\".csv\"):\n",
    "        csv_file = pd.read_csv(os.path.join(data_path, filename))\n",
    "        data = pd.concat([data, csv_file])\n",
    "        \n",
    "data.reset_index(inplace=True, drop=True)\n",
    "data"
   ]
  },
  {
   "cell_type": "markdown",
   "metadata": {},
   "source": [
    "# Limpieza"
   ]
  },
  {
   "cell_type": "markdown",
   "metadata": {},
   "source": [
    "La limpieza consiste en:\n",
    "* Convertir todos los textos a minúscula\n",
    "* Eliminar stopswords, números y signos de puntuación\n",
    "* Obtener los lemas de las palabras\n",
    "* Crea sentencias con los saltos de línea, para obtener textos mas cortos.\n",
    "* Eliminar registros con menos de 10 palabras\n",
    "\n",
    "Retorna el DataFrame limpio donde podemos averiguar la cantidad de registros, la longitud máxima de las sentencias y la longitud promedio. Estos últimos valores los necesitamos conocer para saber dónde podemos truncar las sentencias."
   ]
  },
  {
   "cell_type": "code",
   "execution_count": 9,
   "metadata": {},
   "outputs": [
    {
     "name": "stderr",
     "output_type": "stream",
     "text": [
      "[nltk_data] Downloading package stopwords to\n",
      "[nltk_data]     C:\\Users\\Ayo\\AppData\\Roaming\\nltk_data...\n",
      "[nltk_data]   Package stopwords is already up-to-date!\n",
      "[nltk_data] Downloading package omw to\n",
      "[nltk_data]     C:\\Users\\Ayo\\AppData\\Roaming\\nltk_data...\n",
      "[nltk_data]   Package omw is already up-to-date!\n"
     ]
    },
    {
     "data": {
      "text/plain": [
       "True"
      ]
     },
     "execution_count": 9,
     "metadata": {},
     "output_type": "execute_result"
    }
   ],
   "source": [
    "# Descargas necesarias\n",
    "nltk.download('stopwords')\n",
    "nltk.download('wordnet')\n",
    "nltk.download('omw')\n",
    "# nltk.download('punkt')"
   ]
  },
  {
   "cell_type": "code",
   "execution_count": 10,
   "metadata": {},
   "outputs": [],
   "source": [
    "def clean_df(df):\n",
    "  \n",
    "    df = df.copy()\n",
    "    \n",
    "    # Convertir todo a minúsculas\n",
    "    df['text'] = df['text'].str.lower()\n",
    "    \n",
    "    # Eliminamos signos de puntuación y números\n",
    "    punctuation = string.punctuation + \"¡¿«»©\"\n",
    "    df['text'] = df['text'].apply(lambda x: x.translate(str.maketrans(punctuation, \" \" * len(punctuation))))\n",
    "    \n",
    "    # Eliminar palabras que contienen caracteres diferentes al español\n",
    "    pattern = re.compile(r'^[a-záéíóúüñ]+$')\n",
    "    df['text'] = df['text'].apply(lambda x: ' '.join([word for word in x.split() if pattern.match(word)]))\n",
    "    \n",
    "    # Eliminar stopwords\n",
    "    stop_words = set(stopwords.words(['spanish', 'english']))\n",
    "    df['text'] = df['text'].apply(lambda x: ' '.join([word for word in x.split() if word not in stop_words]))\n",
    "    \n",
    "    # Obtener lemas de las palabras\n",
    "    lemmatizer = WordNetLemmatizer()\n",
    "    df['text'] = df['text'].apply(lambda x: ' '.join([lemmatizer.lemmatize(word) for word in x.split()]))\n",
    "    \n",
    "    # Volver a contar palabras\n",
    "    df['word_count'] = df['text'].apply(lambda x: len(x.split()))\n",
    "    \n",
    "    return df"
   ]
  },
  {
   "cell_type": "code",
   "execution_count": 11,
   "metadata": {},
   "outputs": [
    {
     "data": {
      "text/html": [
       "<div>\n",
       "<style scoped>\n",
       "    .dataframe tbody tr th:only-of-type {\n",
       "        vertical-align: middle;\n",
       "    }\n",
       "\n",
       "    .dataframe tbody tr th {\n",
       "        vertical-align: top;\n",
       "    }\n",
       "\n",
       "    .dataframe thead th {\n",
       "        text-align: right;\n",
       "    }\n",
       "</style>\n",
       "<table border=\"1\" class=\"dataframe\">\n",
       "  <thead>\n",
       "    <tr style=\"text-align: right;\">\n",
       "      <th></th>\n",
       "      <th>title</th>\n",
       "      <th>text</th>\n",
       "      <th>word_count</th>\n",
       "      <th>category</th>\n",
       "      <th>source</th>\n",
       "    </tr>\n",
       "  </thead>\n",
       "  <tbody>\n",
       "    <tr>\n",
       "      <th>0</th>\n",
       "      <td>Astronomaycienciageneralcoleccindetrabajoscien...</td>\n",
       "      <td>índice cubierta portada preliminares astronomí...</td>\n",
       "      <td>100030</td>\n",
       "      <td>Ciencias</td>\n",
       "      <td>epub</td>\n",
       "    </tr>\n",
       "    <tr>\n",
       "      <th>1</th>\n",
       "      <td>Elmecanismodelareaccinqumicadiscursoledoenlaso...</td>\n",
       "      <td>índice cubierta portada preliminares mecanismo...</td>\n",
       "      <td>5033</td>\n",
       "      <td>Ciencias</td>\n",
       "      <td>epub</td>\n",
       "    </tr>\n",
       "    <tr>\n",
       "      <th>2</th>\n",
       "      <td>ElmundodelosvegetalesTextoimpresofenmenosymist...</td>\n",
       "      <td>índice cubierta portada preliminares mundo veg...</td>\n",
       "      <td>26442</td>\n",
       "      <td>Ciencias</td>\n",
       "      <td>epub</td>\n",
       "    </tr>\n",
       "    <tr>\n",
       "      <th>3</th>\n",
       "      <td>Hongoscomestiblesyvenenosos</td>\n",
       "      <td>índice cubierta portada preliminares hongos co...</td>\n",
       "      <td>15119</td>\n",
       "      <td>Ciencias</td>\n",
       "      <td>epub</td>\n",
       "    </tr>\n",
       "    <tr>\n",
       "      <th>4</th>\n",
       "      <td>LateoriadarwinianaylaCreacinllamadaindependiente</td>\n",
       "      <td>índice cubierta portada preliminares teoría da...</td>\n",
       "      <td>43025</td>\n",
       "      <td>Ciencias</td>\n",
       "      <td>epub</td>\n",
       "    </tr>\n",
       "    <tr>\n",
       "      <th>...</th>\n",
       "      <td>...</td>\n",
       "      <td>...</td>\n",
       "      <td>...</td>\n",
       "      <td>...</td>\n",
       "      <td>...</td>\n",
       "    </tr>\n",
       "    <tr>\n",
       "      <th>112</th>\n",
       "      <td>imperio</td>\n",
       "      <td>imperio latín imperium unidad política formada...</td>\n",
       "      <td>918</td>\n",
       "      <td>Historia</td>\n",
       "      <td>wiki</td>\n",
       "    </tr>\n",
       "    <tr>\n",
       "      <th>113</th>\n",
       "      <td>batalla</td>\n",
       "      <td>batalla podría definir combate do contendiente...</td>\n",
       "      <td>1927</td>\n",
       "      <td>Historia</td>\n",
       "      <td>wiki</td>\n",
       "    </tr>\n",
       "    <tr>\n",
       "      <th>114</th>\n",
       "      <td>arqueología</td>\n",
       "      <td>arqueología griego archaios viejo antiguo logo...</td>\n",
       "      <td>2675</td>\n",
       "      <td>Historia</td>\n",
       "      <td>wiki</td>\n",
       "    </tr>\n",
       "    <tr>\n",
       "      <th>115</th>\n",
       "      <td>cronología</td>\n",
       "      <td>cronología griego crónos lógos ciencias auxili...</td>\n",
       "      <td>3242</td>\n",
       "      <td>Historia</td>\n",
       "      <td>wiki</td>\n",
       "    </tr>\n",
       "    <tr>\n",
       "      <th>116</th>\n",
       "      <td>glaciación</td>\n",
       "      <td>glaciación periodo larga duración baja tempera...</td>\n",
       "      <td>3602</td>\n",
       "      <td>Historia</td>\n",
       "      <td>wiki</td>\n",
       "    </tr>\n",
       "  </tbody>\n",
       "</table>\n",
       "<p>117 rows × 5 columns</p>\n",
       "</div>"
      ],
      "text/plain": [
       "                                                 title  \\\n",
       "0    Astronomaycienciageneralcoleccindetrabajoscien...   \n",
       "1    Elmecanismodelareaccinqumicadiscursoledoenlaso...   \n",
       "2    ElmundodelosvegetalesTextoimpresofenmenosymist...   \n",
       "3                          Hongoscomestiblesyvenenosos   \n",
       "4     LateoriadarwinianaylaCreacinllamadaindependiente   \n",
       "..                                                 ...   \n",
       "112                                            imperio   \n",
       "113                                            batalla   \n",
       "114                                        arqueología   \n",
       "115                                         cronología   \n",
       "116                                         glaciación   \n",
       "\n",
       "                                                  text  word_count  category  \\\n",
       "0    índice cubierta portada preliminares astronomí...      100030  Ciencias   \n",
       "1    índice cubierta portada preliminares mecanismo...        5033  Ciencias   \n",
       "2    índice cubierta portada preliminares mundo veg...       26442  Ciencias   \n",
       "3    índice cubierta portada preliminares hongos co...       15119  Ciencias   \n",
       "4    índice cubierta portada preliminares teoría da...       43025  Ciencias   \n",
       "..                                                 ...         ...       ...   \n",
       "112  imperio latín imperium unidad política formada...         918  Historia   \n",
       "113  batalla podría definir combate do contendiente...        1927  Historia   \n",
       "114  arqueología griego archaios viejo antiguo logo...        2675  Historia   \n",
       "115  cronología griego crónos lógos ciencias auxili...        3242  Historia   \n",
       "116  glaciación periodo larga duración baja tempera...        3602  Historia   \n",
       "\n",
       "    source  \n",
       "0     epub  \n",
       "1     epub  \n",
       "2     epub  \n",
       "3     epub  \n",
       "4     epub  \n",
       "..     ...  \n",
       "112   wiki  \n",
       "113   wiki  \n",
       "114   wiki  \n",
       "115   wiki  \n",
       "116   wiki  \n",
       "\n",
       "[117 rows x 5 columns]"
      ]
     },
     "execution_count": 11,
     "metadata": {},
     "output_type": "execute_result"
    }
   ],
   "source": [
    "df = clean_df(data)\n",
    "df"
   ]
  },
  {
   "cell_type": "code",
   "execution_count": 40,
   "metadata": {},
   "outputs": [],
   "source": [
    "# Se guardan los textos filtrados\n",
    "df.to_csv('df_normalized.csv', index=False)"
   ]
  },
  {
   "cell_type": "code",
   "execution_count": 12,
   "metadata": {},
   "outputs": [
    {
     "data": {
      "text/html": [
       "<div>\n",
       "<style scoped>\n",
       "    .dataframe tbody tr th:only-of-type {\n",
       "        vertical-align: middle;\n",
       "    }\n",
       "\n",
       "    .dataframe tbody tr th {\n",
       "        vertical-align: top;\n",
       "    }\n",
       "\n",
       "    .dataframe thead th {\n",
       "        text-align: right;\n",
       "    }\n",
       "</style>\n",
       "<table border=\"1\" class=\"dataframe\">\n",
       "  <thead>\n",
       "    <tr style=\"text-align: right;\">\n",
       "      <th></th>\n",
       "      <th>title</th>\n",
       "      <th>text</th>\n",
       "      <th>word_count</th>\n",
       "      <th>category</th>\n",
       "      <th>source</th>\n",
       "    </tr>\n",
       "  </thead>\n",
       "  <tbody>\n",
       "    <tr>\n",
       "      <th>80</th>\n",
       "      <td>economía</td>\n",
       "      <td>economía griego oikos casa reparto distribució...</td>\n",
       "      <td>545</td>\n",
       "      <td>Sociales</td>\n",
       "      <td>wiki</td>\n",
       "    </tr>\n",
       "    <tr>\n",
       "      <th>82</th>\n",
       "      <td>elecciones</td>\n",
       "      <td>elecciones comicios proceso institucional elec...</td>\n",
       "      <td>949</td>\n",
       "      <td>Sociales</td>\n",
       "      <td>wiki</td>\n",
       "    </tr>\n",
       "    <tr>\n",
       "      <th>91</th>\n",
       "      <td>espiritualidad</td>\n",
       "      <td>término espiritualidad latín spiritus espíritu...</td>\n",
       "      <td>950</td>\n",
       "      <td>Religión</td>\n",
       "      <td>wiki</td>\n",
       "    </tr>\n",
       "    <tr>\n",
       "      <th>92</th>\n",
       "      <td>doctrina</td>\n",
       "      <td>doctrina latín conjunto global concepciones te...</td>\n",
       "      <td>754</td>\n",
       "      <td>Religión</td>\n",
       "      <td>wiki</td>\n",
       "    </tr>\n",
       "    <tr>\n",
       "      <th>95</th>\n",
       "      <td>sagrado</td>\n",
       "      <td>sagrado latín considera digno veneración u obj...</td>\n",
       "      <td>965</td>\n",
       "      <td>Religión</td>\n",
       "      <td>wiki</td>\n",
       "    </tr>\n",
       "    <tr>\n",
       "      <th>112</th>\n",
       "      <td>imperio</td>\n",
       "      <td>imperio latín imperium unidad política formada...</td>\n",
       "      <td>918</td>\n",
       "      <td>Historia</td>\n",
       "      <td>wiki</td>\n",
       "    </tr>\n",
       "  </tbody>\n",
       "</table>\n",
       "</div>"
      ],
      "text/plain": [
       "              title                                               text  \\\n",
       "80         economía  economía griego oikos casa reparto distribució...   \n",
       "82       elecciones  elecciones comicios proceso institucional elec...   \n",
       "91   espiritualidad  término espiritualidad latín spiritus espíritu...   \n",
       "92         doctrina  doctrina latín conjunto global concepciones te...   \n",
       "95          sagrado  sagrado latín considera digno veneración u obj...   \n",
       "112         imperio  imperio latín imperium unidad política formada...   \n",
       "\n",
       "     word_count  category source  \n",
       "80          545  Sociales   wiki  \n",
       "82          949  Sociales   wiki  \n",
       "91          950  Religión   wiki  \n",
       "92          754  Religión   wiki  \n",
       "95          965  Religión   wiki  \n",
       "112         918  Historia   wiki  "
      ]
     },
     "execution_count": 12,
     "metadata": {},
     "output_type": "execute_result"
    }
   ],
   "source": [
    "df[df['word_count'] < 1000]"
   ]
  },
  {
   "cell_type": "code",
   "execution_count": 13,
   "metadata": {},
   "outputs": [
    {
     "name": "stdout",
     "output_type": "stream",
     "text": [
      "Cantidad de registros: 117\n",
      "Longitud máxima de palabras: 511665\n",
      "Longitud mínima palabras: 545\n",
      "Longitud media palabras: 39424\n"
     ]
    }
   ],
   "source": [
    "# cantidad de registros\n",
    "cant_registros = df.shape[0]\n",
    "print(\"Cantidad de registros:\", cant_registros)\n",
    "\n",
    "# maxima longitud de texto\n",
    "max_longitud = max(df['text'].apply(lambda x: len(x.split())))\n",
    "print(\"Longitud máxima de palabras:\", max_longitud)\n",
    "\n",
    "# minima longitud de texto\n",
    "max_longitud = min(df['text'].apply(lambda x: len(x.split())))\n",
    "print(\"Longitud mínima palabras:\", max_longitud)\n",
    "\n",
    "# longitud promedio de texto\n",
    "mean_longitud = round(np.mean(df['text'].apply(lambda x: len(x.split()))))\n",
    "print(\"Longitud media palabras:\", mean_longitud)"
   ]
  },
  {
   "cell_type": "markdown",
   "metadata": {},
   "source": [
    "# Separación de datos en train, validation y test"
   ]
  },
  {
   "cell_type": "markdown",
   "metadata": {},
   "source": [
    "En primer lugar, necesitamos que las sentencias, las etiquetas de cada sentencia y las categorías que tenemos se guarden en una lista. Para ello, usamos la función `obtener_datos_etiquetas`."
   ]
  },
  {
   "cell_type": "code",
   "execution_count": 14,
   "metadata": {},
   "outputs": [],
   "source": [
    "df_train, df_test = train_test_split(df, test_size=0.2, random_state=42, stratify=df['category'])\n",
    "df_train, df_val = train_test_split(df_train, test_size=0.2, random_state=42, stratify=df_train['category'])"
   ]
  },
  {
   "cell_type": "code",
   "execution_count": 15,
   "metadata": {},
   "outputs": [
    {
     "name": "stdout",
     "output_type": "stream",
     "text": [
      "74\n",
      "24\n",
      "19\n"
     ]
    }
   ],
   "source": [
    "print(len(df_train))\n",
    "print(len(df_test))\n",
    "print(len(df_val))"
   ]
  },
  {
   "cell_type": "markdown",
   "metadata": {},
   "source": [
    "## Acondicionamiento de los datos: Tokenización"
   ]
  },
  {
   "cell_type": "markdown",
   "metadata": {},
   "source": [
    "\n",
    "Para poder utilizar NLP, es necesario hacer algunos pasos para acondicionarlos.\n",
    "\n",
    "En primer lugar se usa la función `fit_tokenizer` que toma como entrada un conjunto de textos y ajusta el tokenizador ara que pueda entender y representar correctamente el vocabulario de esos textos. Un tokenizador es una herramienta que se utiliza para dividir el texto en unidades más pequeñas, llamadas tokens. Estos tokens pueden ser palabras individuales, caracteres, subpalabras, etc.\n",
    "\n",
    "Durante el ajuste, el tokenizador analiza los textos y construye un vocabulario, asignando un índice único a cada token."
   ]
  },
  {
   "cell_type": "code",
   "execution_count": 16,
   "metadata": {},
   "outputs": [],
   "source": [
    "# Parámetros\n",
    "max_words = 10000  # Número máximo de palabras a considerar\n",
    "max_len = 500  # Longitud máxima de las secuencias de texto\n",
    "embedding_dim = 128  # Dimensión del embedding"
   ]
  },
  {
   "cell_type": "code",
   "execution_count": 17,
   "metadata": {},
   "outputs": [],
   "source": [
    "# Preprocesamiento de textos\n",
    "tokenizer = Tokenizer(num_words=max_words)\n",
    "tokenizer.fit_on_texts(df_train['text'].tolist())"
   ]
  },
  {
   "cell_type": "code",
   "execution_count": 46,
   "metadata": {},
   "outputs": [],
   "source": [
    "tokenizer_json = tokenizer.to_json()\n",
    "with io.open('models/tokenizer.json', 'w', encoding='utf-8') as f:\n",
    "    f.write(json.dumps(tokenizer_json, ensure_ascii=False))"
   ]
  },
  {
   "cell_type": "code",
   "execution_count": 53,
   "metadata": {},
   "outputs": [],
   "source": [
    "with open('models/tokenizer.json') as f:\n",
    "    data = json.load(f)\n",
    "    tokenizer = tokenizer_from_json(data)"
   ]
  },
  {
   "cell_type": "markdown",
   "metadata": {},
   "source": [
    "A continuación, es necesario convertir una lista de textos en secuencias numéricas y luego realizar el relleno de secuencias (padding) para que todas las secuencias tengan la misma longitud"
   ]
  },
  {
   "cell_type": "code",
   "execution_count": 55,
   "metadata": {},
   "outputs": [],
   "source": [
    "train_sequences = tokenizer.texts_to_sequences(df_train['text'])\n",
    "test_sequences = tokenizer.texts_to_sequences(df_test['text'])\n",
    "val_sequences = tokenizer.texts_to_sequences(df_val['text'])"
   ]
  },
  {
   "cell_type": "code",
   "execution_count": 56,
   "metadata": {},
   "outputs": [],
   "source": [
    "X_train = pad_sequences(train_sequences, maxlen=max_len)\n",
    "X_test = pad_sequences(test_sequences, maxlen=max_len)\n",
    "X_val = pad_sequences(val_sequences, maxlen=max_len)"
   ]
  },
  {
   "cell_type": "code",
   "execution_count": 57,
   "metadata": {},
   "outputs": [
    {
     "name": "stdout",
     "output_type": "stream",
     "text": [
      "(74, 500)\n",
      "(24, 500)\n",
      "(19, 500)\n"
     ]
    }
   ],
   "source": [
    "print(X_train.shape)\n",
    "print(X_test.shape)\n",
    "print(X_val.shape)"
   ]
  },
  {
   "cell_type": "code",
   "execution_count": 21,
   "metadata": {},
   "outputs": [],
   "source": [
    "train_labels = df_train['category']\n",
    "test_labels = df_test['category']\n",
    "val_labels = df_val['category']"
   ]
  },
  {
   "cell_type": "code",
   "execution_count": 22,
   "metadata": {},
   "outputs": [
    {
     "name": "stdout",
     "output_type": "stream",
     "text": [
      "['Ciencias', 'Historia', 'Religión', 'Sociales']\n"
     ]
    }
   ],
   "source": [
    "label_encoder = LabelEncoder()\n",
    "label_encoder.fit(df_train['category'])\n",
    "categories = list(label_encoder.classes_)\n",
    "print(categories)\n",
    "y_train = label_encoder.transform(df_train['category'])\n",
    "y_train = tf.keras.utils.to_categorical(y_train, num_classes=len(categories))\n",
    "y_val = label_encoder.transform(df_val['category'])\n",
    "y_val = tf.keras.utils.to_categorical(y_val, num_classes=len(categories))\n",
    "y_test = label_encoder.transform(df_test['category'])\n",
    "y_test = tf.keras.utils.to_categorical(y_test, num_classes=len(categories))\n"
   ]
  },
  {
   "cell_type": "code",
   "execution_count": 74,
   "metadata": {},
   "outputs": [
    {
     "data": {
      "text/plain": [
       "array(['Ciencias', 'Historia', 'Religión', 'Sociales'], dtype=object)"
      ]
     },
     "execution_count": 74,
     "metadata": {},
     "output_type": "execute_result"
    }
   ],
   "source": [
    "label_encoder.classes_"
   ]
  },
  {
   "cell_type": "code",
   "execution_count": 75,
   "metadata": {},
   "outputs": [],
   "source": [
    "# Guardar el label encoder\n",
    "label_encoder_data = {'classes': label_encoder.classes_.tolist()}\n",
    "with open('models/label_encoder.json', 'w') as f:\n",
    "    json.dump(label_encoder_data, f)"
   ]
  },
  {
   "cell_type": "code",
   "execution_count": 73,
   "metadata": {},
   "outputs": [
    {
     "name": "stdout",
     "output_type": "stream",
     "text": [
      "(74, 4)\n",
      "(24, 4)\n",
      "(19, 4)\n"
     ]
    }
   ],
   "source": [
    "print(y_train.shape)\n",
    "print(y_test.shape)\n",
    "print(y_val.shape)"
   ]
  },
  {
   "cell_type": "markdown",
   "metadata": {},
   "source": [
    "## Modelo de clasificación de texto"
   ]
  },
  {
   "cell_type": "markdown",
   "metadata": {},
   "source": [
    "A continuación, creamos el modelo que usaremos en el entrenamiento. Para ello usamos la función `crear_modelo`.\n",
    "\n",
    "En este caso se eligió un modelo sequencial de tensorflow compuesto por las siguientes capas:\n",
    "\n",
    "* **Capa de Embedding**: Esta capa se encarga de mapear las palabras del vocabulario a vectores de números reales de longitud `embedding_dim`. Los parámetros `num_words`, `embedding_dim` y `maxlen` son utilizados para definir los atributos de esta capa. `num_words` representa el tamaño del vocabulario, `embedding_dim` especifica la dimensión de los vectores de embedding y `maxlen` es la longitud máxima de las secuencias de entrada.\n",
    "\n",
    "* **Capa LSTM**: Esta capa contiene una capa LSTM que procesa la secuencia de entrada de forma recurrente \n",
    "\n",
    "* **Capas Dense**: Capa auxiliares\n",
    "\n",
    "* **Capa Dropout**: Capa auxiliar\n",
    "\n",
    "\n",
    "* **Capa Densa**: Esta es la capa de salida del modelo y tiene una función de activación softmax. Mapea las salidas de la capa anterior a las probabilidades de pertenecer a cada una de las categorías. El parámetro `num_categories` define el número de categorías de salida.\n",
    "\n",
    "Finalmente, se utiliza el método `compile` para configurar la etapa de compilación de un modelo en Keras, donde se especifican la funció de pérdida, el algoritmo de optimización y las métricas adoptadas."
   ]
  },
  {
   "cell_type": "code",
   "execution_count": 60,
   "metadata": {},
   "outputs": [
    {
     "name": "stderr",
     "output_type": "stream",
     "text": [
      "c:\\Users\\Ayo\\anaconda3\\envs\\proyecto\\Lib\\site-packages\\keras\\src\\layers\\core\\embedding.py:90: UserWarning: Argument `input_length` is deprecated. Just remove it.\n",
      "  warnings.warn(\n"
     ]
    }
   ],
   "source": [
    "# Definición del modelo\n",
    "model = Sequential()\n",
    "model.add(Embedding(max_words, embedding_dim, input_length=max_len))\n",
    "# model.add(SpatialDropout1D(0.2))\n",
    "model.add(LSTM(256, dropout=0.2, recurrent_dropout=0.2))\n",
    "# model.add(tf.keras.layers.Bidirectional(LSTM(128, dropout=0.2, recurrent_dropout=0.2, return_sequences=True)))\n",
    "# model.add(tf.keras.layers.Bidirectional(LSTM(128, dropout=0.2, recurrent_dropout=0.2)))\n",
    "model.add(Dense(512))\n",
    "model.add(Dense(256))\n",
    "model.add(Dropout(0.3))\n",
    "model.add(Dense(len(categories), activation='softmax'))\n",
    "\n",
    "# Compilación del modelo\n",
    "# model.compile(loss='categorical_crossentropy', optimizer='adam', metrics=['accuracy'])\n",
    "\n",
    "model.compile(loss='categorical_crossentropy',\n",
    "              optimizer=tf.keras.optimizers.Adam(learning_rate=0.001),\n",
    "              metrics=['accuracy'])\n"
   ]
  },
  {
   "cell_type": "markdown",
   "metadata": {},
   "source": [
    "Finalmente, se utiliza el método `fit` para entrenar el modelo con los datos de entrenamiento y validar su rendimiento con los datos de validación.\n",
    "\n",
    "En este punto es donde se inicia el proceso de entrenamiento del modelo. Durante cada época, se ajustan los pesos del modelo utilizando el algoritmo de optimización especificado, se calcula la función de pérdida en los datos de entrenamiento y se evalúa el rendimiento del modelo en los datos de validación. El historial del entrenamiento, incluyendo las métricas y pérdidas calculadas en cada época, se guarda en el objeto `history`."
   ]
  },
  {
   "cell_type": "code",
   "execution_count": 61,
   "metadata": {},
   "outputs": [
    {
     "name": "stdout",
     "output_type": "stream",
     "text": [
      "Epoch 1/20\n",
      "\u001b[1m2/2\u001b[0m \u001b[32m━━━━━━━━━━━━━━━━━━━━\u001b[0m\u001b[37m\u001b[0m \u001b[1m5s\u001b[0m 778ms/step - accuracy: 0.2313 - loss: 1.3865 - val_accuracy: 0.3158 - val_loss: 1.3859\n",
      "Epoch 2/20\n",
      "\u001b[1m2/2\u001b[0m \u001b[32m━━━━━━━━━━━━━━━━━━━━\u001b[0m\u001b[37m\u001b[0m \u001b[1m2s\u001b[0m 476ms/step - accuracy: 0.5232 - loss: 1.3674 - val_accuracy: 0.3684 - val_loss: 1.3897\n",
      "Epoch 3/20\n",
      "\u001b[1m2/2\u001b[0m \u001b[32m━━━━━━━━━━━━━━━━━━━━\u001b[0m\u001b[37m\u001b[0m \u001b[1m1s\u001b[0m 452ms/step - accuracy: 0.4147 - loss: 1.3377 - val_accuracy: 0.3684 - val_loss: 1.3954\n",
      "Epoch 4/20\n",
      "\u001b[1m2/2\u001b[0m \u001b[32m━━━━━━━━━━━━━━━━━━━━\u001b[0m\u001b[37m\u001b[0m \u001b[1m2s\u001b[0m 512ms/step - accuracy: 0.4559 - loss: 1.2931 - val_accuracy: 0.3684 - val_loss: 1.3983\n",
      "Epoch 5/20\n",
      "\u001b[1m2/2\u001b[0m \u001b[32m━━━━━━━━━━━━━━━━━━━━\u001b[0m\u001b[37m\u001b[0m \u001b[1m1s\u001b[0m 455ms/step - accuracy: 0.7081 - loss: 1.1645 - val_accuracy: 0.3158 - val_loss: 1.4622\n",
      "Epoch 6/20\n",
      "\u001b[1m2/2\u001b[0m \u001b[32m━━━━━━━━━━━━━━━━━━━━\u001b[0m\u001b[37m\u001b[0m \u001b[1m1s\u001b[0m 475ms/step - accuracy: 0.7649 - loss: 0.9490 - val_accuracy: 0.2632 - val_loss: 1.4010\n",
      "Epoch 7/20\n",
      "\u001b[1m2/2\u001b[0m \u001b[32m━━━━━━━━━━━━━━━━━━━━\u001b[0m\u001b[37m\u001b[0m \u001b[1m2s\u001b[0m 516ms/step - accuracy: 0.7934 - loss: 0.7511 - val_accuracy: 0.4211 - val_loss: 1.3863\n",
      "Epoch 8/20\n",
      "\u001b[1m2/2\u001b[0m \u001b[32m━━━━━━━━━━━━━━━━━━━━\u001b[0m\u001b[37m\u001b[0m \u001b[1m1s\u001b[0m 444ms/step - accuracy: 0.8204 - loss: 0.6257 - val_accuracy: 0.4211 - val_loss: 1.5105\n",
      "Epoch 9/20\n",
      "\u001b[1m2/2\u001b[0m \u001b[32m━━━━━━━━━━━━━━━━━━━━\u001b[0m\u001b[37m\u001b[0m \u001b[1m1s\u001b[0m 497ms/step - accuracy: 0.7739 - loss: 1.1861 - val_accuracy: 0.4737 - val_loss: 1.3761\n",
      "Epoch 10/20\n",
      "\u001b[1m2/2\u001b[0m \u001b[32m━━━━━━━━━━━━━━━━━━━━\u001b[0m\u001b[37m\u001b[0m \u001b[1m1s\u001b[0m 451ms/step - accuracy: 0.9483 - loss: 0.4194 - val_accuracy: 0.5263 - val_loss: 1.3887\n",
      "Epoch 11/20\n",
      "\u001b[1m2/2\u001b[0m \u001b[32m━━━━━━━━━━━━━━━━━━━━\u001b[0m\u001b[37m\u001b[0m \u001b[1m1s\u001b[0m 501ms/step - accuracy: 0.8915 - loss: 0.4560 - val_accuracy: 0.3684 - val_loss: 1.4533\n",
      "Epoch 12/20\n",
      "\u001b[1m2/2\u001b[0m \u001b[32m━━━━━━━━━━━━━━━━━━━━\u001b[0m\u001b[37m\u001b[0m \u001b[1m1s\u001b[0m 458ms/step - accuracy: 0.8773 - loss: 0.4223 - val_accuracy: 0.3684 - val_loss: 1.5112\n",
      "Epoch 13/20\n",
      "\u001b[1m2/2\u001b[0m \u001b[32m━━━━━━━━━━━━━━━━━━━━\u001b[0m\u001b[37m\u001b[0m \u001b[1m1s\u001b[0m 482ms/step - accuracy: 0.8682 - loss: 0.3926 - val_accuracy: 0.3684 - val_loss: 1.5063\n",
      "Epoch 14/20\n",
      "\u001b[1m2/2\u001b[0m \u001b[32m━━━━━━━━━━━━━━━━━━━━\u001b[0m\u001b[37m\u001b[0m \u001b[1m1s\u001b[0m 477ms/step - accuracy: 0.8967 - loss: 0.3043 - val_accuracy: 0.3684 - val_loss: 1.4762\n",
      "Epoch 15/20\n",
      "\u001b[1m2/2\u001b[0m \u001b[32m━━━━━━━━━━━━━━━━━━━━\u001b[0m\u001b[37m\u001b[0m \u001b[1m1s\u001b[0m 484ms/step - accuracy: 0.9057 - loss: 0.2271 - val_accuracy: 0.3158 - val_loss: 1.5358\n",
      "Epoch 16/20\n",
      "\u001b[1m2/2\u001b[0m \u001b[32m━━━━━━━━━━━━━━━━━━━━\u001b[0m\u001b[37m\u001b[0m \u001b[1m1s\u001b[0m 488ms/step - accuracy: 0.9431 - loss: 0.1948 - val_accuracy: 0.3684 - val_loss: 1.6851\n",
      "Epoch 17/20\n",
      "\u001b[1m2/2\u001b[0m \u001b[32m━━━━━━━━━━━━━━━━━━━━\u001b[0m\u001b[37m\u001b[0m \u001b[1m2s\u001b[0m 538ms/step - accuracy: 0.9109 - loss: 0.2085 - val_accuracy: 0.4211 - val_loss: 1.6362\n",
      "Epoch 18/20\n",
      "\u001b[1m2/2\u001b[0m \u001b[32m━━━━━━━━━━━━━━━━━━━━\u001b[0m\u001b[37m\u001b[0m \u001b[1m2s\u001b[0m 474ms/step - accuracy: 0.9393 - loss: 0.1620 - val_accuracy: 0.4211 - val_loss: 1.5317\n",
      "Epoch 19/20\n",
      "\u001b[1m2/2\u001b[0m \u001b[32m━━━━━━━━━━━━━━━━━━━━\u001b[0m\u001b[37m\u001b[0m \u001b[1m1s\u001b[0m 490ms/step - accuracy: 0.9483 - loss: 0.1473 - val_accuracy: 0.4737 - val_loss: 1.5350\n",
      "Epoch 20/20\n",
      "\u001b[1m2/2\u001b[0m \u001b[32m━━━━━━━━━━━━━━━━━━━━\u001b[0m\u001b[37m\u001b[0m \u001b[1m1s\u001b[0m 494ms/step - accuracy: 1.0000 - loss: 0.1055 - val_accuracy: 0.4737 - val_loss: 1.6305\n"
     ]
    }
   ],
   "source": [
    "# Entrenamiento del modelo\n",
    "history = model.fit(X_train, y_train, epochs=20, batch_size=64, validation_data=(X_val, y_val), verbose=1)"
   ]
  },
  {
   "cell_type": "code",
   "execution_count": 62,
   "metadata": {},
   "outputs": [
    {
     "name": "stdout",
     "output_type": "stream",
     "text": [
      "\u001b[1m1/1\u001b[0m \u001b[32m━━━━━━━━━━━━━━━━━━━━\u001b[0m\u001b[37m\u001b[0m \u001b[1m0s\u001b[0m 165ms/step - accuracy: 0.4737 - loss: 1.6305\n",
      "Loss: 1.6304872035980225, Accuracy: 0.4736842215061188\n"
     ]
    }
   ],
   "source": [
    "# Evaluación del modelo\n",
    "loss, accuracy = model.evaluate(X_val, y_val, verbose=1)\n",
    "print(f'Loss: {loss}, Accuracy: {accuracy}')"
   ]
  },
  {
   "cell_type": "code",
   "execution_count": 63,
   "metadata": {},
   "outputs": [
    {
     "name": "stdout",
     "output_type": "stream",
     "text": [
      "\u001b[1m1/1\u001b[0m \u001b[32m━━━━━━━━━━━━━━━━━━━━\u001b[0m\u001b[37m\u001b[0m \u001b[1m0s\u001b[0m 190ms/step - accuracy: 0.4583 - loss: 2.4985\n",
      "Loss: 2.498479127883911, Accuracy: 0.4583333432674408\n"
     ]
    }
   ],
   "source": [
    "# Evaluación del modelo\n",
    "loss, accuracy = model.evaluate(X_test, y_test, verbose=1)\n",
    "print(f'Loss: {loss}, Accuracy: {accuracy}')"
   ]
  },
  {
   "cell_type": "markdown",
   "metadata": {},
   "source": [
    "## Evaluación del modelo"
   ]
  },
  {
   "cell_type": "markdown",
   "metadata": {},
   "source": [
    "Con la función `eval_model` podemos ver gráficamente cómo cambian la precisión y la pérdida durante las épocas de entrenamiento. Toma el historial de entrenamiento (`history`) como entrada y extrae las métricas de precisión y pérdida de las épocas de entrenamiento y validación."
   ]
  },
  {
   "cell_type": "code",
   "execution_count": 64,
   "metadata": {},
   "outputs": [],
   "source": [
    "def eval_model(history):\n",
    "    # Almacena las precisiones y pérdidas para el entrenamiento y validación\n",
    "    epoch_accuracy = history.history['accuracy']\n",
    "    epoch_val_accuracy = history.history['val_accuracy']\n",
    "    epoch_loss = history.history['loss']\n",
    "    epoch_val_loss = history.history['val_loss']\n",
    "\n",
    "    plt.figure(figsize=(20, 6))\n",
    "\n",
    "    # Grafica la precisión en el entrenamiento y validación\n",
    "    plt.subplot(1, 2, 1)\n",
    "    plt.plot(range(0, len(epoch_accuracy)), epoch_accuracy, 'b-', linewidth=2, label='Precisión en Entrenamiento')\n",
    "    plt.plot(range(0, len(epoch_val_accuracy)), epoch_val_accuracy, 'r-', linewidth=2, label='Precisión en Validación')\n",
    "    plt.title('Precisión en Entrenamiento y Validación por epoch')\n",
    "    plt.xlabel('Epoch')\n",
    "    plt.ylabel('Precisión')\n",
    "    plt.legend(loc='best')\n",
    "\n",
    "    # Grafica la pérdida en el entrenamiento y validación\n",
    "    plt.subplot(1, 2, 2)\n",
    "    plt.plot(range(0, len(epoch_loss)), epoch_loss, 'b-', linewidth=2, label='Pérdida en Entrenamiento')\n",
    "    plt.plot(range(0, len(epoch_val_loss)), epoch_val_loss, 'r-', linewidth=2, label='Pérdida en Validación')\n",
    "    plt.title('Pérdida en Entrenamiento y Validación por epoch')\n",
    "    plt.xlabel('Epoch')\n",
    "    plt.ylabel('Loss')\n",
    "    plt.legend(loc='best')\n",
    "\n",
    "    plt.show()"
   ]
  },
  {
   "cell_type": "code",
   "execution_count": 65,
   "metadata": {},
   "outputs": [
    {
     "data": {
      "image/png": "[encoded data removed]",
      "text/plain": [
       "<Figure size 2000x600 with 2 Axes>"
      ]
     },
     "metadata": {},
     "output_type": "display_data"
    }
   ],
   "source": [
    "# Usamos la función para evaluarlo\n",
    "eval_model(history)"
   ]
  },
  {
   "cell_type": "code",
   "execution_count": 66,
   "metadata": {},
   "outputs": [
    {
     "name": "stderr",
     "output_type": "stream",
     "text": [
      "WARNING:absl:You are saving your model as an HDF5 file via `model.save()` or `keras.saving.save_model(model)`. This file format is considered legacy. We recommend using instead the native Keras format, e.g. `model.save('my_model.keras')` or `keras.saving.save_model(model, 'my_model.keras')`. \n"
     ]
    },
    {
     "name": "stdout",
     "output_type": "stream",
     "text": [
      "Modelo guardado como models/model_mix_dataset.h5\n"
     ]
    }
   ],
   "source": [
    "# Guardar el modelo en un archivo .h5\n",
    "model_name = 'models/model_mix_dataset.h5'\n",
    "model.save(model_name)\n",
    "\n",
    "print(f\"Modelo guardado como {model_name}\")"
   ]
  },
  {
   "cell_type": "markdown",
   "metadata": {},
   "source": [
    "Otra forma de evaluar el modelo es usando el subconjunto de testeo para ver el rendimiento sobre datos nunca vistos durante el entenamiento. Para ello se usa el método `evaluate`."
   ]
  },
  {
   "cell_type": "markdown",
   "metadata": {},
   "source": [
    "## Predicciones"
   ]
  },
  {
   "cell_type": "code",
   "execution_count": 67,
   "metadata": {},
   "outputs": [
    {
     "name": "stdout",
     "output_type": "stream",
     "text": [
      "\u001b[1m1/1\u001b[0m \u001b[32m━━━━━━━━━━━━━━━━━━━━\u001b[0m\u001b[37m\u001b[0m \u001b[1m0s\u001b[0m 366ms/step\n"
     ]
    }
   ],
   "source": [
    "pred = list(model.predict(X_test).argmax(axis=1))\n",
    "real = list(y_test.argmax(axis=1))"
   ]
  },
  {
   "cell_type": "code",
   "execution_count": 69,
   "metadata": {},
   "outputs": [],
   "source": [
    "# Y finalmente visualizamos la Matriz de Confusión, para lo que se crea la siguiente función, que se llamará más adelante\n",
    "# y_true     : dataframe -> Los valores de las clases que son ciertos (test)\n",
    "# y_pred     : ndarray   -> Los valores calculados de las clases después de realizar la predicción\n",
    "# classes    : ndarray   -> Los nombres de las clases/valores objetivos como array de numpy\n",
    "def plot_confusion_matrix(y_true, y_pred, classes,\n",
    "                          normalize=False,\n",
    "                          title=None,\n",
    "                          cmap=plt.cm.Blues,\n",
    "                          titleSup=None,\n",
    "                          fig=None,\n",
    "                          ax=None):\n",
    "\n",
    "    # Compute confusion matrix\n",
    "    cm = confusion_matrix(y_true, y_pred)\n",
    "    # Only use the labels that appear in the data\n",
    "    classes = classes[unique_labels(y_true, y_pred)]\n",
    "    if normalize:\n",
    "        cm = cm.astype('float') / cm.sum(axis=1)[:, np.newaxis]\n",
    "\n",
    "    if not fig:\n",
    "      fig, ax = plt.subplots()\n",
    "    im = ax.imshow(cm, interpolation='nearest', cmap=cmap)\n",
    "    ax.figure.colorbar(im, ax=ax)\n",
    "    # We want to show all ticks...\n",
    "    ax.set(xticks=np.arange(cm.shape[1]),\n",
    "           yticks=np.arange(cm.shape[0]),\n",
    "           # ... and label them with the respective list entries\n",
    "           xticklabels=classes, yticklabels=classes,\n",
    "           title=titleSup,\n",
    "           ylabel='True label',\n",
    "           xlabel='Predicted label')\n",
    "    ax.annotate(title, xy=(0.5, 1.1), xytext=(0, 10),\n",
    "            xycoords='axes fraction', textcoords='offset points',\n",
    "            ha='center', va='baseline', fontsize=10)\n",
    "\n",
    "    # Rotate the tick labels and set their alignment.\n",
    "    plt.setp(ax.get_xticklabels(), rotation=45, ha=\"right\",\n",
    "             rotation_mode=\"anchor\")\n",
    "\n",
    "    # Loop over data dimensions and create text annotations.\n",
    "    fmt = '.2f' if normalize else 'd'\n",
    "    thresh = cm.max() / 2.\n",
    "    for i in range(cm.shape[0]):\n",
    "        for j in range(cm.shape[1]):\n",
    "            ax.text(j, i, format(cm[i, j], fmt),\n",
    "                    ha=\"center\", va=\"center\",\n",
    "                    color=\"white\" if cm[i, j] > thresh else \"black\")\n",
    "\n",
    "    \"\"\"\n",
    "    This function prints and plots the confusion matrix.\n",
    "    Normalization can be applied by setting `normalize=True`.\n",
    "    \"\"\"\n",
    "    if normalize:\n",
    "        title = 'Matriz de Confusión'\n",
    "    else:\n",
    "        title = 'Matriz de Confusión'\n",
    "\n",
    "    fig.tight_layout()\n",
    "    fig.suptitle(title, fontsize=16, y=1, ha='center')\n",
    "    return ax"
   ]
  },
  {
   "cell_type": "code",
   "execution_count": 70,
   "metadata": {},
   "outputs": [
    {
     "data": {
      "image/png": "[encoded data removed]",
      "text/plain": [
       "<Figure size 1100x500 with 4 Axes>"
      ]
     },
     "metadata": {},
     "output_type": "display_data"
    }
   ],
   "source": [
    "# Creamos el contenedor para representar los resultados\n",
    "fig, ax = plt.subplots(nrows=1, ncols=2, figsize = (11,5))\n",
    "\n",
    "# Creamos este array de numpy porque es el parámetro con las clases que espera la función\n",
    "plot_confusion_matrix(real,\n",
    "                      pred,\n",
    "                      classes=np.array(categories),\n",
    "                      normalize=False,\n",
    "                      title='sin normalizar',\n",
    "                      titleSup=\"\",\n",
    "                      fig=fig,\n",
    "                      ax=ax[0]);\n",
    "\n",
    "# Creamos este array de numpy porque es el parámetro con las clases que espera la función\n",
    "plot_confusion_matrix(real,\n",
    "                      pred,\n",
    "                      classes=np.array(categories),\n",
    "                      normalize=True,\n",
    "                      title='normalizada',\n",
    "                      titleSup=\"\",\n",
    "                      fig=fig,\n",
    "                      ax=ax[1]);"
   ]
  }
 ],
 "metadata": {
  "kernelspec": {
   "display_name": "proyecto",
   "language": "python",
   "name": "python3"
  },
  "language_info": {
   "codemirror_mode": {
    "name": "ipython",
    "version": 3
   },
   "file_extension": ".py",
   "mimetype": "text/x-python",
   "name": "python",
   "nbconvert_exporter": "python",
   "pygments_lexer": "ipython3",
   "version": "3.12.3"
  }
 },
 "nbformat": 4,
 "nbformat_minor": 2
}
