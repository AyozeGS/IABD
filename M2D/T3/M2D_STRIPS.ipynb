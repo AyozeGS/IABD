{
  "nbformat": 4,
  "nbformat_minor": 0,
  "metadata": {
    "kernelspec": {
      "display_name": "Python 3",
      "language": "python",
      "name": "python3"
    },
    "language_info": {
      "codemirror_mode": {
        "name": "ipython",
        "version": 3
      },
      "file_extension": ".py",
      "mimetype": "text/x-python",
      "name": "python",
      "nbconvert_exporter": "python",
      "pygments_lexer": "ipython3",
      "version": "3.7.1"
    },
    "colab": {
      "provenance": [],
      "collapsed_sections": [
        "_sWa4vBnwT_7",
        "N1XwtFhD14AZ",
        "GUJEgltYhtE1",
        "yXzurfWh1bVp",
        "ZKlHUlYObIW1",
        "f7hY4-3FbNtK",
        "IDWbivyGbV1J",
        "mxdMFVUObWsR",
        "xbc376rAbmTM"
      ],
      "include_colab_link": true
    }
  },
  "cells": [
    {
      "cell_type": "markdown",
      "metadata": {
        "id": "view-in-github",
        "colab_type": "text"
      },
      "source": [
        "<a href=\"https://colab.research.google.com/github/AyozeGS/IABD/blob/main/M2D/T3/M2D_STRIPS.ipynb\" target=\"_parent\"><img src=\"https://colab.research.google.com/assets/colab-badge.svg\" alt=\"Open In Colab\"/></a>"
      ]
    },
    {
      "cell_type": "markdown",
      "source": [
        "# **Problema de Planificación con STRIPS**\n",
        "\n",
        "El cuaderno está enfocado en aplicar los conceptos de planificación en el contexto de la inteligencia artificial, específicamente utilizando STRIPS (Stanford Research Institute Problem Solver), para resolver un problema de manipulación de bloques en un mundo simulado.\n",
        "\n",
        "Considera un mundo donde hay cuatro bloques identificados como A, B, C, y D. Existen tres lugares posibles donde ubicarlos, identificados como 1, 2, y 3.\n",
        "\n",
        "Inicialmente, todos los bloques están apilados en el lugar 1 en el siguiente orden: B encima de A, A encima de C, y C encima de D. El objetivo es llegar a un estado donde los bloques estén apilados en el lugar 3 en el orden, A encima de B, B encima de C, y C encima de D.\n",
        "\n",
        "\n",
        "\n",
        "\\begin{array}{c c c c | c c c c}\n",
        "&Inicio&&&&&Meta& \\\\\n",
        "G &&&&&&& G  \\\\\n",
        "  &&&&&&&   \\\\\n",
        "B &&&&&&& A \\\\\n",
        "A &&&&&&& B \\\\\n",
        "C &&&&&&& C \\\\\n",
        "D &&&&&&& D \\\\ \\hline\n",
        "1 & 2 & 3 &&& 1 & 2 & 3\n",
        "\\end{array}\n",
        "\n"
      ],
      "metadata": {
        "id": "GbgoQ1QNWfu1"
      }
    },
    {
      "cell_type": "code",
      "source": [
        "#Hiperparámetros\n",
        "n_cajas = 4\n",
        "n_posiciones = 3"
      ],
      "metadata": {
        "id": "QvhSzDdEu-xT"
      },
      "execution_count": 2,
      "outputs": []
    },
    {
      "cell_type": "markdown",
      "source": [
        "# 1. Cálculo de variables y parámetros\n",
        "\n",
        "NOTA: Volver a ejecutar estas celdas al cambiar los hiperparámetros: n_posicions y n_cajas.\n"
      ],
      "metadata": {
        "id": "N1XwtFhD14AZ"
      }
    },
    {
      "cell_type": "markdown",
      "source": [
        "Se calculan algunas variables locales a usar en las diferentes funciones"
      ],
      "metadata": {
        "id": "Q4RfKdP8nnJI"
      }
    },
    {
      "cell_type": "code",
      "source": [
        "import string\n",
        "\n",
        "# Lista con los números de las posiciones. Ej: [1,2,3]\n",
        "posiciones = list(range(1,n_posiciones+1))\n",
        "\n",
        "# String con los nombres de las cajas. Ej: \"ABCD\"\n",
        "cajas = string.ascii_uppercase[:n_cajas]\n",
        "\n",
        "# Cálculo del número de operaciones distintas\n",
        "# Ir     -> (posiciones - ultima_posicion) a derecha + (posiciones - primera_posicion) a izquierda = 2*(posiciones - 1)\n",
        "# Mover  -> ir llevando una de las cajas = 2*(n_posiciones - 1) x cajas\n",
        "# Coger  -> cada caja en cada posicion = cajas x posiciones\n",
        "# Apilar -> cada caja en cada posicion sobre una de las otras cajas o sobre el suelo = cajas x posiciones x (cajas - 1 + suelo'1') = cajas x cajas x posiciones\n",
        "max_operaciones = 2*(n_posiciones-1) + 2*(n_posiciones-1)*n_cajas + n_posiciones*n_cajas + n_cajas*n_cajas*n_posiciones\n",
        "\n",
        "# Cálculo de bits de la máscara\n",
        "# bits para posiciones   -> (cajas + gancho) x posiciones\n",
        "# bits para apilamientos -> cajas x (cajas-1 + posiciones) x2(S/N)\n",
        "# bits para libres       -> (cajas + gancho) x2(S/N)\n",
        "bits_mascara = (n_cajas + 1)*n_posiciones + n_cajas*(n_cajas + n_posiciones - 1)*2 + (n_cajas + 1)*2\n",
        "\n",
        "# Máscara de unos para eliminar estados\n",
        "e_mask = 2**(bits_mascara)-1\n",
        "\n",
        "print(f\"Posiciones: {posiciones}\")\n",
        "print(f\"Cajas: {cajas}\")\n",
        "print(\"Nº operaciones máximas: \", max_operaciones)\n",
        "print(\"Nº bits máscara: \", bits_mascara)"
      ],
      "metadata": {
        "colab": {
          "base_uri": "https://localhost:8080/"
        },
        "id": "fwSdYzPVpOtq",
        "outputId": "2db95475-09ef-4966-d6c9-d005ab446b06"
      },
      "execution_count": 3,
      "outputs": [
        {
          "output_type": "stream",
          "name": "stdout",
          "text": [
            "Posiciones: [1, 2, 3]\n",
            "Cajas: ABCD\n",
            "Nº operaciones máximas:  80\n",
            "Nº bits máscara:  73\n"
          ]
        }
      ]
    },
    {
      "cell_type": "markdown",
      "source": [
        "Se calculan los diferentes valores que servirán de base para poner a uno cada bit de la máscara binaria y que serán usados en la definición de las máscaras PC, E y A de las operaciones."
      ],
      "metadata": {
        "id": "AgP_wPhMoCQw"
      }
    },
    {
      "cell_type": "code",
      "source": [
        "# Valores enteros que represetarán el poner a 1 cada uno de los bits de\n",
        "# la máscara en función del número de cajas y posiciones.\n",
        "#-------------------------------------------------------------------------------------------\n",
        "# Cálculo de bases (Ejemplo con 4 cajas y 3 posiciones)\n",
        "#--------------------------------------------------------------------------------------------\n",
        "# |    posiciones    |        (cjX/cjY)          |        ~(cjX/cjY)         |  Libre(S/N)  |\n",
        "#  G   A   B   C   D    A      B      C      D      A      B      C      D    G  A  B  C  D\n",
        "# 321 321 321 321 321 BCD123 ACD123 ABD123 ABC123 BCD123 ACD123 ABD123 ABC123 SN SN SN SN SN\n",
        "# 000_000_000_000_000_000000_000000_000000_000000_000000_000000_000000_000000_00_00_00_00_00\n",
        "#    ^               ^                           ^                           ^              ^\n",
        "# base(pos_g)  base(pos_cajas)               base(apila)               base(noapila) base(libres)\n",
        "#-------------------------------------------------------------------------------\n",
        "\n",
        "# Bases cajas libres / no_libres\n",
        "base_cajas_no_libres         = 2**0\n",
        "base_caja_no_libre           = lambda idx_caja : base_cajas_no_libres * 2**((n_cajas-idx_caja-1)*2)\n",
        "base_caja_libre              = lambda idx_caja : base_caja_no_libre(idx_caja) * 2\n",
        "\n",
        "# Bases de gancho libre\n",
        "base_gancho_no_libre         = 2**((n_cajas)*2)\n",
        "base_gancho_libre            = base_gancho_no_libre * 2\n",
        "\n",
        "# Bases de cajaX no está sobre cajaY o suelo\n",
        "base_no_apilamientos         = 2**((n_cajas + 1)*2)\n",
        "base_no_apilamientos_caja    = lambda idx_caja : base_no_apilamientos * ((2**(n_cajas + n_posiciones - 1))**(n_cajas-idx_caja-1))\n",
        "aux_indice                   = lambda idx_caja1, idx_caja2: n_cajas + n_posiciones - idx_caja2 - 2 if idx_caja1 > idx_caja2 else n_cajas + n_posiciones - idx_caja2 - 1\n",
        "base_caja1_no_sobre_caja2    = lambda idx_caja1, idx_caja2 : base_no_apilamientos_caja(idx_caja1) * (2**aux_indice(idx_caja1, idx_caja2))\n",
        "base_caja_no_sobre_posicion  = lambda idx_caja, posicion : base_no_apilamientos_caja(idx_caja) * (2**(n_posiciones - posicion))\n",
        "\n",
        "# Bases de cajaX está sobre cajaY o suelo\n",
        "base_apilamientos            = 2**((n_cajas + 1)*2 + (n_cajas*(n_cajas + n_posiciones - 1)))\n",
        "base_apilamientos_caja       = lambda idx_caja : base_apilamientos * ((2**(n_cajas + n_posiciones - 1))**(n_cajas-idx_caja-1))\n",
        "base_caja1_sobre_caja2       = lambda idx_caja1, idx_caja2 : base_apilamientos_caja(idx_caja1) * (2**aux_indice(idx_caja1, idx_caja2))\n",
        "base_caja_sobre_posicion     = lambda idx_caja, posicion : base_apilamientos_caja(idx_caja) * (2**(n_posiciones - posicion))\n",
        "\n",
        "# Bases de la posicion de las cajas\n",
        "base_pos_cajas               = 2**((n_cajas + 1)*2 + (n_cajas*(n_cajas + n_posiciones - 1))*2)\n",
        "base_pos_caja                = lambda idx_caja : base_pos_cajas * ((2**n_posiciones)**(n_cajas-idx_caja-1))\n",
        "base_esta_caja_posicion      = lambda idx_caja, posicion : base_pos_caja(idx_caja) * 2**(posicion-1)\n",
        "\n",
        "# Base de la posición del gancho\n",
        "base_pos_g                   = 2**((n_cajas + 1)*2 + (n_cajas*(n_cajas + n_posiciones - 1))*2 + n_cajas*n_posiciones)\n",
        "base_esta_gancho_posicion    = lambda posicion: base_pos_g * 2**(posicion-1)"
      ],
      "metadata": {
        "id": "XFHvuxUqLrKf"
      },
      "execution_count": 4,
      "outputs": []
    },
    {
      "cell_type": "markdown",
      "source": [
        "# 2. Funciones"
      ],
      "metadata": {
        "id": "SnMLvBn2yUH6"
      }
    },
    {
      "cell_type": "markdown",
      "source": [
        "Este bloque se recogen las distintas funciones para la realización del problema:\n",
        "- Funciones para convertir vectores en valores binarios y ayudar a visualizarlas.\n",
        "- Funciones para crear las diferentes operaciones con sus máscaras PC,E y A.\n",
        "- Funciones de transición de estados y de planificación de STRIPS\n",
        "- Funciones de visualización de resultados"
      ],
      "metadata": {
        "id": "quuoiCBSFCsK"
      }
    },
    {
      "cell_type": "markdown",
      "source": [
        "## 2.1. Propiedades de los estados"
      ],
      "metadata": {
        "id": "GUJEgltYhtE1"
      }
    },
    {
      "cell_type": "markdown",
      "source": [
        "Función que convierte un vector de estados iniciales a un valor entero cuya representación binaria respeta la estructura definida anteriormente y que mantiene los estados indicados en el vector.\n",
        "El valor se va completando desde los bits de mayor orden a los de menor."
      ],
      "metadata": {
        "id": "NiYsMcTmoz_Z"
      }
    },
    {
      "cell_type": "code",
      "source": [
        "# Función que crea una máscara respecto de un vector\n",
        "def mascara(vector):\n",
        "\n",
        "  # Se identifican los valores del vector referentes a posiciones\n",
        "  vector_posiciones = vector[:n_cajas+1]\n",
        "  # Se identifican los valores del vector referentes a apilamientos de cajas\n",
        "  vector_apilamientos = vector[n_cajas+1:]\n",
        "\n",
        "  # Se enmascara la Posición de G\n",
        "  mascara = 2**(vector_posiciones[0]-1) #Posición de G\n",
        "  #print(f\"Enmascarada posición de G\")\n",
        "\n",
        "  # Se enmascara la posición de las cajas\n",
        "  for idx, caja in enumerate(cajas):\n",
        "    mascara *= 2**(n_posiciones)\n",
        "    mascara += 2**(vector_posiciones[idx+1]-1) #Posición de cada caja\n",
        "    #print(f\"Enmascarada posición de {caja}\")\n",
        "\n",
        "  # Se enmascaran que cajas están encima de otras y sobre las posiciones a\n",
        "  # la vez que se almacenan los valores negados en una máscara auxiliar\n",
        "  mascara_no_apilamientos = []\n",
        "  for idx_caja, caja_superior in enumerate(cajas):\n",
        "    flag_caja_esta_sobre_otra = False\n",
        "\n",
        "    # Se enmascara sobre que otra caja está cada caja\n",
        "    for caja_inferior in cajas.replace(caja_superior, \"\"):\n",
        "      mascara *= 2\n",
        "      if caja_superior+caja_inferior in vector_apilamientos:\n",
        "        mascara += 1\n",
        "        mascara_no_apilamientos.append(0)\n",
        "        flag_caja_esta_sobre_otra = True\n",
        "      else:\n",
        "        mascara_no_apilamientos.append(1)\n",
        "\n",
        "    # Se enmascara en que posición está la caja si está en el suelo\n",
        "    for posicion in posiciones:\n",
        "      mascara *= 2\n",
        "      if not flag_caja_esta_sobre_otra and vector_posiciones[idx_caja+1] == posicion:\n",
        "        mascara +=1\n",
        "        mascara_no_apilamientos.append(0)\n",
        "      else:\n",
        "        mascara_no_apilamientos.append(1)\n",
        "\n",
        "  # Se enmascaran que cajas no están encima de otras o sobre el suelo usando\n",
        "  # la máscara auxiliar de valores negados\n",
        "  for bit in mascara_no_apilamientos:\n",
        "    mascara *= 2\n",
        "    mascara += bit\n",
        "\n",
        "  # Se enmascara que el gancho y las cajas están libres #10(G)-10(A)-10(B)-10(C)-...\n",
        "  for i in range(n_cajas+1):\n",
        "    mascara *= 4\n",
        "    mascara += 2\n",
        "\n",
        "  return mascara"
      ],
      "metadata": {
        "id": "VywbHH2t1m63"
      },
      "execution_count": 5,
      "outputs": []
    },
    {
      "cell_type": "markdown",
      "source": [
        "Función que permite visualizar el estado en formato de máscara, separando los disntitos bloques que se han definido en ella."
      ],
      "metadata": {
        "id": "Ud-YDVUCsGmq"
      }
    },
    {
      "cell_type": "code",
      "source": [
        "# Función que permite visualizar la máscara de manera agradable\n",
        "def mostrar(valor):\n",
        "\n",
        "  # Si el valor es un entero se pasa a cadena binaria.\n",
        "  if isinstance(valor, int):\n",
        "    valor = bin(valor)\n",
        "\n",
        "  # Se quita el 0b del inicio de la cadena y se añaden los 0s faltantes al principio\n",
        "  mascara = valor[2:].zfill(bits_mascara)\n",
        "\n",
        "  # Se separa la máscara por grupos\n",
        "  mascara_posiciones = mascara[:(1+n_cajas)*n_posiciones]\n",
        "  mascara_apilamientos = mascara[(1+n_cajas)*n_posiciones:-(1+n_cajas)*2]\n",
        "  mascara_libres = mascara[-(1+n_cajas)*2:]\n",
        "\n",
        "  # Se añaden guiones para separar subgrupos\n",
        "  mascara_posiciones = '_'.join([mascara_posiciones[i:i+n_posiciones] for i in range(0, len(mascara_posiciones), n_posiciones)])\n",
        "  mascara_apilamientos = '_'.join([mascara_apilamientos[i:i+n_cajas+n_posiciones-1] for i in range(0, len(mascara_apilamientos), n_cajas+n_posiciones-1)])\n",
        "  mascara_libres = '_'.join([mascara_libres[i:i+2] for i in range(0, len(mascara_libres), 2)])\n",
        "\n",
        "  # Se añaden guiones para separar grupos\n",
        "  mascara = \"_\".join([mascara_posiciones, mascara_apilamientos, mascara_libres])\n",
        "  return mascara\n",
        "\n",
        "#Ejemplo del uso de las funciones anteriores para 4 cajas y 3 posiciones\n",
        "vector_inicial_ejemplo = [1, 1, 1, 1, 1, 'BA', 'AC', 'CD']\n",
        "vector_meta_ejemplo=[3, 3, 3, 3, 3, 'AB', 'BC', 'CD']\n",
        "\n",
        "print(\"VECTOR INICIAL:\", vector_inicial_ejemplo)\n",
        "print(\"\\n____posiciones________________sobre______________________no_sobre____________libres_s/n___\")\n",
        "print(\"_G___A___B___C___D____A______B______C______D______A______B______C______D____G__A__B__C__D_\")\n",
        "print(mostrar(mascara(vector_inicial_ejemplo)))\n",
        "\n",
        "print(\"\\nVECTOR META:\", vector_meta_ejemplo)\n",
        "print(\"\\n____posiciones________________sobre______________________no_sobre____________libres_s/n___\")\n",
        "print(\"_G___A___B___C___D____A______B______C______D______A______B______C______D____G__A__B__C__D_\")\n",
        "print(mostrar(mascara(vector_meta_ejemplo)))"
      ],
      "metadata": {
        "colab": {
          "base_uri": "https://localhost:8080/"
        },
        "id": "r4wawJXchqA1",
        "outputId": "4088b5ad-432e-4045-b3dd-6bbe1c037f0a"
      },
      "execution_count": 6,
      "outputs": [
        {
          "output_type": "stream",
          "name": "stdout",
          "text": [
            "VECTOR INICIAL: [1, 1, 1, 1, 1, 'BA', 'AC', 'CD']\n",
            "\n",
            "____posiciones________________sobre______________________no_sobre____________libres_s/n___\n",
            "_G___A___B___C___D____A______B______C______D______A______B______C______D____G__A__B__C__D_\n",
            "001_001_001_001_001_010000_100000_001000_000100_101111_011111_110111_111011_10_10_10_10_10\n",
            "\n",
            "VECTOR META: [3, 3, 3, 3, 3, 'AB', 'BC', 'CD']\n",
            "\n",
            "____posiciones________________sobre______________________no_sobre____________libres_s/n___\n",
            "_G___A___B___C___D____A______B______C______D______A______B______C______D____G__A__B__C__D_\n",
            "100_100_100_100_100_100000_010000_001000_000001_011111_101111_110111_111110_10_10_10_10_10\n"
          ]
        }
      ]
    },
    {
      "cell_type": "markdown",
      "source": [
        "## 2.2. Operadores STRIPS"
      ],
      "metadata": {
        "id": "yXzurfWh1bVp"
      }
    },
    {
      "cell_type": "markdown",
      "source": [
        "Funciones que definen 4 tipos de operaciones principales:\n",
        "- Ir: desplaza el gancho libre entre posiciones.\n",
        "- Mover: desplaza el gancho y una caja entre posiciones.\n",
        "- Coger: quita una caja del elemento sobre el que estuviera y ocupa ambos caja y gancho.\n",
        "- Apilar: coloca una caja sobre un elemento y libera la caja y el gancho.\n",
        "\n",
        "Cada operador o acción se define por medio de un nombre y de las siguientes atributos:\n",
        "- PC: Precondiciones que indican las propiedades que deben cumplirse para que la acción pueda realizarse.\n",
        "- E: Máscara que indica las propiedades que deben eliminarse para cambiar de estado.\n",
        "- A: Máscara que indica las propiedades que deben añadirse para cambiar de estado."
      ],
      "metadata": {
        "id": "IF24xfmWuPBx"
      }
    },
    {
      "cell_type": "markdown",
      "source": [
        "### 2.2.1. Operaciones tipo IR"
      ],
      "metadata": {
        "id": "ZKlHUlYObIW1"
      }
    },
    {
      "cell_type": "code",
      "source": [
        "# Funcion que crea operadores strips del tipo ir\n",
        "def definir_acciones_ir():\n",
        "\n",
        "  # Creamos listas vacías para las distintas partes de una operacion\n",
        "  acciones, PC, E, A = [], [], [], []\n",
        "\n",
        "  # Definimos operaciones en ambos sentidos entre cada posición y la siguiente\n",
        "  for posicion in posiciones[:-1]:\n",
        "\n",
        "#-------------------------------------------------------------------------------\n",
        "    acciones.append(f\"Ir(G,{posicion},{posicion+1})\")\n",
        "    #PC -> Está(G,posicion), Libre(G)\n",
        "    PC.append(base_esta_gancho_posicion(posicion) + base_gancho_libre)\n",
        "    #E -> Está(G,posicion)\n",
        "    E.append(e_mask - base_esta_gancho_posicion(posicion))\n",
        "    #A -> Está (G,posicion+1)\n",
        "    A.append(base_esta_gancho_posicion(posicion+1))\n",
        "#-------------------------------------------------------------------------------\n",
        "    acciones.append(f\"Ir(G,{posicion+1},{posicion})\")\n",
        "    #PC -> Está(G,posicion+1), Libre(G)\n",
        "    PC.append(base_esta_gancho_posicion(posicion+1) + base_gancho_libre)\n",
        "    #E -> Está(G,posicion+1)\n",
        "    E.append(e_mask - base_esta_gancho_posicion(posicion+1))\n",
        "    #A -> Está (G,posicion)\n",
        "    A.append(base_esta_gancho_posicion(posicion))\n",
        "#-------------------------------------------------------------------------------\n",
        "\n",
        "  return acciones, PC, E, A\n",
        "\n",
        "# Código para mostrar las operaciones de forma independiente\n",
        "#acc,pc,e,a = definir_acciones_ir(posiciones, cajas)\n",
        "#for i in range(len(acc)):\n",
        "#  print(f\"[{i}] {acc[i]}\")\n",
        "#  print(\"PC:\", mostrar(pc[i]))\n",
        "#  print(\"E: \", mostrar(e[i]))\n",
        "#  print(\"A: \", mostrar(a[i]))"
      ],
      "metadata": {
        "id": "ewAzPwUKEaOm"
      },
      "execution_count": 7,
      "outputs": []
    },
    {
      "cell_type": "markdown",
      "source": [
        "### 2.2.2. Operaciones tipo MOVER"
      ],
      "metadata": {
        "id": "f7hY4-3FbNtK"
      }
    },
    {
      "cell_type": "code",
      "source": [
        "# Funcion que crea operadores strips del tipo mover\n",
        "def definir_acciones_mover():\n",
        "\n",
        "  # Creamos listas vacías para las distintas partes de una operacion\n",
        "  acciones, PC, E, A = [], [], [], []\n",
        "\n",
        "  # Definimos operaciones para cada caja\n",
        "  for idx_caja, caja in enumerate(cajas):\n",
        "    # Definimos operaciones en ambos sentidos entre cada posición y la siguiente\n",
        "    for posicion in posiciones[:-1]:\n",
        "\n",
        "#-------------------------------------------------------------------------------\n",
        "      acciones.append(f\"Mover(G,{caja},{posicion},{posicion+1})\")\n",
        "      #PC -> Está(G,posicion), Está(caja,posicion), NoLibre(G), NoLibre(caja)\n",
        "      PC.append(base_esta_gancho_posicion(posicion) +\n",
        "                base_esta_caja_posicion(idx_caja, posicion) +\n",
        "                base_gancho_no_libre +\n",
        "                base_caja_no_libre(idx_caja))\n",
        "      #E -> Está(G,posicion), Está(caja,posicion)\n",
        "      E.append(e_mask - base_esta_gancho_posicion(posicion) -\n",
        "               base_esta_caja_posicion(idx_caja, posicion))\n",
        "      #A -> Está(G,posicion+1), Está(caja,posicion+1)\n",
        "      A.append(base_esta_gancho_posicion(posicion+1) +\n",
        "               base_esta_caja_posicion(idx_caja, posicion+1))\n",
        "#-------------------------------------------------------------------------------\n",
        "      acciones.append(f\"Mover(G,{caja},{posicion+1},{posicion})\")\n",
        "      #PC -> Está(G,posicion+1), Está(caja,posicion+1), NoLibre(G), NoLibre(caja)\n",
        "      PC.append(base_esta_gancho_posicion(posicion+1) +\n",
        "                base_esta_caja_posicion(idx_caja, posicion+1) +\n",
        "                base_gancho_no_libre +\n",
        "                base_caja_no_libre(idx_caja))\n",
        "      #E -> Está(G,posicion+1), Está(caja,posicion+1)\n",
        "      E.append(e_mask - base_esta_gancho_posicion(posicion+1) -\n",
        "               base_esta_caja_posicion(idx_caja, posicion+1))\n",
        "      #A -> Está(G,posicion), Está(caja,posicion)\n",
        "      A.append(base_esta_gancho_posicion(posicion) +\n",
        "               base_esta_caja_posicion(idx_caja, posicion))\n",
        "#-------------------------------------------------------------------------------\n",
        "\n",
        "  return acciones, PC, E, A\n",
        "\n",
        "# Muestra las operaciones de forma independiente\n",
        "#acc,pc,e,a = definir_acciones_mover(posiciones, cajas)\n",
        "#for i in range(len(acc)):\n",
        "#  print(f\"[{i}] {acc[i]}\")\n",
        "#  print(\"PC:\", mostrar(pc[i]))\n",
        "#  print(\"E: \", mostrar(e[i]))\n",
        "#  print(\"A: \", mostrar(a[i]))"
      ],
      "metadata": {
        "id": "HYweW_fjEy--"
      },
      "execution_count": 8,
      "outputs": []
    },
    {
      "cell_type": "markdown",
      "source": [
        "### 2.2.3. Operaciones tipo  COGER"
      ],
      "metadata": {
        "id": "IDWbivyGbV1J"
      }
    },
    {
      "cell_type": "code",
      "source": [
        "# Funcion que crea operadores strips del tipo coger\n",
        "def definir_acciones_coger():\n",
        "\n",
        "  # Creamos listas vacías para las distintas partes de una operacion\n",
        "  acciones, PC, E, A = [], [], [], []\n",
        "\n",
        "  # Definimos operaciones para cada caja\n",
        "  for idx_caja, caja in enumerate(cajas):\n",
        "    # Definimos operaciones para cada posicion\n",
        "    for posicion in posiciones:\n",
        "\n",
        "#-------------------------------------------------------------------------------\n",
        "      acciones.append(f\"Coger(G,{caja},{posicion})\")\n",
        "      #PC -> Está(G,posicion), Esta(caja,posicion), Libre(G), Libre(caja), NoSobre(Otrascajas*, caja)\n",
        "      pc = base_esta_gancho_posicion(posicion) + base_esta_caja_posicion(idx_caja, posicion) + base_gancho_libre + base_caja_libre(idx_caja)\n",
        "      #Se comprueba que la caja no está debajo de ninguna otra\n",
        "      for idx_superior, caja_superior in enumerate(cajas):\n",
        "        if (idx_caja == idx_superior):\n",
        "          continue\n",
        "        pc += base_caja1_no_sobre_caja2(idx_superior, idx_caja)\n",
        "      PC.append(pc)\n",
        "      #E -> Libre(G), Libre(caja), Sobre(caja, Otrascajas*)\n",
        "      e = base_gancho_libre + base_caja_libre(idx_caja)\n",
        "      # Eliminar los estados de la caja sobre las otras cajas y las posiciones\n",
        "      for idx_inferior in range(n_cajas+n_posiciones-1):\n",
        "        e += base_apilamientos_caja(idx_caja) * (2**idx_inferior)\n",
        "      E.append(e_mask - e)\n",
        "      #A -> NoLibre(G), NoLibre(caja), NoSobre (caja, Otrascajas*)\n",
        "      a = base_gancho_no_libre + base_caja_no_libre(idx_caja)\n",
        "      # Añade los estados de la caja no sobre las otras cajas ni el suelo\n",
        "      for idx_inferior in range(n_cajas+n_posiciones-1):\n",
        "        a += base_no_apilamientos_caja(idx_caja) * (2**idx_inferior)\n",
        "      A.append(a)\n",
        "#-------------------------------------------------------------------------------\n",
        "\n",
        "  return acciones, PC, E, A\n",
        "\n",
        "# Muestra las operaciones de forma independiente\n",
        "#acc,pc,e,a = definir_acciones_coger(posiciones, cajas)\n",
        "#for i in range(len(acc)):\n",
        "#  print(f\"[{i}] {acc[i]}\")\n",
        "#  print(\"PC:\", mostrar(pc[i]))\n",
        "#  print(\"E: \", mostrar(e[i]))\n",
        "#  print(\"A: \", mostrar(a[i]))"
      ],
      "metadata": {
        "id": "-0xuBgqLFQh8"
      },
      "execution_count": 9,
      "outputs": []
    },
    {
      "cell_type": "markdown",
      "source": [
        "### 2.2.4. Operaciones tipo APILAR"
      ],
      "metadata": {
        "id": "mxdMFVUObWsR"
      }
    },
    {
      "cell_type": "code",
      "source": [
        "# Funcion que crea operadores strips del tipo apilar\n",
        "def definir_acciones_apilar():\n",
        "\n",
        "  # Creamos listas vacías para las distintas partes de una operacion\n",
        "  acciones, PC, E, A = [], [], [], []\n",
        "\n",
        "  # Definimos operaciones para cada caja\n",
        "  for idx_caja, caja in enumerate(cajas):\n",
        "    # Definimos operaciones para cada posicion\n",
        "    for posicion in posiciones:\n",
        "      # Definimos operaciones para las otras cajas\n",
        "      for idx_inferior, caja_inferior in enumerate(cajas):\n",
        "        if (idx_caja == idx_inferior):\n",
        "            continue\n",
        "\n",
        "#-------------------------------------------------------------------------------\n",
        "        acciones.append(f\"Apilar(G,{caja},{caja_inferior},{posicion})\")\n",
        "        #PC -> Está(G,posicion), Está(caja,posicion), Está(caja_inferior,posicion), NoLibre(G), NoLibre(caja), NoSobre(Otrascajas*, caja_inferior)\n",
        "        pc_aux = 0\n",
        "        #Se comprueba que la caja sobre la que se va a colocar no está debajo de ninguna otra\n",
        "        for idx_superior, caja_superior in enumerate(cajas):\n",
        "          if (idx_inferior == idx_superior):\n",
        "            continue\n",
        "          pc_aux += base_caja1_no_sobre_caja2(idx_superior, idx_inferior)\n",
        "        PC.append(base_esta_gancho_posicion(posicion) + base_esta_caja_posicion(idx_caja, posicion) +\n",
        "                  base_esta_caja_posicion(idx_inferior, posicion) + base_gancho_no_libre +\n",
        "                  base_caja_no_libre(idx_caja) + pc_aux)\n",
        "        #E -> NoLibre(G), NoLibre(caja), Nosobre(caja, caja_inferior)\n",
        "        E.append(e_mask - base_gancho_no_libre - base_caja_no_libre(idx_caja) - base_caja1_no_sobre_caja2(idx_caja, idx_inferior))\n",
        "        #A -> Libre(G), Libre(caja), Sobre(caja, caja_inferior)\n",
        "        A.append(base_gancho_libre + base_caja_libre(idx_caja) + base_caja1_sobre_caja2(idx_caja, idx_inferior))\n",
        "#-------------------------------------------------------------------------------\n",
        "      acciones.append(f\"Apilar(G,{caja},{posicion})\")\n",
        "      #PC -> Está(G,posicion), Está(caja,posicion), NoLibre(G), NoLibre(caja), NoSobre(cajas*, posicion)\n",
        "      pc_aux = 0\n",
        "      #Se comprueba que noy cajas sobre esa posición donde se va a colocar la caja\n",
        "      for idx_superior, caja_superior in enumerate(cajas):\n",
        "        pc_aux += base_caja_no_sobre_posicion(idx_superior, posicion)\n",
        "      PC.append(base_esta_gancho_posicion(posicion) + base_esta_caja_posicion(idx_caja, posicion) +\n",
        "                base_gancho_no_libre + base_caja_no_libre(idx_caja) + pc_aux)\n",
        "      #E -> NoLibre(G), NoLibre(caja), NoSobre(caja, posicion)\n",
        "      E.append(e_mask - base_gancho_no_libre - base_caja_no_libre(idx_caja) - base_caja_no_sobre_posicion(idx_caja, posicion))\n",
        "      #A -> Libre(G), Libre(caja), Sobre(caja, posicion)\n",
        "      A.append(base_gancho_libre + base_caja_libre(idx_caja) + base_caja_sobre_posicion(idx_caja, posicion))\n",
        "#-------------------------------------------------------------------------------\n",
        "\n",
        "  return acciones, PC, E, A\n",
        "\n",
        "# Muestra las operaciones de forma independiente\n",
        "#acc,pc,e,a = definir_acciones_apilar(posiciones, cajas)\n",
        "#for i in range(len(acc)):\n",
        "#  print(f\"[{i}] {acc[i]}\")\n",
        "#  print(\"PC:\", mostrar(pc[i]))\n",
        "#  print(\"E: \", mostrar(e[i]))\n",
        "#  print(\"A: \", mostrar(a[i]))"
      ],
      "metadata": {
        "id": "u7Wq4MKvMNnK"
      },
      "execution_count": 10,
      "outputs": []
    },
    {
      "cell_type": "markdown",
      "source": [
        "### 2.2.5. Concatenación de operaciones\n",
        "\n",
        "Función que unifica las acciones definidas para cada tipo y crea vectores conteniendo las máscaras de todas las operaciones definidas para el problema.\n",
        "\n",
        "NOTA: Debe volver a llamarse cuando se modifiquen los hiperparámetros de n_cajas y n_posiciones."
      ],
      "metadata": {
        "id": "xbc376rAbmTM"
      }
    },
    {
      "cell_type": "code",
      "source": [
        "#------------------------------------------------------------------------------\n",
        "# CONCATENACION DE OPERACIONES\n",
        "#------------------------------------------------------------------------------\n",
        "def definir_acciones():\n",
        "\n",
        "  # Creamos listas vacías para las distintas partes de una operacion\n",
        "  acciones, PC, E, A = [], [], [], []\n",
        "  # Generamos las acciones de cada tipo\n",
        "  acciones_ir, PC_ir, E_ir, A_ir = definir_acciones_ir()\n",
        "  acciones_coger, PC_coger, E_coger, A_coger = definir_acciones_coger()\n",
        "  acciones_mover, PC_mover, E_mover, A_mover = definir_acciones_mover()\n",
        "  acciones_apilar, PC_apilar, E_apilar, A_apilar = definir_acciones_apilar()\n",
        "  # Concatenamos las acciones y sus máscaras\n",
        "  acciones += acciones_coger + acciones_mover + acciones_apilar + acciones_ir\n",
        "  PC += PC_coger + PC_mover + PC_apilar + PC_ir\n",
        "  E = E_coger + E_mover + E_apilar + E_ir\n",
        "  A += A_coger + A_mover + A_apilar + A_ir\n",
        "  return acciones, PC, E, A\n",
        "\n",
        "#Ejemplo de visualizar el resultado de las operaciones\n",
        "texto, PC, E, A = definir_acciones()\n",
        "for i in range(len(texto)):\n",
        "  print(f\"[{i}] {texto[i]}\")\n",
        "  print(\"PC:\", mostrar(PC[i]))\n",
        "  print(\"E: \", mostrar(E[i]))\n",
        "  print(\"A: \", mostrar(A[i]))"
      ],
      "metadata": {
        "colab": {
          "base_uri": "https://localhost:8080/"
        },
        "id": "4R9-h2hYbkoO",
        "outputId": "4e123e4e-fe4c-49b5-a2f6-dc8968bd20fc"
      },
      "execution_count": 11,
      "outputs": [
        {
          "output_type": "stream",
          "name": "stdout",
          "text": [
            "[0] Coger(G,A,1)\n",
            "PC: 001_001_000_000_000_000000_000000_000000_000000_000000_100000_100000_100000_10_10_00_00_00\n",
            "E:  111_111_111_111_111_000000_111111_111111_111111_111111_111111_111111_111111_01_01_11_11_11\n",
            "A:  000_000_000_000_000_000000_000000_000000_000000_111111_000000_000000_000000_01_01_00_00_00\n",
            "[1] Coger(G,A,2)\n",
            "PC: 010_010_000_000_000_000000_000000_000000_000000_000000_100000_100000_100000_10_10_00_00_00\n",
            "E:  111_111_111_111_111_000000_111111_111111_111111_111111_111111_111111_111111_01_01_11_11_11\n",
            "A:  000_000_000_000_000_000000_000000_000000_000000_111111_000000_000000_000000_01_01_00_00_00\n",
            "[2] Coger(G,A,3)\n",
            "PC: 100_100_000_000_000_000000_000000_000000_000000_000000_100000_100000_100000_10_10_00_00_00\n",
            "E:  111_111_111_111_111_000000_111111_111111_111111_111111_111111_111111_111111_01_01_11_11_11\n",
            "A:  000_000_000_000_000_000000_000000_000000_000000_111111_000000_000000_000000_01_01_00_00_00\n",
            "[3] Coger(G,B,1)\n",
            "PC: 001_000_001_000_000_000000_000000_000000_000000_100000_000000_010000_010000_10_00_10_00_00\n",
            "E:  111_111_111_111_111_111111_000000_111111_111111_111111_111111_111111_111111_01_11_01_11_11\n",
            "A:  000_000_000_000_000_000000_000000_000000_000000_000000_111111_000000_000000_01_00_01_00_00\n",
            "[4] Coger(G,B,2)\n",
            "PC: 010_000_010_000_000_000000_000000_000000_000000_100000_000000_010000_010000_10_00_10_00_00\n",
            "E:  111_111_111_111_111_111111_000000_111111_111111_111111_111111_111111_111111_01_11_01_11_11\n",
            "A:  000_000_000_000_000_000000_000000_000000_000000_000000_111111_000000_000000_01_00_01_00_00\n",
            "[5] Coger(G,B,3)\n",
            "PC: 100_000_100_000_000_000000_000000_000000_000000_100000_000000_010000_010000_10_00_10_00_00\n",
            "E:  111_111_111_111_111_111111_000000_111111_111111_111111_111111_111111_111111_01_11_01_11_11\n",
            "A:  000_000_000_000_000_000000_000000_000000_000000_000000_111111_000000_000000_01_00_01_00_00\n",
            "[6] Coger(G,C,1)\n",
            "PC: 001_000_000_001_000_000000_000000_000000_000000_010000_010000_000000_001000_10_00_00_10_00\n",
            "E:  111_111_111_111_111_111111_111111_000000_111111_111111_111111_111111_111111_01_11_11_01_11\n",
            "A:  000_000_000_000_000_000000_000000_000000_000000_000000_000000_111111_000000_01_00_00_01_00\n",
            "[7] Coger(G,C,2)\n",
            "PC: 010_000_000_010_000_000000_000000_000000_000000_010000_010000_000000_001000_10_00_00_10_00\n",
            "E:  111_111_111_111_111_111111_111111_000000_111111_111111_111111_111111_111111_01_11_11_01_11\n",
            "A:  000_000_000_000_000_000000_000000_000000_000000_000000_000000_111111_000000_01_00_00_01_00\n",
            "[8] Coger(G,C,3)\n",
            "PC: 100_000_000_100_000_000000_000000_000000_000000_010000_010000_000000_001000_10_00_00_10_00\n",
            "E:  111_111_111_111_111_111111_111111_000000_111111_111111_111111_111111_111111_01_11_11_01_11\n",
            "A:  000_000_000_000_000_000000_000000_000000_000000_000000_000000_111111_000000_01_00_00_01_00\n",
            "[9] Coger(G,D,1)\n",
            "PC: 001_000_000_000_001_000000_000000_000000_000000_001000_001000_001000_000000_10_00_00_00_10\n",
            "E:  111_111_111_111_111_111111_111111_111111_000000_111111_111111_111111_111111_01_11_11_11_01\n",
            "A:  000_000_000_000_000_000000_000000_000000_000000_000000_000000_000000_111111_01_00_00_00_01\n",
            "[10] Coger(G,D,2)\n",
            "PC: 010_000_000_000_010_000000_000000_000000_000000_001000_001000_001000_000000_10_00_00_00_10\n",
            "E:  111_111_111_111_111_111111_111111_111111_000000_111111_111111_111111_111111_01_11_11_11_01\n",
            "A:  000_000_000_000_000_000000_000000_000000_000000_000000_000000_000000_111111_01_00_00_00_01\n",
            "[11] Coger(G,D,3)\n",
            "PC: 100_000_000_000_100_000000_000000_000000_000000_001000_001000_001000_000000_10_00_00_00_10\n",
            "E:  111_111_111_111_111_111111_111111_111111_000000_111111_111111_111111_111111_01_11_11_11_01\n",
            "A:  000_000_000_000_000_000000_000000_000000_000000_000000_000000_000000_111111_01_00_00_00_01\n",
            "[12] Mover(G,A,1,2)\n",
            "PC: 001_001_000_000_000_000000_000000_000000_000000_000000_000000_000000_000000_01_01_00_00_00\n",
            "E:  110_110_111_111_111_111111_111111_111111_111111_111111_111111_111111_111111_11_11_11_11_11\n",
            "A:  010_010_000_000_000_000000_000000_000000_000000_000000_000000_000000_000000_00_00_00_00_00\n",
            "[13] Mover(G,A,2,1)\n",
            "PC: 010_010_000_000_000_000000_000000_000000_000000_000000_000000_000000_000000_01_01_00_00_00\n",
            "E:  101_101_111_111_111_111111_111111_111111_111111_111111_111111_111111_111111_11_11_11_11_11\n",
            "A:  001_001_000_000_000_000000_000000_000000_000000_000000_000000_000000_000000_00_00_00_00_00\n",
            "[14] Mover(G,A,2,3)\n",
            "PC: 010_010_000_000_000_000000_000000_000000_000000_000000_000000_000000_000000_01_01_00_00_00\n",
            "E:  101_101_111_111_111_111111_111111_111111_111111_111111_111111_111111_111111_11_11_11_11_11\n",
            "A:  100_100_000_000_000_000000_000000_000000_000000_000000_000000_000000_000000_00_00_00_00_00\n",
            "[15] Mover(G,A,3,2)\n",
            "PC: 100_100_000_000_000_000000_000000_000000_000000_000000_000000_000000_000000_01_01_00_00_00\n",
            "E:  011_011_111_111_111_111111_111111_111111_111111_111111_111111_111111_111111_11_11_11_11_11\n",
            "A:  010_010_000_000_000_000000_000000_000000_000000_000000_000000_000000_000000_00_00_00_00_00\n",
            "[16] Mover(G,B,1,2)\n",
            "PC: 001_000_001_000_000_000000_000000_000000_000000_000000_000000_000000_000000_01_00_01_00_00\n",
            "E:  110_111_110_111_111_111111_111111_111111_111111_111111_111111_111111_111111_11_11_11_11_11\n",
            "A:  010_000_010_000_000_000000_000000_000000_000000_000000_000000_000000_000000_00_00_00_00_00\n",
            "[17] Mover(G,B,2,1)\n",
            "PC: 010_000_010_000_000_000000_000000_000000_000000_000000_000000_000000_000000_01_00_01_00_00\n",
            "E:  101_111_101_111_111_111111_111111_111111_111111_111111_111111_111111_111111_11_11_11_11_11\n",
            "A:  001_000_001_000_000_000000_000000_000000_000000_000000_000000_000000_000000_00_00_00_00_00\n",
            "[18] Mover(G,B,2,3)\n",
            "PC: 010_000_010_000_000_000000_000000_000000_000000_000000_000000_000000_000000_01_00_01_00_00\n",
            "E:  101_111_101_111_111_111111_111111_111111_111111_111111_111111_111111_111111_11_11_11_11_11\n",
            "A:  100_000_100_000_000_000000_000000_000000_000000_000000_000000_000000_000000_00_00_00_00_00\n",
            "[19] Mover(G,B,3,2)\n",
            "PC: 100_000_100_000_000_000000_000000_000000_000000_000000_000000_000000_000000_01_00_01_00_00\n",
            "E:  011_111_011_111_111_111111_111111_111111_111111_111111_111111_111111_111111_11_11_11_11_11\n",
            "A:  010_000_010_000_000_000000_000000_000000_000000_000000_000000_000000_000000_00_00_00_00_00\n",
            "[20] Mover(G,C,1,2)\n",
            "PC: 001_000_000_001_000_000000_000000_000000_000000_000000_000000_000000_000000_01_00_00_01_00\n",
            "E:  110_111_111_110_111_111111_111111_111111_111111_111111_111111_111111_111111_11_11_11_11_11\n",
            "A:  010_000_000_010_000_000000_000000_000000_000000_000000_000000_000000_000000_00_00_00_00_00\n",
            "[21] Mover(G,C,2,1)\n",
            "PC: 010_000_000_010_000_000000_000000_000000_000000_000000_000000_000000_000000_01_00_00_01_00\n",
            "E:  101_111_111_101_111_111111_111111_111111_111111_111111_111111_111111_111111_11_11_11_11_11\n",
            "A:  001_000_000_001_000_000000_000000_000000_000000_000000_000000_000000_000000_00_00_00_00_00\n",
            "[22] Mover(G,C,2,3)\n",
            "PC: 010_000_000_010_000_000000_000000_000000_000000_000000_000000_000000_000000_01_00_00_01_00\n",
            "E:  101_111_111_101_111_111111_111111_111111_111111_111111_111111_111111_111111_11_11_11_11_11\n",
            "A:  100_000_000_100_000_000000_000000_000000_000000_000000_000000_000000_000000_00_00_00_00_00\n",
            "[23] Mover(G,C,3,2)\n",
            "PC: 100_000_000_100_000_000000_000000_000000_000000_000000_000000_000000_000000_01_00_00_01_00\n",
            "E:  011_111_111_011_111_111111_111111_111111_111111_111111_111111_111111_111111_11_11_11_11_11\n",
            "A:  010_000_000_010_000_000000_000000_000000_000000_000000_000000_000000_000000_00_00_00_00_00\n",
            "[24] Mover(G,D,1,2)\n",
            "PC: 001_000_000_000_001_000000_000000_000000_000000_000000_000000_000000_000000_01_00_00_00_01\n",
            "E:  110_111_111_111_110_111111_111111_111111_111111_111111_111111_111111_111111_11_11_11_11_11\n",
            "A:  010_000_000_000_010_000000_000000_000000_000000_000000_000000_000000_000000_00_00_00_00_00\n",
            "[25] Mover(G,D,2,1)\n",
            "PC: 010_000_000_000_010_000000_000000_000000_000000_000000_000000_000000_000000_01_00_00_00_01\n",
            "E:  101_111_111_111_101_111111_111111_111111_111111_111111_111111_111111_111111_11_11_11_11_11\n",
            "A:  001_000_000_000_001_000000_000000_000000_000000_000000_000000_000000_000000_00_00_00_00_00\n",
            "[26] Mover(G,D,2,3)\n",
            "PC: 010_000_000_000_010_000000_000000_000000_000000_000000_000000_000000_000000_01_00_00_00_01\n",
            "E:  101_111_111_111_101_111111_111111_111111_111111_111111_111111_111111_111111_11_11_11_11_11\n",
            "A:  100_000_000_000_100_000000_000000_000000_000000_000000_000000_000000_000000_00_00_00_00_00\n",
            "[27] Mover(G,D,3,2)\n",
            "PC: 100_000_000_000_100_000000_000000_000000_000000_000000_000000_000000_000000_01_00_00_00_01\n",
            "E:  011_111_111_111_011_111111_111111_111111_111111_111111_111111_111111_111111_11_11_11_11_11\n",
            "A:  010_000_000_000_010_000000_000000_000000_000000_000000_000000_000000_000000_00_00_00_00_00\n",
            "[28] Apilar(G,A,B,1)\n",
            "PC: 001_001_001_000_000_000000_000000_000000_000000_100000_000000_010000_010000_01_01_00_00_00\n",
            "E:  111_111_111_111_111_111111_111111_111111_111111_011111_111111_111111_111111_10_10_11_11_11\n",
            "A:  000_000_000_000_000_100000_000000_000000_000000_000000_000000_000000_000000_10_10_00_00_00\n",
            "[29] Apilar(G,A,C,1)\n",
            "PC: 001_001_000_001_000_000000_000000_000000_000000_010000_010000_000000_001000_01_01_00_00_00\n",
            "E:  111_111_111_111_111_111111_111111_111111_111111_101111_111111_111111_111111_10_10_11_11_11\n",
            "A:  000_000_000_000_000_010000_000000_000000_000000_000000_000000_000000_000000_10_10_00_00_00\n",
            "[30] Apilar(G,A,D,1)\n",
            "PC: 001_001_000_000_001_000000_000000_000000_000000_001000_001000_001000_000000_01_01_00_00_00\n",
            "E:  111_111_111_111_111_111111_111111_111111_111111_110111_111111_111111_111111_10_10_11_11_11\n",
            "A:  000_000_000_000_000_001000_000000_000000_000000_000000_000000_000000_000000_10_10_00_00_00\n",
            "[31] Apilar(G,A,1)\n",
            "PC: 001_001_000_000_000_000000_000000_000000_000000_000100_000100_000100_000100_01_01_00_00_00\n",
            "E:  111_111_111_111_111_111111_111111_111111_111111_111011_111111_111111_111111_10_10_11_11_11\n",
            "A:  000_000_000_000_000_000100_000000_000000_000000_000000_000000_000000_000000_10_10_00_00_00\n",
            "[32] Apilar(G,A,B,2)\n",
            "PC: 010_010_010_000_000_000000_000000_000000_000000_100000_000000_010000_010000_01_01_00_00_00\n",
            "E:  111_111_111_111_111_111111_111111_111111_111111_011111_111111_111111_111111_10_10_11_11_11\n",
            "A:  000_000_000_000_000_100000_000000_000000_000000_000000_000000_000000_000000_10_10_00_00_00\n",
            "[33] Apilar(G,A,C,2)\n",
            "PC: 010_010_000_010_000_000000_000000_000000_000000_010000_010000_000000_001000_01_01_00_00_00\n",
            "E:  111_111_111_111_111_111111_111111_111111_111111_101111_111111_111111_111111_10_10_11_11_11\n",
            "A:  000_000_000_000_000_010000_000000_000000_000000_000000_000000_000000_000000_10_10_00_00_00\n",
            "[34] Apilar(G,A,D,2)\n",
            "PC: 010_010_000_000_010_000000_000000_000000_000000_001000_001000_001000_000000_01_01_00_00_00\n",
            "E:  111_111_111_111_111_111111_111111_111111_111111_110111_111111_111111_111111_10_10_11_11_11\n",
            "A:  000_000_000_000_000_001000_000000_000000_000000_000000_000000_000000_000000_10_10_00_00_00\n",
            "[35] Apilar(G,A,2)\n",
            "PC: 010_010_000_000_000_000000_000000_000000_000000_000010_000010_000010_000010_01_01_00_00_00\n",
            "E:  111_111_111_111_111_111111_111111_111111_111111_111101_111111_111111_111111_10_10_11_11_11\n",
            "A:  000_000_000_000_000_000010_000000_000000_000000_000000_000000_000000_000000_10_10_00_00_00\n",
            "[36] Apilar(G,A,B,3)\n",
            "PC: 100_100_100_000_000_000000_000000_000000_000000_100000_000000_010000_010000_01_01_00_00_00\n",
            "E:  111_111_111_111_111_111111_111111_111111_111111_011111_111111_111111_111111_10_10_11_11_11\n",
            "A:  000_000_000_000_000_100000_000000_000000_000000_000000_000000_000000_000000_10_10_00_00_00\n",
            "[37] Apilar(G,A,C,3)\n",
            "PC: 100_100_000_100_000_000000_000000_000000_000000_010000_010000_000000_001000_01_01_00_00_00\n",
            "E:  111_111_111_111_111_111111_111111_111111_111111_101111_111111_111111_111111_10_10_11_11_11\n",
            "A:  000_000_000_000_000_010000_000000_000000_000000_000000_000000_000000_000000_10_10_00_00_00\n",
            "[38] Apilar(G,A,D,3)\n",
            "PC: 100_100_000_000_100_000000_000000_000000_000000_001000_001000_001000_000000_01_01_00_00_00\n",
            "E:  111_111_111_111_111_111111_111111_111111_111111_110111_111111_111111_111111_10_10_11_11_11\n",
            "A:  000_000_000_000_000_001000_000000_000000_000000_000000_000000_000000_000000_10_10_00_00_00\n",
            "[39] Apilar(G,A,3)\n",
            "PC: 100_100_000_000_000_000000_000000_000000_000000_000001_000001_000001_000001_01_01_00_00_00\n",
            "E:  111_111_111_111_111_111111_111111_111111_111111_111110_111111_111111_111111_10_10_11_11_11\n",
            "A:  000_000_000_000_000_000001_000000_000000_000000_000000_000000_000000_000000_10_10_00_00_00\n",
            "[40] Apilar(G,B,A,1)\n",
            "PC: 001_001_001_000_000_000000_000000_000000_000000_000000_100000_100000_100000_01_00_01_00_00\n",
            "E:  111_111_111_111_111_111111_111111_111111_111111_111111_011111_111111_111111_10_11_10_11_11\n",
            "A:  000_000_000_000_000_000000_100000_000000_000000_000000_000000_000000_000000_10_00_10_00_00\n",
            "[41] Apilar(G,B,C,1)\n",
            "PC: 001_000_001_001_000_000000_000000_000000_000000_010000_010000_000000_001000_01_00_01_00_00\n",
            "E:  111_111_111_111_111_111111_111111_111111_111111_111111_101111_111111_111111_10_11_10_11_11\n",
            "A:  000_000_000_000_000_000000_010000_000000_000000_000000_000000_000000_000000_10_00_10_00_00\n",
            "[42] Apilar(G,B,D,1)\n",
            "PC: 001_000_001_000_001_000000_000000_000000_000000_001000_001000_001000_000000_01_00_01_00_00\n",
            "E:  111_111_111_111_111_111111_111111_111111_111111_111111_110111_111111_111111_10_11_10_11_11\n",
            "A:  000_000_000_000_000_000000_001000_000000_000000_000000_000000_000000_000000_10_00_10_00_00\n",
            "[43] Apilar(G,B,1)\n",
            "PC: 001_000_001_000_000_000000_000000_000000_000000_000100_000100_000100_000100_01_00_01_00_00\n",
            "E:  111_111_111_111_111_111111_111111_111111_111111_111111_111011_111111_111111_10_11_10_11_11\n",
            "A:  000_000_000_000_000_000000_000100_000000_000000_000000_000000_000000_000000_10_00_10_00_00\n",
            "[44] Apilar(G,B,A,2)\n",
            "PC: 010_010_010_000_000_000000_000000_000000_000000_000000_100000_100000_100000_01_00_01_00_00\n",
            "E:  111_111_111_111_111_111111_111111_111111_111111_111111_011111_111111_111111_10_11_10_11_11\n",
            "A:  000_000_000_000_000_000000_100000_000000_000000_000000_000000_000000_000000_10_00_10_00_00\n",
            "[45] Apilar(G,B,C,2)\n",
            "PC: 010_000_010_010_000_000000_000000_000000_000000_010000_010000_000000_001000_01_00_01_00_00\n",
            "E:  111_111_111_111_111_111111_111111_111111_111111_111111_101111_111111_111111_10_11_10_11_11\n",
            "A:  000_000_000_000_000_000000_010000_000000_000000_000000_000000_000000_000000_10_00_10_00_00\n",
            "[46] Apilar(G,B,D,2)\n",
            "PC: 010_000_010_000_010_000000_000000_000000_000000_001000_001000_001000_000000_01_00_01_00_00\n",
            "E:  111_111_111_111_111_111111_111111_111111_111111_111111_110111_111111_111111_10_11_10_11_11\n",
            "A:  000_000_000_000_000_000000_001000_000000_000000_000000_000000_000000_000000_10_00_10_00_00\n",
            "[47] Apilar(G,B,2)\n",
            "PC: 010_000_010_000_000_000000_000000_000000_000000_000010_000010_000010_000010_01_00_01_00_00\n",
            "E:  111_111_111_111_111_111111_111111_111111_111111_111111_111101_111111_111111_10_11_10_11_11\n",
            "A:  000_000_000_000_000_000000_000010_000000_000000_000000_000000_000000_000000_10_00_10_00_00\n",
            "[48] Apilar(G,B,A,3)\n",
            "PC: 100_100_100_000_000_000000_000000_000000_000000_000000_100000_100000_100000_01_00_01_00_00\n",
            "E:  111_111_111_111_111_111111_111111_111111_111111_111111_011111_111111_111111_10_11_10_11_11\n",
            "A:  000_000_000_000_000_000000_100000_000000_000000_000000_000000_000000_000000_10_00_10_00_00\n",
            "[49] Apilar(G,B,C,3)\n",
            "PC: 100_000_100_100_000_000000_000000_000000_000000_010000_010000_000000_001000_01_00_01_00_00\n",
            "E:  111_111_111_111_111_111111_111111_111111_111111_111111_101111_111111_111111_10_11_10_11_11\n",
            "A:  000_000_000_000_000_000000_010000_000000_000000_000000_000000_000000_000000_10_00_10_00_00\n",
            "[50] Apilar(G,B,D,3)\n",
            "PC: 100_000_100_000_100_000000_000000_000000_000000_001000_001000_001000_000000_01_00_01_00_00\n",
            "E:  111_111_111_111_111_111111_111111_111111_111111_111111_110111_111111_111111_10_11_10_11_11\n",
            "A:  000_000_000_000_000_000000_001000_000000_000000_000000_000000_000000_000000_10_00_10_00_00\n",
            "[51] Apilar(G,B,3)\n",
            "PC: 100_000_100_000_000_000000_000000_000000_000000_000001_000001_000001_000001_01_00_01_00_00\n",
            "E:  111_111_111_111_111_111111_111111_111111_111111_111111_111110_111111_111111_10_11_10_11_11\n",
            "A:  000_000_000_000_000_000000_000001_000000_000000_000000_000000_000000_000000_10_00_10_00_00\n",
            "[52] Apilar(G,C,A,1)\n",
            "PC: 001_001_000_001_000_000000_000000_000000_000000_000000_100000_100000_100000_01_00_00_01_00\n",
            "E:  111_111_111_111_111_111111_111111_111111_111111_111111_111111_011111_111111_10_11_11_10_11\n",
            "A:  000_000_000_000_000_000000_000000_100000_000000_000000_000000_000000_000000_10_00_00_10_00\n",
            "[53] Apilar(G,C,B,1)\n",
            "PC: 001_000_001_001_000_000000_000000_000000_000000_100000_000000_010000_010000_01_00_00_01_00\n",
            "E:  111_111_111_111_111_111111_111111_111111_111111_111111_111111_101111_111111_10_11_11_10_11\n",
            "A:  000_000_000_000_000_000000_000000_010000_000000_000000_000000_000000_000000_10_00_00_10_00\n",
            "[54] Apilar(G,C,D,1)\n",
            "PC: 001_000_000_001_001_000000_000000_000000_000000_001000_001000_001000_000000_01_00_00_01_00\n",
            "E:  111_111_111_111_111_111111_111111_111111_111111_111111_111111_110111_111111_10_11_11_10_11\n",
            "A:  000_000_000_000_000_000000_000000_001000_000000_000000_000000_000000_000000_10_00_00_10_00\n",
            "[55] Apilar(G,C,1)\n",
            "PC: 001_000_000_001_000_000000_000000_000000_000000_000100_000100_000100_000100_01_00_00_01_00\n",
            "E:  111_111_111_111_111_111111_111111_111111_111111_111111_111111_111011_111111_10_11_11_10_11\n",
            "A:  000_000_000_000_000_000000_000000_000100_000000_000000_000000_000000_000000_10_00_00_10_00\n",
            "[56] Apilar(G,C,A,2)\n",
            "PC: 010_010_000_010_000_000000_000000_000000_000000_000000_100000_100000_100000_01_00_00_01_00\n",
            "E:  111_111_111_111_111_111111_111111_111111_111111_111111_111111_011111_111111_10_11_11_10_11\n",
            "A:  000_000_000_000_000_000000_000000_100000_000000_000000_000000_000000_000000_10_00_00_10_00\n",
            "[57] Apilar(G,C,B,2)\n",
            "PC: 010_000_010_010_000_000000_000000_000000_000000_100000_000000_010000_010000_01_00_00_01_00\n",
            "E:  111_111_111_111_111_111111_111111_111111_111111_111111_111111_101111_111111_10_11_11_10_11\n",
            "A:  000_000_000_000_000_000000_000000_010000_000000_000000_000000_000000_000000_10_00_00_10_00\n",
            "[58] Apilar(G,C,D,2)\n",
            "PC: 010_000_000_010_010_000000_000000_000000_000000_001000_001000_001000_000000_01_00_00_01_00\n",
            "E:  111_111_111_111_111_111111_111111_111111_111111_111111_111111_110111_111111_10_11_11_10_11\n",
            "A:  000_000_000_000_000_000000_000000_001000_000000_000000_000000_000000_000000_10_00_00_10_00\n",
            "[59] Apilar(G,C,2)\n",
            "PC: 010_000_000_010_000_000000_000000_000000_000000_000010_000010_000010_000010_01_00_00_01_00\n",
            "E:  111_111_111_111_111_111111_111111_111111_111111_111111_111111_111101_111111_10_11_11_10_11\n",
            "A:  000_000_000_000_000_000000_000000_000010_000000_000000_000000_000000_000000_10_00_00_10_00\n",
            "[60] Apilar(G,C,A,3)\n",
            "PC: 100_100_000_100_000_000000_000000_000000_000000_000000_100000_100000_100000_01_00_00_01_00\n",
            "E:  111_111_111_111_111_111111_111111_111111_111111_111111_111111_011111_111111_10_11_11_10_11\n",
            "A:  000_000_000_000_000_000000_000000_100000_000000_000000_000000_000000_000000_10_00_00_10_00\n",
            "[61] Apilar(G,C,B,3)\n",
            "PC: 100_000_100_100_000_000000_000000_000000_000000_100000_000000_010000_010000_01_00_00_01_00\n",
            "E:  111_111_111_111_111_111111_111111_111111_111111_111111_111111_101111_111111_10_11_11_10_11\n",
            "A:  000_000_000_000_000_000000_000000_010000_000000_000000_000000_000000_000000_10_00_00_10_00\n",
            "[62] Apilar(G,C,D,3)\n",
            "PC: 100_000_000_100_100_000000_000000_000000_000000_001000_001000_001000_000000_01_00_00_01_00\n",
            "E:  111_111_111_111_111_111111_111111_111111_111111_111111_111111_110111_111111_10_11_11_10_11\n",
            "A:  000_000_000_000_000_000000_000000_001000_000000_000000_000000_000000_000000_10_00_00_10_00\n",
            "[63] Apilar(G,C,3)\n",
            "PC: 100_000_000_100_000_000000_000000_000000_000000_000001_000001_000001_000001_01_00_00_01_00\n",
            "E:  111_111_111_111_111_111111_111111_111111_111111_111111_111111_111110_111111_10_11_11_10_11\n",
            "A:  000_000_000_000_000_000000_000000_000001_000000_000000_000000_000000_000000_10_00_00_10_00\n",
            "[64] Apilar(G,D,A,1)\n",
            "PC: 001_001_000_000_001_000000_000000_000000_000000_000000_100000_100000_100000_01_00_00_00_01\n",
            "E:  111_111_111_111_111_111111_111111_111111_111111_111111_111111_111111_011111_10_11_11_11_10\n",
            "A:  000_000_000_000_000_000000_000000_000000_100000_000000_000000_000000_000000_10_00_00_00_10\n",
            "[65] Apilar(G,D,B,1)\n",
            "PC: 001_000_001_000_001_000000_000000_000000_000000_100000_000000_010000_010000_01_00_00_00_01\n",
            "E:  111_111_111_111_111_111111_111111_111111_111111_111111_111111_111111_101111_10_11_11_11_10\n",
            "A:  000_000_000_000_000_000000_000000_000000_010000_000000_000000_000000_000000_10_00_00_00_10\n",
            "[66] Apilar(G,D,C,1)\n",
            "PC: 001_000_000_001_001_000000_000000_000000_000000_010000_010000_000000_001000_01_00_00_00_01\n",
            "E:  111_111_111_111_111_111111_111111_111111_111111_111111_111111_111111_110111_10_11_11_11_10\n",
            "A:  000_000_000_000_000_000000_000000_000000_001000_000000_000000_000000_000000_10_00_00_00_10\n",
            "[67] Apilar(G,D,1)\n",
            "PC: 001_000_000_000_001_000000_000000_000000_000000_000100_000100_000100_000100_01_00_00_00_01\n",
            "E:  111_111_111_111_111_111111_111111_111111_111111_111111_111111_111111_111011_10_11_11_11_10\n",
            "A:  000_000_000_000_000_000000_000000_000000_000100_000000_000000_000000_000000_10_00_00_00_10\n",
            "[68] Apilar(G,D,A,2)\n",
            "PC: 010_010_000_000_010_000000_000000_000000_000000_000000_100000_100000_100000_01_00_00_00_01\n",
            "E:  111_111_111_111_111_111111_111111_111111_111111_111111_111111_111111_011111_10_11_11_11_10\n",
            "A:  000_000_000_000_000_000000_000000_000000_100000_000000_000000_000000_000000_10_00_00_00_10\n",
            "[69] Apilar(G,D,B,2)\n",
            "PC: 010_000_010_000_010_000000_000000_000000_000000_100000_000000_010000_010000_01_00_00_00_01\n",
            "E:  111_111_111_111_111_111111_111111_111111_111111_111111_111111_111111_101111_10_11_11_11_10\n",
            "A:  000_000_000_000_000_000000_000000_000000_010000_000000_000000_000000_000000_10_00_00_00_10\n",
            "[70] Apilar(G,D,C,2)\n",
            "PC: 010_000_000_010_010_000000_000000_000000_000000_010000_010000_000000_001000_01_00_00_00_01\n",
            "E:  111_111_111_111_111_111111_111111_111111_111111_111111_111111_111111_110111_10_11_11_11_10\n",
            "A:  000_000_000_000_000_000000_000000_000000_001000_000000_000000_000000_000000_10_00_00_00_10\n",
            "[71] Apilar(G,D,2)\n",
            "PC: 010_000_000_000_010_000000_000000_000000_000000_000010_000010_000010_000010_01_00_00_00_01\n",
            "E:  111_111_111_111_111_111111_111111_111111_111111_111111_111111_111111_111101_10_11_11_11_10\n",
            "A:  000_000_000_000_000_000000_000000_000000_000010_000000_000000_000000_000000_10_00_00_00_10\n",
            "[72] Apilar(G,D,A,3)\n",
            "PC: 100_100_000_000_100_000000_000000_000000_000000_000000_100000_100000_100000_01_00_00_00_01\n",
            "E:  111_111_111_111_111_111111_111111_111111_111111_111111_111111_111111_011111_10_11_11_11_10\n",
            "A:  000_000_000_000_000_000000_000000_000000_100000_000000_000000_000000_000000_10_00_00_00_10\n",
            "[73] Apilar(G,D,B,3)\n",
            "PC: 100_000_100_000_100_000000_000000_000000_000000_100000_000000_010000_010000_01_00_00_00_01\n",
            "E:  111_111_111_111_111_111111_111111_111111_111111_111111_111111_111111_101111_10_11_11_11_10\n",
            "A:  000_000_000_000_000_000000_000000_000000_010000_000000_000000_000000_000000_10_00_00_00_10\n",
            "[74] Apilar(G,D,C,3)\n",
            "PC: 100_000_000_100_100_000000_000000_000000_000000_010000_010000_000000_001000_01_00_00_00_01\n",
            "E:  111_111_111_111_111_111111_111111_111111_111111_111111_111111_111111_110111_10_11_11_11_10\n",
            "A:  000_000_000_000_000_000000_000000_000000_001000_000000_000000_000000_000000_10_00_00_00_10\n",
            "[75] Apilar(G,D,3)\n",
            "PC: 100_000_000_000_100_000000_000000_000000_000000_000001_000001_000001_000001_01_00_00_00_01\n",
            "E:  111_111_111_111_111_111111_111111_111111_111111_111111_111111_111111_111110_10_11_11_11_10\n",
            "A:  000_000_000_000_000_000000_000000_000000_000001_000000_000000_000000_000000_10_00_00_00_10\n",
            "[76] Ir(G,1,2)\n",
            "PC: 001_000_000_000_000_000000_000000_000000_000000_000000_000000_000000_000000_10_00_00_00_00\n",
            "E:  110_111_111_111_111_111111_111111_111111_111111_111111_111111_111111_111111_11_11_11_11_11\n",
            "A:  010_000_000_000_000_000000_000000_000000_000000_000000_000000_000000_000000_00_00_00_00_00\n",
            "[77] Ir(G,2,1)\n",
            "PC: 010_000_000_000_000_000000_000000_000000_000000_000000_000000_000000_000000_10_00_00_00_00\n",
            "E:  101_111_111_111_111_111111_111111_111111_111111_111111_111111_111111_111111_11_11_11_11_11\n",
            "A:  001_000_000_000_000_000000_000000_000000_000000_000000_000000_000000_000000_00_00_00_00_00\n",
            "[78] Ir(G,2,3)\n",
            "PC: 010_000_000_000_000_000000_000000_000000_000000_000000_000000_000000_000000_10_00_00_00_00\n",
            "E:  101_111_111_111_111_111111_111111_111111_111111_111111_111111_111111_111111_11_11_11_11_11\n",
            "A:  100_000_000_000_000_000000_000000_000000_000000_000000_000000_000000_000000_00_00_00_00_00\n",
            "[79] Ir(G,3,2)\n",
            "PC: 100_000_000_000_000_000000_000000_000000_000000_000000_000000_000000_000000_10_00_00_00_00\n",
            "E:  011_111_111_111_111_111111_111111_111111_111111_111111_111111_111111_111111_11_11_11_11_11\n",
            "A:  010_000_000_000_000_000000_000000_000000_000000_000000_000000_000000_000000_00_00_00_00_00\n"
          ]
        }
      ]
    },
    {
      "cell_type": "markdown",
      "source": [
        "## 2.3. Algoritmos de Planificación y Transición"
      ],
      "metadata": {
        "id": "QI4F1zIn0NDX"
      }
    },
    {
      "cell_type": "markdown",
      "source": [
        "### 2.3.1. Función de transición\n",
        "\n",
        "Función de transición que actualiza el estado del mundo después de realizar una acción utilizando las máscaras que comprueban, eliminan y añaden atributos."
      ],
      "metadata": {
        "id": "d4pq4cCDrfby"
      }
    },
    {
      "cell_type": "code",
      "source": [
        "#Función de transición\n",
        "def intentar(nodo,op, info_mostrada=False):\n",
        "\n",
        "  if info_mostrada:\n",
        "    print(\"\\nIntentar operación\", f\"{op}\", texto[op])\n",
        "    print(\"Precondiciones ->\", mostrar(PC[op]))\n",
        "    print(\"Estado Actual  ->\", mostrar(nodo))\n",
        "\n",
        "  #Se comprueba que se cumplan las precondiciones\n",
        "  if (bin(nodo & PC[op]) == bin(PC[op])):\n",
        "\n",
        "    # Se eliminan los estados indicados por E\n",
        "    siguiente=int(bin(nodo & E[op]),2)\n",
        "    # Se añaden los estados indicados por A\n",
        "    siguiente=int(bin(siguiente | A[op]),2)\n",
        "\n",
        "    if info_mostrada:\n",
        "      print(\"Se eliminan E  ->\", mostrar(E[op]))\n",
        "      print(\"Se añaden A    ->\", mostrar(A[op]))\n",
        "      print(\"Est. Siguiente ->\", mostrar(siguiente))\n",
        "\n",
        "  else:\n",
        "    if info_mostrada:\n",
        "      print(\"No se cumplen las precondiciones\")\n",
        "    siguiente=-1\n",
        "\n",
        "  return siguiente"
      ],
      "metadata": {
        "id": "mWMebrSQzXxH"
      },
      "execution_count": 12,
      "outputs": []
    },
    {
      "cell_type": "markdown",
      "source": [
        "### 2.3.2. Función de planificación\n",
        "\n",
        "Función que utiliza STRIPS para planificar una secuencia de acciones que conduce del estado inicial al estado objetivo y mediante un algoritmo de exploración en profundidad no recursivo. Contiene una función interna para comprobar si un estado al que se quiere pasar ya se ha guardado en la pila."
      ],
      "metadata": {
        "id": "_5FanrIXrm0Q"
      }
    },
    {
      "cell_type": "code",
      "source": [
        "def resolver(inicial, meta, max_profundidad, info_acciones=False, info_pila=False, info_transicion=False):\n",
        "\n",
        "  #Función de comprobación en la pila del estado consecuencia de realizar una acción\n",
        "  def encontrado(info_mostrada=False):\n",
        "    encontrado=False\n",
        "    if info_mostrada:\n",
        "      print(\"Comprobando estado alcanzado por operación\", texto[indice_operacion])\n",
        "    #Se recorre la pila hacia atrás buscando ya se ha guardado el estado actual\n",
        "    for t in range(indice_pila+1):\n",
        "        if (estados[t] == estado_siguiente):\n",
        "          encontrado=True\n",
        "          if info_mostrada:\n",
        "            print(\"Estado repetido en posicion\", t)\n",
        "    if info_mostrada and not encontrado:\n",
        "      print(\"No se ha encontrado coincidencias en la pila de estados\")\n",
        "    return encontrado\n",
        "\n",
        "  indice_pila = 0 # Cima de la pila\n",
        "  indice_operacion = 0 # Índice de operación\n",
        "  estado_actual = inicial # Estado actual\n",
        "  # Pila de estados\n",
        "  estados = [0]*max_profundidad\n",
        "  estados[indice_pila] = 0\n",
        "  # Pila de operaciones\n",
        "  operaciones = [0]*max_profundidad\n",
        "  operaciones[indice_pila] = 0\n",
        "\n",
        "  # Mientras queden estados por explorar\n",
        "  while (indice_pila>=0):\n",
        "\n",
        "    if info_pila:\n",
        "      print(\"\\nRetorno a operación:\", texto[operaciones[indice_pila]] if indice_pila > 0 else \"INICIO\")\n",
        "\n",
        "    while ((indice_operacion < max_operaciones) and (indice_pila < max_profundidad-1) and (estado_actual != meta)):\n",
        "\n",
        "        # Intenta realizar la acción op sobre el estado actual\n",
        "        estado_siguiente = intentar(estado_actual, indice_operacion, info_transicion)\n",
        "\n",
        "        # Si se han cumplido las precondiciones se procesa el nuevo estado.\n",
        "        if (estado_siguiente!=-1): # -1 es null acción no permitida\n",
        "\n",
        "          # Si el estado no está en la pila se guarda y se avanza a la siguiente posición\n",
        "          if (not(encontrado(info_pila))):\n",
        "\n",
        "            # Mantenemos en la pila el estado y la acción incrementando el índice en 1\n",
        "            indice_pila += 1\n",
        "            estados[indice_pila] = estado_actual\n",
        "            operaciones[indice_pila] = indice_operacion\n",
        "            # Saltamos al siguiente estado\n",
        "            estado_actual = estado_siguiente\n",
        "            indice_operacion = -1 # Para que empiece en 0\n",
        "\n",
        "            #Si se encuentra el estado final se devuelve la pila de operaciones\n",
        "            if (int(bin(estado_actual & meta),2)==int(bin(meta),2)):\n",
        "              if info_acciones:\n",
        "                print(\"\\n------------------------------------------------------------------------------------------------------------------\\n\")\n",
        "              return operaciones[1:indice_pila+1]\n",
        "\n",
        "            # Muestra información de la pila de operaciones\n",
        "            if info_acciones:\n",
        "              if info_transicion or info_pila:\n",
        "                print(\"\\n------------------------------------------------------------------------------------------------------------------\\n\")\n",
        "              print(\"INICIO-->\", end=\"\")\n",
        "              for t in range(1,indice_pila+1):\n",
        "                print(f\"{texto[operaciones[t]]}-->\",end='')\n",
        "              print(\"FIN\")\n",
        "\n",
        "        indice_operacion += 1\n",
        "\n",
        "    # Si se han probado todas las operaciones para un estado se retrocede al anterior\n",
        "    estado_actual = estados[indice_pila]\n",
        "    # Se continuan las operaciones en la siguiente a la que se había utilizado para avanzar\n",
        "    indice_operacion = operaciones[indice_pila]+1\n",
        "    indice_pila -= 1\n",
        "\n",
        "  return []"
      ],
      "metadata": {
        "id": "Bu6Bz8Wcrm6h"
      },
      "execution_count": 13,
      "outputs": []
    },
    {
      "cell_type": "markdown",
      "source": [
        "## 2.4. Visualización"
      ],
      "metadata": {
        "id": "-N0nNX8lnBLI"
      }
    },
    {
      "cell_type": "markdown",
      "source": [
        "Funciones de visualización en forma de texto y grafo"
      ],
      "metadata": {
        "id": "525mqzSHs3rw"
      }
    },
    {
      "cell_type": "code",
      "source": [
        "# Resultado de la pila de acciones en texto\n",
        "def mostrar_solucion_texto(operaciones):\n",
        "  print(\"SOLUCIÓN:\")\n",
        "  if operaciones:\n",
        "    print(\"INICIO-->\", end=\"\")\n",
        "    for t in range(len(operaciones)):\n",
        "      print(f\"{texto[operaciones[t]]}-->\",end='\\n' if t%5 == 4 else \"\")\n",
        "    print(\"FIN\")\n",
        "  else:\n",
        "    print(\"No se ha encontrado una solución\")"
      ],
      "metadata": {
        "id": "aag49CEUm_1g"
      },
      "execution_count": 14,
      "outputs": []
    },
    {
      "cell_type": "markdown",
      "source": [
        "Función que dibuja un grafo con la sucesión de pasos encontrada en la solución"
      ],
      "metadata": {
        "id": "lXuacyPdnCwv"
      }
    },
    {
      "cell_type": "code",
      "source": [
        "import networkx as nx\n",
        "import matplotlib.pyplot as plt\n",
        "from math import sqrt, ceil\n",
        "\n",
        "# Resultado de la pila de acciones en grafo\n",
        "def mostrar_solucion_grafo(operaciones):\n",
        "\n",
        "  if operaciones:\n",
        "    # Creamos las etiquetas de los nodos\n",
        "    nodos = [texto[i] for i in operaciones]\n",
        "    nodos = [str(i+1) + \". \" + nodos[i] for i in range(len(nodos))]\n",
        "    nodos.insert(0, \"INICIO\")\n",
        "    nodos.append(\"FIN\")\n",
        "\n",
        "    # Definimos las aristas (y nodos) del grafo\n",
        "    edges = [(\"INICIO\", nodos[0])]\n",
        "    for i in range(len(operaciones)):\n",
        "      edges.append((nodos[i], nodos[i+1]))\n",
        "    edges.append((nodos[len(operaciones)], \"FIN\"))\n",
        "\n",
        "    # Difinimos el grafo de acciones y y añadimos las aristas y nodos al grafo\n",
        "    grafo_acciones = nx.DiGraph()\n",
        "    grafo_acciones.add_edges_from(edges)\n",
        "\n",
        "    # Se definen las posiciones de los nodos en filas y columnas\n",
        "    dim = ceil(sqrt(len(nodos)))\n",
        "    col = lambda x: x%dim\n",
        "    row = lambda x: x//dim\n",
        "    posiciones_nodos = {nodo: (col(i) if row(i)%2 == 0 else dim-col(i)-1, row(i)) for i, nodo in enumerate(nodos)}\n",
        "\n",
        "    # Visualizamos el grafo de acciones\n",
        "    nx.draw(grafo_acciones, pos=posiciones_nodos, with_labels=True, node_size=3000, node_color=\"skyblue\", font_size=5, font_color=\"black\", font_weight=\"bold\", arrowsize=20)\n",
        "    plt.show()\n",
        "\n",
        "  else:\n",
        "    print(\"No se ha encontrado una solución\")"
      ],
      "metadata": {
        "id": "uZIZS5FLnDAv"
      },
      "execution_count": 15,
      "outputs": []
    },
    {
      "cell_type": "markdown",
      "source": [
        "# 3. Ejecución"
      ],
      "metadata": {
        "id": "VNWKHs0_yKI6"
      }
    },
    {
      "cell_type": "code",
      "source": [
        "# Parámetros\n",
        "vector_inicial = [1, 1, 1, 1, 1, 'BA', 'AC', 'CD']\n",
        "vector_meta = [3, 3, 3, 3, 3, 'AB', 'BC', 'CD']\n",
        "max_profundidad=36\n",
        "\n",
        "# Se llama a la función para generar las operaciones y se guarda su información\n",
        "texto, PC, E, A = definir_acciones()\n",
        "# Ejecución de la función de planificación\n",
        "operaciones = resolver(mascara(vector_inicial), mascara(vector_meta), max_profundidad, False, False, False)\n",
        "#Se muestra la solución\n",
        "mostrar_solucion_texto(operaciones)"
      ],
      "metadata": {
        "colab": {
          "base_uri": "https://localhost:8080/"
        },
        "id": "LrWmzZ6-xULS",
        "outputId": "1d584fed-b9b7-424a-915f-4c6ca528fb16"
      },
      "execution_count": 16,
      "outputs": [
        {
          "output_type": "stream",
          "name": "stdout",
          "text": [
            "SOLUCIÓN:\n",
            "INICIO-->Coger(G,B,1)-->Mover(G,B,1,2)-->Mover(G,B,2,3)-->Apilar(G,B,3)-->Ir(G,3,2)-->\n",
            "Ir(G,2,1)-->Coger(G,A,1)-->Mover(G,A,1,2)-->Apilar(G,A,2)-->Ir(G,2,3)-->\n",
            "Coger(G,B,3)-->Mover(G,B,3,2)-->Apilar(G,B,A,2)-->Ir(G,2,1)-->Coger(G,C,1)-->\n",
            "Mover(G,C,1,2)-->Apilar(G,C,B,2)-->Ir(G,2,1)-->Coger(G,D,1)-->Mover(G,D,1,2)-->\n",
            "Mover(G,D,2,3)-->Apilar(G,D,3)-->Ir(G,3,2)-->Coger(G,C,2)-->Mover(G,C,2,3)-->\n",
            "Apilar(G,C,D,3)-->Ir(G,3,2)-->Coger(G,B,2)-->Mover(G,B,2,3)-->Apilar(G,B,C,3)-->\n",
            "Ir(G,3,2)-->Coger(G,A,2)-->Mover(G,A,2,3)-->Apilar(G,A,B,3)-->FIN\n"
          ]
        }
      ]
    },
    {
      "cell_type": "code",
      "source": [
        "mostrar_solucion_grafo(operaciones)"
      ],
      "metadata": {
        "colab": {
          "base_uri": "https://localhost:8080/",
          "height": 516
        },
        "id": "-FA7Ju3OAN5R",
        "outputId": "ce8a1775-c303-447c-8dc5-a20cea8059ef"
      },
      "execution_count": 17,
      "outputs": [
        {
          "output_type": "display_data",
          "data": {
            "text/plain": [
              "<Figure size 640x480 with 1 Axes>"
            ],
            "image/png": "[encoded data removed]"
          },
          "metadata": {}
        }
      ]
    },
    {
      "cell_type": "markdown",
      "source": [
        "# 4. Extras"
      ],
      "metadata": {
        "id": "zrjxuMEYg48_"
      }
    },
    {
      "cell_type": "markdown",
      "source": [
        "### 4.1. Ejemplo de algoritmo de comprobación de solución"
      ],
      "metadata": {
        "id": "86PEQwzbLnhB"
      }
    },
    {
      "cell_type": "markdown",
      "source": [
        "Algoritmo que permite introducir manualmente una secuencia de operaciones y comprobar si el estado final esperado es alcanzado. Cambiendo el tercer parámetro de la función intentar a True podemos ver las máscaras PC,E y A correspondientes a cada operación y saber que operación no ha podido realizarse."
      ],
      "metadata": {
        "id": "6dyihZfH1bng"
      }
    },
    {
      "cell_type": "code",
      "source": [
        "# Función que realiza las transciones de estado para una secuencia de pasos y comprueba\n",
        "# si el estado alcanzado coincide con el esperado\n",
        "def comprobar_solucion(vector_inicial, vector_final, acciones_prueba, info_mostrada):\n",
        "\n",
        "  estado_actual = mascara(vector_inicial)\n",
        "  estado_final = mascara(vector_final)\n",
        "\n",
        "  # Si la secuencia de acciones es un cadena se eliminan los estados de INICIO y FIN\n",
        "  # y se transforman los pasos a formato lista\n",
        "  if isinstance(acciones_prueba, str):\n",
        "    if acciones_prueba.startswith(\"INICIO-->\"):\n",
        "      acciones_prueba = acciones_prueba[9:]\n",
        "    if acciones_prueba.endswith(\"-->FIN\"):\n",
        "      acciones_prueba = acciones_prueba[:-6]\n",
        "    acciones_prueba = acciones_prueba.split(\"-->\")\n",
        "\n",
        "  for accion_prueba in acciones_prueba:\n",
        "    indice = texto.index(accion_prueba)\n",
        "    estado_siguiente = intentar(estado_actual, indice, info_mostrada)\n",
        "    if estado_siguiente != -1:\n",
        "      estado_actual = estado_siguiente\n",
        "\n",
        "  print(\"\\nSolución válida\" if estado_final == estado_actual else \"\\nSolución no válida\")\n",
        "  print(\"Esperado: \", mostrar(estado_final))\n",
        "  print(\"Calculado:\", mostrar(estado_actual))\n",
        "\n",
        "\n",
        "#Máscaras para 4 cajas y 3 posiciones\n",
        "vector_inicial = [1, 1, 1, 1, 1, 'BA', 'AC', 'CD']\n",
        "vector_meta= [3, 3, 3, 3, 3, 'AB', 'BC', 'CD']\n",
        "\n",
        "acciones_prueba = \"INICIO-->Mover(G,B,1,2)-->Coger(G,B,1)-->FIN\"\n",
        "\n",
        "# Acciones en formato cadena\n",
        "#acciones_prueba = \"Coger(G,B,1)-->Mover(G,B,1,2)-->Apilar(G,B,2)-->Ir(G,2,1)-->Coger(G,A,1)-->Mover(G,A,1,2)-->Apilar(G,A,B,2)-->Ir(G,2,1)-->Coger(G,C,1)-->\" + \\\n",
        "#                  \"Mover(G,C,1,2)-->Apilar(G,C,A,2)-->Ir(G,2,1)-->Coger(G,D,1)-->Mover(G,D,1,2)-->Mover(G,D,2,3)-->Apilar(G,D,3)-->Ir(G,3,2)-->Coger(G,C,2)-->\" + \\\n",
        "#                  \"Mover(G,C,2,3)-->Apilar(G,C,D,3)-->Ir(G,3,2)-->Coger(G,A,2)-->Mover(G,A,2,1)-->Apilar(G,A,1)-->Ir(G,1,2)-->Coger(G,B,2)-->Mover(G,B,2,3)-->\" + \\\n",
        "#                  \"Apilar(G,B,C,3)-->Ir(G,3,2)-->Ir(G,2,1)-->Coger(G,A,1)-->Mover(G,A,1,2)-->Mover(G,A,2,3)-->Apilar(G,A,B,3)\"\n",
        "\n",
        "# Acciones en formato lista\n",
        "#acciones_prueba = [\n",
        "#    \"Coger(G,B,1)\", \"Mover(G,B,1,2)\", \"Apilar(G,B,2)\", \"Ir(G,2,1)\", \"Coger(G,A,1)\", \"Mover(G,A,1,2)\", \"Apilar(G,A,B,2)\", \"Ir(G,2,1)\",\n",
        "#    \"Coger(G,C,1)\", \"Mover(G,C,1,2)\", \"Apilar(G,C,A,2)\", \"Ir(G,2,1)\", \"Coger(G,D,1)\", \"Mover(G,D,1,2)\", \"Mover(G,D,2,3)\", \"Apilar(G,D,3)\",\n",
        "#    \"Ir(G,3,2)\", \"Coger(G,C,2)\", \"Mover(G,C,2,3)\", \"Apilar(G,C,D,3)\", \"Ir(G,3,2)\", \"Coger(G,A,2)\", \"Mover(G,A,2,1)\", \"Apilar(G,A,1)\",\n",
        "#    \"Ir(G,1,2)\", \"Coger(G,B,2)\", \"Mover(G,B,2,3)\", \"Apilar(G,B,C,3)\",\n",
        "#    \"Ir(G,3,2)\", \"Ir(G,2,1)\", \"Coger(G,A,1)\", \"Mover(G,A,1,2)\",\n",
        "#    \"Mover(G,A,2,3)\", \"Apilar(G,A,B,3)\"\n",
        "#    ]\n",
        "\n",
        "comprobar_solucion(vector_inicial, vector_meta, acciones_prueba, True)"
      ],
      "metadata": {
        "id": "K-DCEqT-onB4",
        "colab": {
          "base_uri": "https://localhost:8080/",
          "height": 0
        },
        "outputId": "a875a013-0bea-4ec4-f81a-aa53947088f3"
      },
      "execution_count": 96,
      "outputs": [
        {
          "output_type": "stream",
          "name": "stdout",
          "text": [
            "\n",
            "Intentar operación 16 Mover(G,B,1,2)\n",
            "Precondiciones -> 001_000_001_000_000_000000_000000_000000_000000_000000_000000_000000_000000_01_00_01_00_00\n",
            "Estado Actual  -> 001_001_001_001_001_010000_100000_001000_000100_101111_011111_110111_111011_10_10_10_10_10\n",
            "No se cumplen las precondiciones\n",
            "\n",
            "Intentar operación 3 Coger(G,B,1)\n",
            "Precondiciones -> 001_000_001_000_000_000000_000000_000000_000000_100000_000000_010000_010000_10_00_10_00_00\n",
            "Estado Actual  -> 001_001_001_001_001_010000_100000_001000_000100_101111_011111_110111_111011_10_10_10_10_10\n",
            "Se eliminan E  -> 111_111_111_111_111_111111_000000_111111_111111_111111_111111_111111_111111_01_11_01_11_11\n",
            "Se añaden A    -> 000_000_000_000_000_000000_000000_000000_000000_000000_111111_000000_000000_01_00_01_00_00\n",
            "Est. Siguiente -> 001_001_001_001_001_010000_000000_001000_000100_101111_111111_110111_111011_01_10_01_10_10\n",
            "\n",
            "Solución no válida\n",
            "Esperado:  100_100_100_100_100_100000_010000_001000_000001_011111_101111_110111_111110_10_10_10_10_10\n",
            "Calculado: 001_001_001_001_001_010000_000000_001000_000100_101111_111111_110111_111011_01_10_01_10_10\n"
          ]
        }
      ]
    },
    {
      "cell_type": "markdown",
      "source": [
        "### 4.2. Ejemplo Solucion en Texto para 7 cajas y 5 posiciones"
      ],
      "metadata": {
        "id": "UMaPr9D6L60Z"
      }
    },
    {
      "cell_type": "code",
      "source": [
        "import time\n",
        "inicio_tiempo = time.time()\n",
        "\n",
        "# Ejemplo con 7 cajas y 5 posiciones\n",
        "vector_inicial = [1, 1, 1, 1, 1, 5, 5, 5, 'BA', 'CB', 'DC', 'EF', 'FG']\n",
        "vector_meta = [3, 1, 2, 3, 4, 5, 2, 4, 'FB', 'GD']\n",
        "max_profundidad = 45\n",
        "# NOTA: Cambiar hiperparámetros y recalcular variables del inicio del cuaderno\n",
        "texto, PC, E, A = definir_acciones()\n",
        "operaciones = resolver(mascara(vector_inicial), mascara(vector_meta), max_profundidad, False, False, False)\n",
        "mostrar_solucion_texto(operaciones)\n",
        "\n",
        "# Calculamos el tiempo que se tarda en mostrar la solución\n",
        "fin_tiempo = time.time()\n",
        "tiempo_ejecucion = fin_tiempo - inicio_tiempo\n",
        "print(f\"\\nTiempo de ejecución: {tiempo_ejecucion} segundos\")"
      ],
      "metadata": {
        "colab": {
          "base_uri": "https://localhost:8080/",
          "height": 0
        },
        "id": "3e2_0c0JLcwh",
        "outputId": "80392728-8353-42eb-c6ac-116d7b119835"
      },
      "execution_count": 168,
      "outputs": [
        {
          "output_type": "stream",
          "name": "stdout",
          "text": [
            "SOLUCIÓN:\n",
            "INICIO-->Coger(G,D,1)-->Mover(G,D,1,2)-->Mover(G,D,2,3)-->Mover(G,D,3,4)-->Apilar(G,D,4)-->\n",
            "Ir(G,4,3)-->Ir(G,3,2)-->Ir(G,2,1)-->Coger(G,C,1)-->Mover(G,C,1,2)-->\n",
            "Mover(G,C,2,3)-->Apilar(G,C,3)-->Ir(G,3,2)-->Ir(G,2,1)-->Coger(G,B,1)-->\n",
            "Mover(G,B,1,2)-->Apilar(G,B,2)-->Ir(G,2,3)-->Ir(G,3,4)-->Ir(G,4,5)-->\n",
            "Coger(G,E,5)-->Mover(G,E,5,4)-->Mover(G,E,4,3)-->Apilar(G,E,C,3)-->Ir(G,3,4)-->\n",
            "Ir(G,4,5)-->Coger(G,F,5)-->Mover(G,F,5,4)-->Mover(G,F,4,3)-->Mover(G,F,3,2)-->\n",
            "Apilar(G,F,B,2)-->Ir(G,2,3)-->Ir(G,3,4)-->Ir(G,4,5)-->Coger(G,G,5)-->\n",
            "Mover(G,G,5,4)-->Apilar(G,G,D,4)-->Ir(G,4,3)-->Coger(G,E,3)-->Mover(G,E,3,4)-->\n",
            "Mover(G,E,4,5)-->Apilar(G,E,5)-->Ir(G,5,4)-->Ir(G,4,3)-->FIN\n",
            "\n",
            "Tiempo de ejecución: 892.9831438064575 segundos\n"
          ]
        }
      ]
    },
    {
      "cell_type": "markdown",
      "source": [
        "### 4.3. Ejemplo de solución no encontrada en texto con 2 cajas y 2 posiciones con información de pila más detallada"
      ],
      "metadata": {
        "id": "zwGgX7ZuDgrx"
      }
    },
    {
      "cell_type": "code",
      "source": [
        "#Ejemplo con 2 cajas y 2 posiciones\n",
        "vector_inicial = [1, 1, 1,'AB']\n",
        "vector_meta = [2, 1, 2]\n",
        "max_profundidad = 4\n",
        "#NOTA: Cambiar hiperparámetros y recalcular variables del inicio del cuaderno\n",
        "texto, PC, E, A = definir_acciones()\n",
        "operaciones = resolver(mascara(vector_inicial), mascara(vector_meta), max_profundidad, True, True, False)\n",
        "mostrar_solucion_texto(operaciones)"
      ],
      "metadata": {
        "colab": {
          "base_uri": "https://localhost:8080/",
          "height": 0
        },
        "id": "3HtpKRuvKI5K",
        "outputId": "5aa2ece7-091c-4510-b97e-8f4c890221c3"
      },
      "execution_count": 148,
      "outputs": [
        {
          "output_type": "stream",
          "name": "stdout",
          "text": [
            "\n",
            "Retorno a operación: INICIO\n",
            "Comprobando estado alcanzado por operación Coger(G,A,1)\n",
            "No se ha encontrado coincidencias en la pila de estados\n",
            "\n",
            "------------------------------------------------------------------------------------------------------------------\n",
            "\n",
            "INICIO-->Coger(G,A,1)-->FIN\n",
            "Comprobando estado alcanzado por operación Mover(G,A,1,2)\n",
            "No se ha encontrado coincidencias en la pila de estados\n",
            "\n",
            "------------------------------------------------------------------------------------------------------------------\n",
            "\n",
            "INICIO-->Coger(G,A,1)-->Mover(G,A,1,2)-->FIN\n",
            "Comprobando estado alcanzado por operación Mover(G,A,2,1)\n",
            "Estado repetido en posicion 2\n",
            "Comprobando estado alcanzado por operación Apilar(G,A,2)\n",
            "No se ha encontrado coincidencias en la pila de estados\n",
            "\n",
            "------------------------------------------------------------------------------------------------------------------\n",
            "\n",
            "INICIO-->Coger(G,A,1)-->Mover(G,A,1,2)-->Apilar(G,A,2)-->FIN\n",
            "\n",
            "Retorno a operación: Mover(G,A,1,2)\n",
            "\n",
            "Retorno a operación: Coger(G,A,1)\n",
            "Comprobando estado alcanzado por operación Apilar(G,A,B,1)\n",
            "Estado repetido en posicion 1\n",
            "\n",
            "Retorno a operación: INICIO\n",
            "Comprobando estado alcanzado por operación Ir(G,1,2)\n",
            "No se ha encontrado coincidencias en la pila de estados\n",
            "\n",
            "------------------------------------------------------------------------------------------------------------------\n",
            "\n",
            "INICIO-->Ir(G,1,2)-->FIN\n",
            "Comprobando estado alcanzado por operación Ir(G,2,1)\n",
            "Estado repetido en posicion 1\n",
            "\n",
            "Retorno a operación: INICIO\n",
            "SOLUCIÓN:\n",
            "No se ha encontrado una solución\n"
          ]
        }
      ]
    },
    {
      "cell_type": "markdown",
      "source": [
        "### 4.4. Ejemplo de solución gráfica con 3 cajas y 3 posiciones con información de pila previa básica"
      ],
      "metadata": {
        "id": "4fRjc2nDDec6"
      }
    },
    {
      "cell_type": "code",
      "source": [
        "#Ejemplo con 3 cajas y 3 posiciones\n",
        "vector_inicial = [1, 1, 1, 1, 'AB', 'CA']\n",
        "vector_meta = [3, 1, 2, 3]\n",
        "max_profundidad = 25\n",
        "#NOTA: Cambiar hiperparámetros y recalcular variables del inicio del cuaderno\n",
        "texto, PC, E, A = definir_acciones()\n",
        "operaciones = resolver(mascara(vector_inicial), mascara(vector_meta), max_profundidad, True, False, False)\n",
        "mostrar_solucion_grafo(operaciones)"
      ],
      "metadata": {
        "colab": {
          "base_uri": "https://localhost:8080/",
          "height": 1157
        },
        "id": "xbrfz0uzDej0",
        "outputId": "47c3e0eb-ca10-4804-e2ca-b8dcac148d14"
      },
      "execution_count": 152,
      "outputs": [
        {
          "output_type": "stream",
          "name": "stdout",
          "text": [
            "INICIO-->Coger(G,C,1)-->FIN\n",
            "INICIO-->Coger(G,C,1)-->Mover(G,C,1,2)-->FIN\n",
            "INICIO-->Coger(G,C,1)-->Mover(G,C,1,2)-->Mover(G,C,2,3)-->FIN\n",
            "INICIO-->Coger(G,C,1)-->Mover(G,C,1,2)-->Mover(G,C,2,3)-->Apilar(G,C,3)-->FIN\n",
            "INICIO-->Coger(G,C,1)-->Mover(G,C,1,2)-->Mover(G,C,2,3)-->Apilar(G,C,3)-->Ir(G,3,2)-->FIN\n",
            "INICIO-->Coger(G,C,1)-->Mover(G,C,1,2)-->Mover(G,C,2,3)-->Apilar(G,C,3)-->Ir(G,3,2)-->Ir(G,2,1)-->FIN\n",
            "INICIO-->Coger(G,C,1)-->Mover(G,C,1,2)-->Mover(G,C,2,3)-->Apilar(G,C,3)-->Ir(G,3,2)-->Ir(G,2,1)-->Coger(G,A,1)-->FIN\n",
            "INICIO-->Coger(G,C,1)-->Mover(G,C,1,2)-->Mover(G,C,2,3)-->Apilar(G,C,3)-->Ir(G,3,2)-->Ir(G,2,1)-->Coger(G,A,1)-->Mover(G,A,1,2)-->FIN\n",
            "INICIO-->Coger(G,C,1)-->Mover(G,C,1,2)-->Mover(G,C,2,3)-->Apilar(G,C,3)-->Ir(G,3,2)-->Ir(G,2,1)-->Coger(G,A,1)-->Mover(G,A,1,2)-->Mover(G,A,2,3)-->FIN\n",
            "INICIO-->Coger(G,C,1)-->Mover(G,C,1,2)-->Mover(G,C,2,3)-->Apilar(G,C,3)-->Ir(G,3,2)-->Ir(G,2,1)-->Coger(G,A,1)-->Mover(G,A,1,2)-->Mover(G,A,2,3)-->Apilar(G,A,C,3)-->FIN\n",
            "INICIO-->Coger(G,C,1)-->Mover(G,C,1,2)-->Mover(G,C,2,3)-->Apilar(G,C,3)-->Ir(G,3,2)-->Ir(G,2,1)-->Coger(G,A,1)-->Mover(G,A,1,2)-->Mover(G,A,2,3)-->Apilar(G,A,C,3)-->Ir(G,3,2)-->FIN\n",
            "INICIO-->Coger(G,C,1)-->Mover(G,C,1,2)-->Mover(G,C,2,3)-->Apilar(G,C,3)-->Ir(G,3,2)-->Ir(G,2,1)-->Coger(G,A,1)-->Mover(G,A,1,2)-->Mover(G,A,2,3)-->Apilar(G,A,C,3)-->Ir(G,3,2)-->Ir(G,2,1)-->FIN\n",
            "INICIO-->Coger(G,C,1)-->Mover(G,C,1,2)-->Mover(G,C,2,3)-->Apilar(G,C,3)-->Ir(G,3,2)-->Ir(G,2,1)-->Coger(G,A,1)-->Mover(G,A,1,2)-->Mover(G,A,2,3)-->Apilar(G,A,C,3)-->Ir(G,3,2)-->Ir(G,2,1)-->Coger(G,B,1)-->FIN\n",
            "INICIO-->Coger(G,C,1)-->Mover(G,C,1,2)-->Mover(G,C,2,3)-->Apilar(G,C,3)-->Ir(G,3,2)-->Ir(G,2,1)-->Coger(G,A,1)-->Mover(G,A,1,2)-->Mover(G,A,2,3)-->Apilar(G,A,C,3)-->Ir(G,3,2)-->Ir(G,2,1)-->Coger(G,B,1)-->Mover(G,B,1,2)-->FIN\n",
            "INICIO-->Coger(G,C,1)-->Mover(G,C,1,2)-->Mover(G,C,2,3)-->Apilar(G,C,3)-->Ir(G,3,2)-->Ir(G,2,1)-->Coger(G,A,1)-->Mover(G,A,1,2)-->Mover(G,A,2,3)-->Apilar(G,A,C,3)-->Ir(G,3,2)-->Ir(G,2,1)-->Coger(G,B,1)-->Mover(G,B,1,2)-->Mover(G,B,2,3)-->FIN\n",
            "INICIO-->Coger(G,C,1)-->Mover(G,C,1,2)-->Mover(G,C,2,3)-->Apilar(G,C,3)-->Ir(G,3,2)-->Ir(G,2,1)-->Coger(G,A,1)-->Mover(G,A,1,2)-->Mover(G,A,2,3)-->Apilar(G,A,C,3)-->Ir(G,3,2)-->Ir(G,2,1)-->Coger(G,B,1)-->Mover(G,B,1,2)-->Mover(G,B,2,3)-->Apilar(G,B,A,3)-->FIN\n",
            "INICIO-->Coger(G,C,1)-->Mover(G,C,1,2)-->Mover(G,C,2,3)-->Apilar(G,C,3)-->Ir(G,3,2)-->Ir(G,2,1)-->Coger(G,A,1)-->Mover(G,A,1,2)-->Mover(G,A,2,3)-->Apilar(G,A,C,3)-->Ir(G,3,2)-->Ir(G,2,1)-->Coger(G,B,1)-->Mover(G,B,1,2)-->Mover(G,B,2,3)-->Apilar(G,B,A,3)-->Ir(G,3,2)-->FIN\n",
            "INICIO-->Coger(G,C,1)-->Mover(G,C,1,2)-->Mover(G,C,2,3)-->Apilar(G,C,3)-->Ir(G,3,2)-->Ir(G,2,1)-->Coger(G,A,1)-->Mover(G,A,1,2)-->Mover(G,A,2,3)-->Apilar(G,A,C,3)-->Ir(G,3,2)-->Ir(G,2,1)-->Coger(G,B,1)-->Mover(G,B,1,2)-->Mover(G,B,2,3)-->Apilar(G,B,A,3)-->Ir(G,3,2)-->Ir(G,2,1)-->FIN\n",
            "INICIO-->Coger(G,C,1)-->Mover(G,C,1,2)-->Mover(G,C,2,3)-->Apilar(G,C,3)-->Ir(G,3,2)-->Ir(G,2,1)-->Coger(G,A,1)-->Mover(G,A,1,2)-->Mover(G,A,2,3)-->Apilar(G,A,C,3)-->Ir(G,3,2)-->Ir(G,2,1)-->Coger(G,B,1)-->Mover(G,B,1,2)-->Apilar(G,B,2)-->FIN\n",
            "INICIO-->Coger(G,C,1)-->Mover(G,C,1,2)-->Mover(G,C,2,3)-->Apilar(G,C,3)-->Ir(G,3,2)-->Ir(G,2,1)-->Coger(G,A,1)-->Mover(G,A,1,2)-->Mover(G,A,2,3)-->Apilar(G,A,C,3)-->Ir(G,3,2)-->Ir(G,2,1)-->Coger(G,B,1)-->Mover(G,B,1,2)-->Apilar(G,B,2)-->Ir(G,2,1)-->FIN\n",
            "INICIO-->Coger(G,C,1)-->Mover(G,C,1,2)-->Mover(G,C,2,3)-->Apilar(G,C,3)-->Ir(G,3,2)-->Ir(G,2,1)-->Coger(G,A,1)-->Mover(G,A,1,2)-->Mover(G,A,2,3)-->Apilar(G,A,C,3)-->Ir(G,3,2)-->Ir(G,2,1)-->Coger(G,B,1)-->Mover(G,B,1,2)-->Apilar(G,B,2)-->Ir(G,2,3)-->FIN\n",
            "INICIO-->Coger(G,C,1)-->Mover(G,C,1,2)-->Mover(G,C,2,3)-->Apilar(G,C,3)-->Ir(G,3,2)-->Ir(G,2,1)-->Coger(G,A,1)-->Mover(G,A,1,2)-->Mover(G,A,2,3)-->Apilar(G,A,C,3)-->Ir(G,3,2)-->Ir(G,2,1)-->Coger(G,B,1)-->Mover(G,B,1,2)-->Apilar(G,B,2)-->Ir(G,2,3)-->Coger(G,A,3)-->FIN\n",
            "INICIO-->Coger(G,C,1)-->Mover(G,C,1,2)-->Mover(G,C,2,3)-->Apilar(G,C,3)-->Ir(G,3,2)-->Ir(G,2,1)-->Coger(G,A,1)-->Mover(G,A,1,2)-->Mover(G,A,2,3)-->Apilar(G,A,C,3)-->Ir(G,3,2)-->Ir(G,2,1)-->Coger(G,B,1)-->Mover(G,B,1,2)-->Apilar(G,B,2)-->Ir(G,2,3)-->Coger(G,A,3)-->Mover(G,A,3,2)-->FIN\n",
            "INICIO-->Coger(G,C,1)-->Mover(G,C,1,2)-->Mover(G,C,2,3)-->Apilar(G,C,3)-->Ir(G,3,2)-->Ir(G,2,1)-->Coger(G,A,1)-->Mover(G,A,1,2)-->Mover(G,A,2,3)-->Apilar(G,A,C,3)-->Ir(G,3,2)-->Ir(G,2,1)-->Coger(G,B,1)-->Mover(G,B,1,2)-->Apilar(G,B,2)-->Ir(G,2,3)-->Coger(G,A,3)-->Mover(G,A,3,2)-->Mover(G,A,2,1)-->FIN\n",
            "INICIO-->Coger(G,C,1)-->Mover(G,C,1,2)-->Mover(G,C,2,3)-->Apilar(G,C,3)-->Ir(G,3,2)-->Ir(G,2,1)-->Coger(G,A,1)-->Mover(G,A,1,2)-->Mover(G,A,2,3)-->Apilar(G,A,C,3)-->Ir(G,3,2)-->Ir(G,2,1)-->Coger(G,B,1)-->Mover(G,B,1,2)-->Apilar(G,B,2)-->Ir(G,2,3)-->Coger(G,A,3)-->Mover(G,A,3,2)-->Mover(G,A,2,1)-->Apilar(G,A,1)-->FIN\n",
            "INICIO-->Coger(G,C,1)-->Mover(G,C,1,2)-->Mover(G,C,2,3)-->Apilar(G,C,3)-->Ir(G,3,2)-->Ir(G,2,1)-->Coger(G,A,1)-->Mover(G,A,1,2)-->Mover(G,A,2,3)-->Apilar(G,A,C,3)-->Ir(G,3,2)-->Ir(G,2,1)-->Coger(G,B,1)-->Mover(G,B,1,2)-->Apilar(G,B,2)-->Ir(G,2,3)-->Coger(G,A,3)-->Mover(G,A,3,2)-->Mover(G,A,2,1)-->Apilar(G,A,1)-->Ir(G,1,2)-->FIN\n",
            "INICIO-->Coger(G,C,1)-->Mover(G,C,1,2)-->Mover(G,C,2,3)-->Apilar(G,C,3)-->Ir(G,3,2)-->Ir(G,2,1)-->Coger(G,A,1)-->Mover(G,A,1,2)-->Mover(G,A,2,3)-->Apilar(G,A,C,3)-->Ir(G,3,2)-->Ir(G,2,1)-->Coger(G,B,1)-->Mover(G,B,1,2)-->Apilar(G,B,2)-->Ir(G,2,3)-->Coger(G,A,3)-->Mover(G,A,3,2)-->Mover(G,A,2,1)-->Apilar(G,A,1)-->Ir(G,1,2)-->Coger(G,B,2)-->FIN\n",
            "INICIO-->Coger(G,C,1)-->Mover(G,C,1,2)-->Mover(G,C,2,3)-->Apilar(G,C,3)-->Ir(G,3,2)-->Ir(G,2,1)-->Coger(G,A,1)-->Mover(G,A,1,2)-->Mover(G,A,2,3)-->Apilar(G,A,C,3)-->Ir(G,3,2)-->Ir(G,2,1)-->Coger(G,B,1)-->Mover(G,B,1,2)-->Apilar(G,B,2)-->Ir(G,2,3)-->Coger(G,A,3)-->Mover(G,A,3,2)-->Mover(G,A,2,1)-->Apilar(G,A,1)-->Ir(G,1,2)-->Coger(G,B,2)-->Mover(G,B,2,1)-->FIN\n",
            "INICIO-->Coger(G,C,1)-->Mover(G,C,1,2)-->Mover(G,C,2,3)-->Apilar(G,C,3)-->Ir(G,3,2)-->Ir(G,2,1)-->Coger(G,A,1)-->Mover(G,A,1,2)-->Mover(G,A,2,3)-->Apilar(G,A,C,3)-->Ir(G,3,2)-->Ir(G,2,1)-->Coger(G,B,1)-->Mover(G,B,1,2)-->Apilar(G,B,2)-->Ir(G,2,3)-->Coger(G,A,3)-->Mover(G,A,3,2)-->Mover(G,A,2,1)-->Apilar(G,A,1)-->Ir(G,1,2)-->Coger(G,B,2)-->Mover(G,B,2,1)-->Apilar(G,B,A,1)-->FIN\n",
            "INICIO-->Coger(G,C,1)-->Mover(G,C,1,2)-->Mover(G,C,2,3)-->Apilar(G,C,3)-->Ir(G,3,2)-->Ir(G,2,1)-->Coger(G,A,1)-->Mover(G,A,1,2)-->Mover(G,A,2,3)-->Apilar(G,A,C,3)-->Ir(G,3,2)-->Ir(G,2,1)-->Coger(G,B,1)-->Mover(G,B,1,2)-->Apilar(G,B,2)-->Ir(G,2,3)-->Coger(G,A,3)-->Mover(G,A,3,2)-->Mover(G,A,2,1)-->Apilar(G,A,1)-->Ir(G,1,2)-->Coger(G,B,2)-->Mover(G,B,2,3)-->FIN\n",
            "INICIO-->Coger(G,C,1)-->Mover(G,C,1,2)-->Mover(G,C,2,3)-->Apilar(G,C,3)-->Ir(G,3,2)-->Ir(G,2,1)-->Coger(G,A,1)-->Mover(G,A,1,2)-->Mover(G,A,2,3)-->Apilar(G,A,C,3)-->Ir(G,3,2)-->Ir(G,2,1)-->Coger(G,B,1)-->Mover(G,B,1,2)-->Apilar(G,B,2)-->Ir(G,2,3)-->Coger(G,A,3)-->Mover(G,A,3,2)-->Mover(G,A,2,1)-->Apilar(G,A,1)-->Ir(G,1,2)-->Coger(G,B,2)-->Mover(G,B,2,3)-->Apilar(G,B,C,3)-->FIN\n",
            "\n",
            "------------------------------------------------------------------------------------------------------------------\n",
            "\n"
          ]
        },
        {
          "output_type": "display_data",
          "data": {
            "text/plain": [
              "<Figure size 640x480 with 1 Axes>"
            ],
            "image/png": "[encoded data removed]"
          },
          "metadata": {}
        }
      ]
    }
  ]
}