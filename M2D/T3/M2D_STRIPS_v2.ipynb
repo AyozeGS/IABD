{
  "nbformat": 4,
  "nbformat_minor": 0,
  "metadata": {
    "kernelspec": {
      "display_name": "Python 3",
      "language": "python",
      "name": "python3"
    },
    "language_info": {
      "codemirror_mode": {
        "name": "ipython",
        "version": 3
      },
      "file_extension": ".py",
      "mimetype": "text/x-python",
      "name": "python",
      "nbconvert_exporter": "python",
      "pygments_lexer": "ipython3",
      "version": "3.7.1"
    },
    "colab": {
      "provenance": [],
      "collapsed_sections": [
        "N1XwtFhD14AZ",
        "SnMLvBn2yUH6",
        "yXzurfWh1bVp",
        "d4pq4cCDrfby",
        "_5FanrIXrm0Q",
        "-N0nNX8lnBLI",
        "VNWKHs0_yKI6",
        "86PEQwzbLnhB"
      ],
      "include_colab_link": true
    }
  },
  "cells": [
    {
      "cell_type": "markdown",
      "metadata": {
        "id": "view-in-github",
        "colab_type": "text"
      },
      "source": [
        "<a href=\"https://colab.research.google.com/github/AyozeGS/IABD/blob/main/M2D/T3/M2D_STRIPS_v2.ipynb\" target=\"_parent\"><img src=\"https://colab.research.google.com/assets/colab-badge.svg\" alt=\"Open In Colab\"/></a>"
      ]
    },
    {
      "cell_type": "markdown",
      "source": [
        "# **Problema de Planificación con STRIPS**\n",
        "\n",
        "El cuaderno está enfocado en aplicar los conceptos de planificación en el contexto de la inteligencia artificial, específicamente utilizando STRIPS (Stanford Research Institute Problem Solver), para resolver un problema de manipulación de bloques en un mundo simulado.\n",
        "\n",
        "Considera un mundo donde hay cuatro bloques identificados como A, B, C, y D. Existen tres lugares posibles donde ubicarlos, identificados como 1, 2, y 3.\n",
        "\n",
        "Inicialmente, todos los bloques están apilados en el lugar 1 en el siguiente orden: B encima de A, A encima de C, y C encima de D. El objetivo es llegar a un estado donde los bloques estén apilados en el lugar 3 en el orden, A encima de B, B encima de C, y C encima de D.\n",
        "\n",
        "\n",
        "\n",
        "\\begin{array}{c c c c | c c c c}\n",
        "&Inicio&&&&&Meta& \\\\\n",
        "B &&&&&&& A \\\\\n",
        "A &&&&&&& B \\\\\n",
        "C &&&&&&& C \\\\\n",
        "D &&&&&&& D \\\\ \\hline\n",
        "1 & 2 & 3 &&& 1 & 2 & 3\n",
        "\\end{array}\n",
        "\n"
      ],
      "metadata": {
        "id": "GbgoQ1QNWfu1"
      }
    },
    {
      "cell_type": "code",
      "source": [
        "#Hiperparámetros\n",
        "n_cajas = 3\n",
        "n_posiciones = 3"
      ],
      "metadata": {
        "id": "QvhSzDdEu-xT"
      },
      "execution_count": null,
      "outputs": []
    },
    {
      "cell_type": "markdown",
      "source": [
        "# 1. Cálculo de variables y parámetros\n",
        "\n",
        "NOTA: Volver a ejecutar estas celdas al cambiar los hiperparámetros: n_posicions y n_cajas.\n"
      ],
      "metadata": {
        "id": "N1XwtFhD14AZ"
      }
    },
    {
      "cell_type": "markdown",
      "source": [
        "Se calculan algunas variables locales a usar en las diferentes funciones"
      ],
      "metadata": {
        "id": "Q4RfKdP8nnJI"
      }
    },
    {
      "cell_type": "code",
      "source": [
        "import string\n",
        "\n",
        "# Lista con los números de las posiciones. Ej: [1,2,3]\n",
        "posiciones = list(range(1,n_posiciones+1))\n",
        "\n",
        "# String con los nombres de las cajas. Ej: \"ABCD\"\n",
        "cajas = string.ascii_uppercase[:n_cajas]\n",
        "\n",
        "# Cálculo del número de operaciones distintas\n",
        "# Mover -> cada caja en cada posicion sobre una de las otras cajas o el suelo = cajas x cajas x posiciones\n",
        "max_operaciones = n_cajas*n_cajas*n_posiciones\n",
        "\n",
        "# Cálculo de bits de la máscara\n",
        "# bits para posiciones   -> cajas x posiciones\n",
        "# bits para apilamientos -> cajas x (cajas-1)\n",
        "bits_mascara = n_cajas*n_posiciones + n_cajas*(n_cajas - 1)\n",
        "\n",
        "# Máscara de unos para eliminar estados\n",
        "e_mask = 2**(bits_mascara)-1\n",
        "\n",
        "print(f\"Posiciones: {posiciones}\")\n",
        "print(f\"Cajas: {cajas}\")\n",
        "print(\"Nº operaciones máximas: \", max_operaciones)\n",
        "print(\"Nº bits máscara: \", bits_mascara)"
      ],
      "metadata": {
        "colab": {
          "base_uri": "https://localhost:8080/"
        },
        "id": "fwSdYzPVpOtq",
        "outputId": "f5c85e28-57cf-4a15-ed89-baa26425c76f"
      },
      "execution_count": null,
      "outputs": [
        {
          "output_type": "stream",
          "name": "stdout",
          "text": [
            "Posiciones: [1, 2, 3]\n",
            "Cajas: ABC\n",
            "Nº operaciones máximas:  27\n",
            "Nº bits máscara:  15\n"
          ]
        }
      ]
    },
    {
      "cell_type": "markdown",
      "source": [
        "Se calculan los diferentes valores que servirán de base para poner a uno cada bit de la máscara binaria y que serán usados en la definición de las máscaras PC, E y A de las operaciones."
      ],
      "metadata": {
        "id": "AgP_wPhMoCQw"
      }
    },
    {
      "cell_type": "code",
      "source": [
        "# Valores enteros que represetarán el poner a 1 cada uno de los bits de\n",
        "# la máscara en función del número de cajas y posiciones.\n",
        "#------------------------------------------------------\n",
        "# Cálculo de bases (Ejemplo con 4 cajas y 3 posiciones)\n",
        "#------------------------------------------------------\n",
        "# |  posiciones  |   (cjX/cjY)   |\n",
        "#  A   B   C   D   A   B   C   D\n",
        "# 321 321 321 321 BCD ACD ABD ABC\n",
        "# 000_000_000_000_000_000_000_000\n",
        "#                ^               ^\n",
        "#         base(pos_cajas)  base(apilamientos)\n",
        "#------------------------------------------------------\n",
        "\n",
        "# Bases de cajaX está sobre cajaY o suelo\n",
        "base_apilamientos            = 2**0\n",
        "base_apilamientos_caja       = lambda idx_caja : base_apilamientos * (2**((n_cajas-1)*(n_cajas-idx_caja-1)))\n",
        "aux_indice                   = lambda idx_caja1, idx_caja2: n_cajas - idx_caja2 - 2 if idx_caja1 > idx_caja2 else n_cajas - idx_caja2 -1\n",
        "base_caja1_sobre_caja2       = lambda idx_caja1, idx_caja2 : base_apilamientos_caja(idx_caja1) * (2**aux_indice(idx_caja1, idx_caja2))\n",
        "\n",
        "# Bases de la posicion de las cajas\n",
        "base_pos_cajas               = 2**(n_cajas*(n_cajas- 1))\n",
        "base_pos_caja                = lambda idx_caja : base_pos_cajas * ((2**n_posiciones)**(n_cajas-idx_caja-1))\n",
        "base_esta_caja_posicion      = lambda idx_caja, posicion : base_pos_caja(idx_caja) * 2**(posicion-1)"
      ],
      "metadata": {
        "id": "XFHvuxUqLrKf"
      },
      "execution_count": null,
      "outputs": []
    },
    {
      "cell_type": "markdown",
      "source": [
        "# 2. Funciones"
      ],
      "metadata": {
        "id": "SnMLvBn2yUH6"
      }
    },
    {
      "cell_type": "markdown",
      "source": [
        "Este bloque se recogen las distintas funciones para la realización del problema:\n",
        "- Funciones para convertir vectores en valores binarios y ayudar a visualizarlas.\n",
        "- Funciones para crear las diferentes operaciones con sus máscaras PC,E y A.\n",
        "- Funciones de transición de estados y de planificación de STRIPS\n",
        "- Funciones de visualización de resultados"
      ],
      "metadata": {
        "id": "quuoiCBSFCsK"
      }
    },
    {
      "cell_type": "markdown",
      "source": [
        "## 2.1. Propiedades de los estados"
      ],
      "metadata": {
        "id": "GUJEgltYhtE1"
      }
    },
    {
      "cell_type": "markdown",
      "source": [
        "Función que convierte un vector de estados iniciales a un valor entero cuya representación binaria respeta la estructura definida anteriormente y que mantiene los estados indicados en el vector.\n",
        "El valor se va completando desde los bits de mayor orden a los de menor."
      ],
      "metadata": {
        "id": "NiYsMcTmoz_Z"
      }
    },
    {
      "cell_type": "code",
      "source": [
        "# Función que crea una máscara respecto de un vector\n",
        "def mascara(vector):\n",
        "\n",
        "  # Se identifican los valores del vector referentes a posiciones\n",
        "  vector_posiciones = vector[:n_cajas]\n",
        "  # Se identifican los valores del vector referentes a apilamientos de cajas\n",
        "  vector_apilamientos = vector[n_cajas:]\n",
        "\n",
        "  mascara = 0\n",
        "\n",
        "  # Se enmascara la posición de las cajas\n",
        "  for idx, caja in enumerate(cajas):\n",
        "    mascara *= 2**(n_posiciones)\n",
        "    mascara += 2**(vector_posiciones[idx]-1) #Posición de cada caja\n",
        "\n",
        "  # Se enmascaran que cajas están encima de otras\n",
        "  for idx_caja, caja_superior in enumerate(cajas):\n",
        "    for caja_inferior in cajas.replace(caja_superior, \"\"):\n",
        "      mascara *= 2\n",
        "      if caja_superior+caja_inferior in vector_apilamientos:\n",
        "        mascara += 1\n",
        "\n",
        "  return mascara"
      ],
      "metadata": {
        "id": "VywbHH2t1m63"
      },
      "execution_count": null,
      "outputs": []
    },
    {
      "cell_type": "markdown",
      "source": [
        "Función que permite visualizar el estado en formato de máscara, separando los disntitos bloques que se han definido en ella."
      ],
      "metadata": {
        "id": "Ud-YDVUCsGmq"
      }
    },
    {
      "cell_type": "code",
      "source": [
        "# Función que permite visualizar la máscara de manera agradable\n",
        "def mostrar(valor):\n",
        "\n",
        "  # Si el valor es un entero se pasa a cadena binaria.\n",
        "  if isinstance(valor, int):\n",
        "    valor = bin(valor)\n",
        "\n",
        "  # Se quita el 0b del inicio de la cadena y se añaden los 0s faltantes al principio\n",
        "  mascara = valor[2:].zfill(bits_mascara)\n",
        "\n",
        "  # Se separa la máscara por grupos\n",
        "  mascara_posiciones = mascara[:n_cajas*n_posiciones]\n",
        "  mascara_apilamientos = mascara[n_cajas*n_posiciones:]\n",
        "\n",
        "  # Se añaden guiones para separar subgrupos\n",
        "  mascara_posiciones = '_'.join([mascara_posiciones[i:i+n_posiciones] for i in range(0, len(mascara_posiciones), n_posiciones)])\n",
        "  mascara_apilamientos = '_'.join([mascara_apilamientos[i:i+n_cajas-1] for i in range(0, len(mascara_apilamientos), n_cajas-1)])\n",
        "\n",
        "  # Se añaden guiones para separar grupos\n",
        "  mascara = \"_\".join([mascara_posiciones, mascara_apilamientos])\n",
        "  return mascara\n",
        "\n",
        "#Ejemplo del uso de las funciones anteriores para 4 cajas y 3 posiciones\n",
        "if n_posiciones == 3 and n_cajas == 4:\n",
        "  vector_inicial_ejemplo = [1, 1, 1, 1, 1, 'BA', 'AC', 'CD']\n",
        "  vector_meta_ejemplo=[3, 3, 3, 3, 3, 'AB', 'BC', 'CD']\n",
        "\n",
        "  print(\"VECTOR INICIAL:\", vector_inicial_ejemplo)\n",
        "  print(\"\\n_posiciones_______ sobre_____\")\n",
        "  print(\"_A___B___C___D___A___B___C___D_\")\n",
        "  print(mostrar(mascara(vector_inicial_ejemplo)))\n",
        "\n",
        "  print(\"\\nVECTOR META:\", vector_meta_ejemplo)\n",
        "  print(\"\\n_posiciones_______ sobre_____\")\n",
        "  print(\"_A___B___C___D___A___B___C___D_\")\n",
        "  print(mostrar(mascara(vector_meta_ejemplo)))"
      ],
      "metadata": {
        "colab": {
          "base_uri": "https://localhost:8080/"
        },
        "id": "r4wawJXchqA1",
        "outputId": "b2df704f-46f2-46d3-c3b2-3fa7c65d5304"
      },
      "execution_count": null,
      "outputs": [
        {
          "output_type": "stream",
          "name": "stdout",
          "text": [
            "VECTOR INICIAL: [1, 1, 1, 1, 1, 'BA', 'AC', 'CD']\n",
            "\n",
            "_posiciones_______ sobre_____\n",
            "_A___B___C___D___A___B___C___D_\n",
            "001_001_001_001_010_100_001_000\n",
            "\n",
            "VECTOR META: [3, 3, 3, 3, 3, 'AB', 'BC', 'CD']\n",
            "\n",
            "_posiciones_______ sobre_____\n",
            "_A___B___C___D___A___B___C___D_\n",
            "100_100_100_100_100_010_001_000\n"
          ]
        }
      ]
    },
    {
      "cell_type": "markdown",
      "source": [
        "## 2.2. Operadores STRIPS"
      ],
      "metadata": {
        "id": "yXzurfWh1bVp"
      }
    },
    {
      "cell_type": "markdown",
      "source": [
        "Cada operador o acción se define por medio de un nombre y de las siguientes atributos:\n",
        "- PC: Precondiciones que indican las propiedades que NO deben cumplirse para que la acción pueda realizarse.\n",
        "- E: Máscara que indica las propiedades que deben eliminarse para cambiar de estado.\n",
        "- A: Máscara que indica las propiedades que deben añadirse para cambiar de estado.\n",
        "\n",
        "NOTA: Debe volver a llamarse cuando se modifiquen los hiperparámetros de n_cajas y n_posiciones."
      ],
      "metadata": {
        "id": "IF24xfmWuPBx"
      }
    },
    {
      "cell_type": "code",
      "source": [
        "# Funcion que crea operadores strips del tipo apilar\n",
        "def definir_acciones():\n",
        "\n",
        "  # Creamos listas vacías para las distintas partes de una operacion\n",
        "  acciones, PC, E, A = [], [], [], []\n",
        "\n",
        "  # Definimos operaciones para cada caja\n",
        "  for idx_caja, caja in enumerate(cajas):\n",
        "    # Definimos operaciones para cada posicion\n",
        "    for posicion in posiciones:\n",
        "      # Definimos operaciones para las otras cajas\n",
        "      for idx_inferior, caja_inferior in enumerate(cajas):\n",
        "        if (idx_caja == idx_inferior):\n",
        "            continue\n",
        "\n",
        "#-------------------------------------------------------------------------------\n",
        "        acciones.append(f\"Mover({caja},{caja_inferior},{posicion})\")\n",
        "\n",
        "        #PC -> NoEstá(caja, posicion), NoEstá(caja_inferior, *Otrasposiciones), NoSobre(Otrascajas*, caja), NoSobre(Otrascajas*, caja_inferior)\n",
        "        #Se comprueba que la caja no esté ya en esa posición\n",
        "        pc_aux = base_esta_caja_posicion(idx_caja, posicion)\n",
        "        #Se comprueba que la caja sobre la que se va a colocar no está debajo en otra posicion\n",
        "        for actual_posicion in posiciones:\n",
        "          if (actual_posicion != posicion):\n",
        "            pc_aux += base_esta_caja_posicion(idx_inferior, actual_posicion)\n",
        "        #Se comprueba que la caja que se va a mover no está debajo de ninguna otra\n",
        "        for idx_superior, caja_superior in enumerate(cajas):\n",
        "          if (idx_caja != idx_superior):\n",
        "            pc_aux += base_caja1_sobre_caja2(idx_superior, idx_caja)\n",
        "        #Se comprueba que la caja sobre la que se va a colocar no está debajo de ninguna otra\n",
        "        for idx_superior, caja_superior in enumerate(cajas):\n",
        "          if (idx_inferior != idx_superior):\n",
        "            pc_aux += base_caja1_sobre_caja2(idx_superior, idx_inferior)\n",
        "        PC.append(pc_aux)\n",
        "\n",
        "        #E -> Está(caja, *OtrasPosiciones) Sobre(caja, Otrascajas*)\n",
        "        e_aux = 0\n",
        "        for actual_posicion in posiciones:\n",
        "          if (actual_posicion != posicion):\n",
        "            e_aux += base_esta_caja_posicion(idx_caja, actual_posicion)\n",
        "        for idx_otra_caja, otra_caja in enumerate(cajas):\n",
        "          if (idx_caja != idx_otra_caja):\n",
        "            e_aux += base_caja1_sobre_caja2(idx_caja, idx_otra_caja)\n",
        "        E.append(e_mask - e_aux)\n",
        "\n",
        "        #A -> Está(caja, posicion), Sobre(caja, caja_inferior)\n",
        "        A.append(base_esta_caja_posicion(idx_caja, posicion) + base_caja1_sobre_caja2(idx_caja, idx_inferior))\n",
        "#-------------------------------------------------------------------------------\n",
        "      acciones.append(f\"Mover({caja},{posicion})\")\n",
        "\n",
        "      #PC -> NoEstá(*cajas, posicion), NoSobre(Otrascajas*, caja)\n",
        "      pc_aux = 0\n",
        "      #Se comprueba que las cajas no estén en esa posición\n",
        "      for idx_cada_caja, cada_caja in enumerate(cajas):\n",
        "          pc_aux += base_esta_caja_posicion(idx_cada_caja, posicion)\n",
        "      #Se comprueba que la caja que se va a mover no está debajo de ninguna otra\n",
        "      for idx_superior, caja_superior in enumerate(cajas):\n",
        "        if (idx_caja != idx_superior):\n",
        "          pc_aux += base_caja1_sobre_caja2(idx_superior, idx_caja)\n",
        "      PC.append(pc_aux)\n",
        "\n",
        "      #E -> Está(caja, *OtrasPosiciones) Sobre(caja, Otrascajas*)\n",
        "      e_aux = 0\n",
        "      for actual_posicion in posiciones:\n",
        "        if (actual_posicion != posicion):\n",
        "          e_aux += base_esta_caja_posicion(idx_caja, actual_posicion)\n",
        "      for idx_otra_caja, otra_caja in enumerate(cajas):\n",
        "        if (idx_caja != idx_otra_caja):\n",
        "          e_aux += base_caja1_sobre_caja2(idx_caja, idx_otra_caja)\n",
        "      E.append(e_mask - e_aux)\n",
        "\n",
        "      #A -> Está(caja, posicion)\n",
        "      A.append(base_esta_caja_posicion(idx_caja, posicion))\n",
        "#-------------------------------------------------------------------------------\n",
        "\n",
        "  return acciones, PC, E, A\n",
        "\n",
        "#Ejemplo de visualizar el resultado de las operaciones\n",
        "texto, PC, E, A = definir_acciones()\n",
        "for i in range(len(texto)):\n",
        "  print(f\"[{i}] {texto[i]}\")\n",
        "  print(\"PC:\", mostrar(PC[i]))\n",
        "  print(\"E: \", mostrar(E[i]))\n",
        "  print(\"A: \", mostrar(A[i]))"
      ],
      "metadata": {
        "id": "u7Wq4MKvMNnK",
        "colab": {
          "base_uri": "https://localhost:8080/"
        },
        "outputId": "d42047b5-f519-4bd8-e340-a47361576148"
      },
      "execution_count": null,
      "outputs": [
        {
          "output_type": "stream",
          "name": "stdout",
          "text": [
            "[0] Mover(A,B,1)\n",
            "PC: 001_110_000_000_100_100_110_110\n",
            "E:  001_111_111_111_000_111_111_111\n",
            "A:  001_000_000_000_100_000_000_000\n",
            "[1] Mover(A,C,1)\n",
            "PC: 001_000_110_000_010_110_100_101\n",
            "E:  001_111_111_111_000_111_111_111\n",
            "A:  001_000_000_000_010_000_000_000\n",
            "[2] Mover(A,D,1)\n",
            "PC: 001_000_000_110_001_101_101_100\n",
            "E:  001_111_111_111_000_111_111_111\n",
            "A:  001_000_000_000_001_000_000_000\n",
            "[3] Mover(A,1)\n",
            "PC: 001_001_001_001_000_100_100_100\n",
            "E:  001_111_111_111_000_111_111_111\n",
            "A:  001_000_000_000_000_000_000_000\n",
            "[4] Mover(A,B,2)\n",
            "PC: 010_101_000_000_100_100_110_110\n",
            "E:  010_111_111_111_000_111_111_111\n",
            "A:  010_000_000_000_100_000_000_000\n"
          ]
        }
      ]
    },
    {
      "cell_type": "markdown",
      "source": [
        "## 2.3. Algoritmos de Planificación y Transición"
      ],
      "metadata": {
        "id": "QI4F1zIn0NDX"
      }
    },
    {
      "cell_type": "markdown",
      "source": [
        "### 2.3.1. Función de transición\n",
        "\n",
        "Función de transición que actualiza el estado del mundo después de realizar una acción utilizando las máscaras que comprueban, eliminan y añaden atributos.\n",
        "\n",
        "En este caso"
      ],
      "metadata": {
        "id": "d4pq4cCDrfby"
      }
    },
    {
      "cell_type": "code",
      "source": [
        "#Función de transición\n",
        "def intentar(nodo,op, info_mostrada=False):\n",
        "\n",
        "  if info_mostrada:\n",
        "    print(\"\\nIntentar operación\", f\"{op}\", texto[op])\n",
        "    print(\"Precondiciones ->\", mostrar(PC[op]))\n",
        "    print(\"Estado Actual  ->\", mostrar(nodo))\n",
        "\n",
        "  #Se comprueba que no se cumplan las precondiciones con un AND. En el caso de\n",
        "  #de que una precondición se cumpla el resultado será distinto de 0.\n",
        "  if ((nodo & PC[op]) == 0):\n",
        "\n",
        "    # Se eliminan los estados indicados por E\n",
        "    siguiente=int(bin(nodo & E[op]),2)\n",
        "    # Se añaden los estados indicados por A\n",
        "    siguiente=int(bin(siguiente | A[op]),2)\n",
        "\n",
        "    if info_mostrada:\n",
        "      print(\"Se eliminan E  ->\", mostrar(E[op]))\n",
        "      print(\"Se añaden A    ->\", mostrar(A[op]))\n",
        "      print(\"Est. Siguiente ->\", mostrar(siguiente))\n",
        "\n",
        "  else:\n",
        "    if info_mostrada:\n",
        "      print(\"No se cumplen las precondiciones\")\n",
        "    siguiente=-1\n",
        "\n",
        "  return siguiente"
      ],
      "metadata": {
        "id": "mWMebrSQzXxH"
      },
      "execution_count": null,
      "outputs": []
    },
    {
      "cell_type": "markdown",
      "source": [
        "### 2.3.2. Función de planificación\n",
        "\n",
        "Función que utiliza STRIPS para planificar una secuencia de acciones que conduce del estado inicial al estado objetivo y mediante un algoritmo de exploración en profundidad no recursivo. Contiene una función interna para comprobar si un estado al que se quiere pasar ya se ha guardado en la pila."
      ],
      "metadata": {
        "id": "_5FanrIXrm0Q"
      }
    },
    {
      "cell_type": "code",
      "source": [
        "def resolver(inicial, meta, max_profundidad, info_acciones=False, info_pila=False, info_transicion=False):\n",
        "\n",
        "  #Función de comprobación en la pila del estado consecuencia de realizar una acción\n",
        "  def encontrado(info_mostrada=False):\n",
        "    encontrado=False\n",
        "    if info_mostrada:\n",
        "      print(\"Comprobando estado alcanzado por operación\", texto[indice_operacion])\n",
        "    #Se recorre la pila hacia atrás buscando ya se ha guardado el estado actual\n",
        "    for t in range(indice_pila+1):\n",
        "        if (estados[t] == estado_siguiente):\n",
        "          encontrado=True\n",
        "          if info_mostrada:\n",
        "            print(\"Estado repetido en posicion\", t)\n",
        "    if info_mostrada and not encontrado:\n",
        "      print(\"No se ha encontrado coincidencias en la pila de estados\")\n",
        "    return encontrado\n",
        "\n",
        "  indice_pila = 0 # Cima de la pila\n",
        "  indice_operacion = 0 # Índice de operación\n",
        "  estado_actual = inicial # Estado actual\n",
        "  # Pila de estados\n",
        "  estados = [0]*max_profundidad\n",
        "  estados[indice_pila] = 0\n",
        "  # Pila de operaciones\n",
        "  operaciones = [0]*max_profundidad\n",
        "  operaciones[indice_pila] = 0\n",
        "\n",
        "  # Mientras queden estados por explorar\n",
        "  while (indice_pila>=0):\n",
        "\n",
        "    if info_pila:\n",
        "      print(\"\\nRetorno a operación:\", texto[operaciones[indice_pila]] if indice_pila > 0 else \"INICIO\")\n",
        "\n",
        "    while ((indice_operacion < max_operaciones) and (indice_pila < max_profundidad-1) and (estado_actual != meta)):\n",
        "\n",
        "        # Intenta realizar la acción op sobre el estado actual\n",
        "        estado_siguiente = intentar(estado_actual, indice_operacion, info_transicion)\n",
        "\n",
        "        # Si se han cumplido las precondiciones se procesa el nuevo estado.\n",
        "        if (estado_siguiente!=-1): # -1 es null acción no permitida\n",
        "\n",
        "          # Si el estado no está en la pila se guarda y se avanza a la siguiente posición\n",
        "          if (not(encontrado(info_pila))):\n",
        "\n",
        "            # Mantenemos en la pila el estado y la acción incrementando el índice en 1\n",
        "            indice_pila += 1\n",
        "            estados[indice_pila] = estado_actual\n",
        "            operaciones[indice_pila] = indice_operacion\n",
        "            # Saltamos al siguiente estado\n",
        "            estado_actual = estado_siguiente\n",
        "            indice_operacion = -1 # Para que empiece en 0\n",
        "\n",
        "            #Si se encuentra el estado final se devuelve la pila de operaciones\n",
        "            if (int(bin(estado_actual & meta),2)==int(bin(meta),2)):\n",
        "              if info_acciones:\n",
        "                print(\"\\n------------------------------------------------------------------------------------------------------------------\\n\")\n",
        "              return operaciones[1:indice_pila+1]\n",
        "\n",
        "            # Muestra información de la pila de operaciones\n",
        "            if info_acciones:\n",
        "              if info_transicion or info_pila:\n",
        "                print(\"\\n------------------------------------------------------------------------------------------------------------------\\n\")\n",
        "              print(\"INICIO-->\", end=\"\")\n",
        "              for t in range(1,indice_pila+1):\n",
        "                print(f\"{texto[operaciones[t]]}-->\",end='')\n",
        "              print(\"FIN\")\n",
        "\n",
        "        indice_operacion += 1\n",
        "\n",
        "    # Si se han probado todas las operaciones para un estado se retrocede al anterior\n",
        "    estado_actual = estados[indice_pila]\n",
        "    # Se continuan las operaciones en la siguiente a la que se había utilizado para avanzar\n",
        "    indice_operacion = operaciones[indice_pila]+1\n",
        "    indice_pila -= 1\n",
        "\n",
        "  return []"
      ],
      "metadata": {
        "id": "Bu6Bz8Wcrm6h"
      },
      "execution_count": null,
      "outputs": []
    },
    {
      "cell_type": "markdown",
      "source": [
        "## 2.4. Visualización"
      ],
      "metadata": {
        "id": "-N0nNX8lnBLI"
      }
    },
    {
      "cell_type": "markdown",
      "source": [
        "Funciones de visualización en forma de texto y grafo"
      ],
      "metadata": {
        "id": "525mqzSHs3rw"
      }
    },
    {
      "cell_type": "code",
      "source": [
        "# Resultado de la pila de acciones en texto\n",
        "def mostrar_solucion_texto(operaciones):\n",
        "  print(\"SOLUCIÓN:\")\n",
        "  if operaciones:\n",
        "    print(\"INICIO-->\", end=\"\")\n",
        "    for t in range(len(operaciones)):\n",
        "      print(f\"{texto[operaciones[t]]}-->\",end='\\n' if t%5 == 4 else \"\")\n",
        "    print(\"FIN\")\n",
        "  else:\n",
        "    print(\"No se ha encontrado una solución\")"
      ],
      "metadata": {
        "id": "aag49CEUm_1g"
      },
      "execution_count": null,
      "outputs": []
    },
    {
      "cell_type": "markdown",
      "source": [
        "Función que dibuja un grafo con la sucesión de pasos encontrada en la solución"
      ],
      "metadata": {
        "id": "lXuacyPdnCwv"
      }
    },
    {
      "cell_type": "code",
      "source": [
        "import networkx as nx\n",
        "import matplotlib.pyplot as plt\n",
        "from math import sqrt, ceil\n",
        "\n",
        "# Resultado de la pila de acciones en grafo\n",
        "def mostrar_solucion_grafo(operaciones):\n",
        "\n",
        "  if operaciones:\n",
        "    # Creamos las etiquetas de los nodos\n",
        "    nodos = [texto[i] for i in operaciones]\n",
        "    nodos = [str(i+1) + \". \" + nodos[i] for i in range(len(nodos))]\n",
        "    nodos.insert(0, \"INICIO\")\n",
        "    nodos.append(\"FIN\")\n",
        "\n",
        "    # Definimos las aristas (y nodos) del grafo\n",
        "    edges = [(\"INICIO\", nodos[0])]\n",
        "    for i in range(len(operaciones)):\n",
        "      edges.append((nodos[i], nodos[i+1]))\n",
        "    edges.append((nodos[len(operaciones)], \"FIN\"))\n",
        "\n",
        "    # Difinimos el grafo de acciones y y añadimos las aristas y nodos al grafo\n",
        "    grafo_acciones = nx.DiGraph()\n",
        "    grafo_acciones.add_edges_from(edges)\n",
        "\n",
        "    # Se definen las posiciones de los nodos en filas y columnas\n",
        "    dim = ceil(sqrt(len(nodos)))\n",
        "    col = lambda x: x%dim\n",
        "    row = lambda x: x//dim\n",
        "    posiciones_nodos = {nodo: (col(i) if row(i)%2 == 0 else dim-col(i)-1, row(i)) for i, nodo in enumerate(nodos)}\n",
        "\n",
        "    # Visualizamos el grafo de acciones\n",
        "    nx.draw(grafo_acciones, pos=posiciones_nodos, with_labels=True, node_size=3000, node_color=\"skyblue\", font_size=5, font_color=\"black\", font_weight=\"bold\", arrowsize=20)\n",
        "    plt.show()\n",
        "\n",
        "  else:\n",
        "    print(\"No se ha encontrado una solución\")"
      ],
      "metadata": {
        "id": "uZIZS5FLnDAv"
      },
      "execution_count": null,
      "outputs": []
    },
    {
      "cell_type": "markdown",
      "source": [
        "# 3. Ejecución"
      ],
      "metadata": {
        "id": "VNWKHs0_yKI6"
      }
    },
    {
      "cell_type": "code",
      "source": [
        "# Parámetros\n",
        "vector_inicial = [1, 1, 1, 1, 'BA', 'AC', 'CD']\n",
        "vector_meta = [3, 3, 3, 3, 'AB', 'BC', 'CD']\n",
        "max_profundidad=9\n",
        "\n",
        "# Se llama a la función para generar las operaciones y se guarda su información\n",
        "texto, PC, E, A = definir_acciones()\n",
        "# Ejecución de la función de planificación\n",
        "operaciones = resolver(mascara(vector_inicial), mascara(vector_meta), max_profundidad, False, False, False)\n",
        "#Se muestra la solución\n",
        "mostrar_solucion_texto(operaciones)"
      ],
      "metadata": {
        "colab": {
          "base_uri": "https://localhost:8080/"
        },
        "id": "LrWmzZ6-xULS",
        "outputId": "d100f8f8-e70a-4ca5-cbb0-b72bbb0b4e74"
      },
      "execution_count": null,
      "outputs": [
        {
          "output_type": "stream",
          "name": "stdout",
          "text": [
            "SOLUCIÓN:\n",
            "INICIO-->Mover(B,2)-->Mover(A,B,2)-->Mover(C,A,2)-->Mover(D,3)-->Mover(C,D,3)-->\n",
            "Mover(A,1)-->Mover(B,C,3)-->Mover(A,B,3)-->FIN\n"
          ]
        }
      ]
    },
    {
      "cell_type": "code",
      "source": [
        "mostrar_solucion_grafo(operaciones)"
      ],
      "metadata": {
        "colab": {
          "base_uri": "https://localhost:8080/",
          "height": 516
        },
        "id": "-FA7Ju3OAN5R",
        "outputId": "f9a199a0-bf7f-4935-d88a-ba7992caaa1b"
      },
      "execution_count": null,
      "outputs": [
        {
          "output_type": "display_data",
          "data": {
            "text/plain": [
              "<Figure size 640x480 with 1 Axes>"
            ],
            "image/png": "[encoded data removed]"
          },
          "metadata": {}
        }
      ]
    },
    {
      "cell_type": "markdown",
      "source": [
        "# 4. Extras"
      ],
      "metadata": {
        "id": "zrjxuMEYg48_"
      }
    },
    {
      "cell_type": "markdown",
      "source": [
        "### 4.1. Ejemplo de algoritmo de comprobación de solución"
      ],
      "metadata": {
        "id": "86PEQwzbLnhB"
      }
    },
    {
      "cell_type": "markdown",
      "source": [
        "Algoritmo que permite introducir manualmente una secuencia de operaciones y comprobar si el estado final esperado es alcanzado. Cambiendo el tercer parámetro de la función intentar a True podemos ver las máscaras PC,E y A correspondientes a cada operación y saber que operación no ha podido realizarse."
      ],
      "metadata": {
        "id": "6dyihZfH1bng"
      }
    },
    {
      "cell_type": "code",
      "source": [
        "# Función que realiza las transciones de estado para una secuencia de pasos y comprueba\n",
        "# si el estado alcanzado coincide con el esperado\n",
        "def comprobar_solucion(vector_inicial, vector_final, acciones_prueba, info_mostrada):\n",
        "\n",
        "  estado_actual = mascara(vector_inicial)\n",
        "  estado_final = mascara(vector_final)\n",
        "\n",
        "  # Si la secuencia de acciones es un cadena se eliminan los estados de INICIO y FIN\n",
        "  # y se transforman los pasos a formato lista\n",
        "  if isinstance(acciones_prueba, str):\n",
        "    if acciones_prueba.startswith(\"INICIO-->\"):\n",
        "      acciones_prueba = acciones_prueba[9:]\n",
        "    if acciones_prueba.endswith(\"-->FIN\"):\n",
        "      acciones_prueba = acciones_prueba[:-6]\n",
        "    acciones_prueba = acciones_prueba.split(\"-->\")\n",
        "\n",
        "  for accion_prueba in acciones_prueba:\n",
        "    indice = texto.index(accion_prueba)\n",
        "    estado_siguiente = intentar(estado_actual, indice, info_mostrada)\n",
        "    if estado_siguiente != -1:\n",
        "      estado_actual = estado_siguiente\n",
        "\n",
        "  print(\"\\nSolución válida\" if estado_final == estado_actual else \"\\nSolución no válida\")\n",
        "  print(\"Esperado: \", mostrar(estado_final))\n",
        "  print(\"Calculado:\", mostrar(estado_actual))\n",
        "\n",
        "\n",
        "#Máscaras para 4 cajas y 3 posiciones\n",
        "vector_inicial = [1, 1, 1, 1, 'BA', 'AC', 'CD']\n",
        "vector_meta= [3, 3, 3, 3, 'AB', 'BC', 'CD']\n",
        "\n",
        "texto, PC, E, A = definir_acciones()\n",
        "\n",
        "acciones_prueba = \"INICIO-->Mover(B,1)-->Mover(B,3)-->FIN\"\n",
        "\n",
        "# Acciones en formato cadena\n",
        "#acciones_prueba = \"Mover(B,2)-->Mover(A,B,2)-->Mover(C,A,2)-->Mover(D,3)-->\" + \\\n",
        "#                  \"Mover(C,D,3)-->Mover(A,1)-->Mover(B,C,3)-->Mover(A,B,3)\"\n",
        "\n",
        "# Acciones en formato lista\n",
        "#acciones_prueba = [\n",
        "#    \"Mover(B,2)\", \"Mover(A,B,2)\", \"Mover(C,A,2)\", \"Mover(D,3)\",\n",
        "#    \"Mover(C,D,3)\", \"Mover(A,1)\", \"Mover(B,C,3)\", \"Mover(A,B,3)\"\n",
        "#    ]\n",
        "\n",
        "comprobar_solucion(vector_inicial, vector_meta, acciones_prueba, True)"
      ],
      "metadata": {
        "id": "K-DCEqT-onB4",
        "colab": {
          "base_uri": "https://localhost:8080/"
        },
        "outputId": "feeacd17-5bd8-4cdf-e0ae-429a2949e163"
      },
      "execution_count": null,
      "outputs": [
        {
          "output_type": "stream",
          "name": "stdout",
          "text": [
            "\n",
            "Intentar operación 15 Mover(B,1)\n",
            "Precondiciones -> 001_001_001_001_100_000_010_010\n",
            "Estado Actual  -> 001_001_001_001_010_100_001_000\n",
            "No se cumplen las precondiciones\n",
            "\n",
            "Intentar operación 23 Mover(B,3)\n",
            "Precondiciones -> 100_100_100_100_100_000_010_010\n",
            "Estado Actual  -> 001_001_001_001_010_100_001_000\n",
            "Se eliminan E  -> 111_100_111_111_111_000_111_111\n",
            "Se añaden A    -> 000_100_000_000_000_000_000_000\n",
            "Est. Siguiente -> 001_100_001_001_010_000_001_000\n",
            "\n",
            "Solución no válida\n",
            "Esperado:  100_100_100_100_100_010_001_000\n",
            "Calculado: 001_100_001_001_010_000_001_000\n"
          ]
        }
      ]
    },
    {
      "cell_type": "markdown",
      "source": [
        "### 4.2. Ejemplo Solucion en Texto para 7 cajas y 5 posiciones"
      ],
      "metadata": {
        "id": "UMaPr9D6L60Z"
      }
    },
    {
      "cell_type": "code",
      "source": [
        "import time\n",
        "inicio_tiempo = time.time()\n",
        "\n",
        "# Ejemplo con 7 cajas y 5 posiciones\n",
        "vector_inicial = [1, 1, 1, 1, 5, 5, 5, 'BA', 'CB', 'DC', 'EF', 'FG']\n",
        "vector_meta = [1, 2, 3, 4, 5, 2, 4, 'FB', 'GD']\n",
        "max_profundidad = 8\n",
        "# NOTA: Cambiar hiperparámetros y recalcular variables del inicio del cuaderno\n",
        "texto, PC, E, A = definir_acciones()\n",
        "operaciones = resolver(mascara(vector_inicial), mascara(vector_meta), max_profundidad, False, False, False)\n",
        "mostrar_solucion_texto(operaciones)\n",
        "\n",
        "# Calculamos el tiempo que se tarda en mostrar la solución\n",
        "fin_tiempo = time.time()\n",
        "tiempo_ejecucion = fin_tiempo - inicio_tiempo\n",
        "print(f\"\\nTiempo de ejecución: {tiempo_ejecucion} segundos\")"
      ],
      "metadata": {
        "colab": {
          "base_uri": "https://localhost:8080/"
        },
        "id": "3e2_0c0JLcwh",
        "outputId": "aa417818-3d98-4875-bd39-b9b879309fa7"
      },
      "execution_count": null,
      "outputs": [
        {
          "output_type": "stream",
          "name": "stdout",
          "text": [
            "SOLUCIÓN:\n",
            "INICIO-->Mover(D,4)-->Mover(C,3)-->Mover(B,2)-->Mover(E,A,1)-->Mover(F,B,2)-->\n",
            "Mover(G,D,4)-->Mover(E,5)-->FIN\n",
            "\n",
            "Tiempo de ejecución: 116.4958667755127 segundos\n"
          ]
        }
      ]
    },
    {
      "cell_type": "markdown",
      "source": [
        "### 4.3. Ejemplo de solución no encontrada en texto con 2 cajas y 2 posiciones con información de pila más detallada"
      ],
      "metadata": {
        "id": "zwGgX7ZuDgrx"
      }
    },
    {
      "cell_type": "code",
      "source": [
        "#Ejemplo con 2 cajas y 2 posiciones\n",
        "vector_inicial = [1, 1,'AB']\n",
        "vector_meta = [1, 2]\n",
        "max_profundidad = 3\n",
        "#NOTA: Cambiar hiperparámetros y recalcular variables del inicio del cuaderno\n",
        "texto, PC, E, A = definir_acciones()\n",
        "operaciones = resolver(mascara(vector_inicial), mascara(vector_meta), max_profundidad, True, True, False)\n",
        "mostrar_solucion_texto(operaciones)"
      ],
      "metadata": {
        "colab": {
          "base_uri": "https://localhost:8080/"
        },
        "id": "3HtpKRuvKI5K",
        "outputId": "cb7db81a-204f-444c-a1d0-3ea2f52a731b"
      },
      "execution_count": null,
      "outputs": [
        {
          "output_type": "stream",
          "name": "stdout",
          "text": [
            "\n",
            "Retorno a operación: INICIO\n",
            "Comprobando estado alcanzado por operación Mover(A,2)\n",
            "No se ha encontrado coincidencias en la pila de estados\n",
            "\n",
            "------------------------------------------------------------------------------------------------------------------\n",
            "\n",
            "INICIO-->Mover(A,2)-->FIN\n",
            "Comprobando estado alcanzado por operación Mover(A,B,1)\n",
            "Estado repetido en posicion 1\n",
            "Comprobando estado alcanzado por operación Mover(B,A,2)\n",
            "No se ha encontrado coincidencias en la pila de estados\n",
            "\n",
            "------------------------------------------------------------------------------------------------------------------\n",
            "\n",
            "INICIO-->Mover(A,2)-->Mover(B,A,2)-->FIN\n",
            "\n",
            "Retorno a operación: Mover(A,2)\n",
            "\n",
            "Retorno a operación: INICIO\n",
            "SOLUCIÓN:\n",
            "No se ha encontrado una solución\n"
          ]
        }
      ]
    },
    {
      "cell_type": "markdown",
      "source": [
        "### 4.4. Ejemplo de solución gráfica con 3 cajas y 3 posiciones con información de pila previa básica"
      ],
      "metadata": {
        "id": "4fRjc2nDDec6"
      }
    },
    {
      "cell_type": "code",
      "source": [
        "#Ejemplo con 3 cajas y 3 posiciones\n",
        "vector_inicial = [1, 1, 1, 'AB', 'CA']\n",
        "vector_meta = [2, 1, 3]\n",
        "max_profundidad = 3\n",
        "#NOTA: Cambiar hiperparámetros y recalcular variables del inicio del cuaderno\n",
        "texto, PC, E, A = definir_acciones()\n",
        "operaciones = resolver(mascara(vector_inicial), mascara(vector_meta), max_profundidad, True, False, False)\n",
        "mostrar_solucion_grafo(operaciones)"
      ],
      "metadata": {
        "colab": {
          "base_uri": "https://localhost:8080/",
          "height": 662
        },
        "id": "xbrfz0uzDej0",
        "outputId": "b10d0b74-1f53-4c08-a3cd-804bfb33513d"
      },
      "execution_count": null,
      "outputs": [
        {
          "output_type": "stream",
          "name": "stdout",
          "text": [
            "INICIO-->Mover(C,2)-->FIN\n",
            "INICIO-->Mover(C,2)-->Mover(A,C,2)-->FIN\n",
            "INICIO-->Mover(C,2)-->Mover(A,3)-->FIN\n",
            "INICIO-->Mover(C,2)-->Mover(C,3)-->FIN\n",
            "INICIO-->Mover(C,3)-->FIN\n",
            "\n",
            "------------------------------------------------------------------------------------------------------------------\n",
            "\n"
          ]
        },
        {
          "output_type": "display_data",
          "data": {
            "text/plain": [
              "<Figure size 640x480 with 1 Axes>"
            ],
            "image/png": "[encoded data removed]"
          },
          "metadata": {}
        }
      ]
    }
  ]
}