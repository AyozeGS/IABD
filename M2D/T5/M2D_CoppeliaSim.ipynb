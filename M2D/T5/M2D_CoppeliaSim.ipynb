{
  "cells": [
    {
      "cell_type": "markdown",
      "source": [
        "Ayoze Gil Sosa\n",
        "\n",
        "# M2D - CoppeliaSim\n",
        "\n",
        "En esta actividad se sigue la instrucción de dos videotutoriales para diseñar un robot en CoppeliaSim y comunicarnos con él usando su API a través de Python.\n",
        "\n",
        "Vídeo 1: https://www.youtube.com/watch?v=m4_cXLoreXg\n",
        "\n",
        "Vídeo 2: https://www.youtube.com/watch?v=bzyyHDmhq84\n",
        "\n",
        "\n",
        "Antes de ejecutar el código de este cuaderno debemos configurar el entorno de CoppeliaSim. Para ellos debemos:\n",
        "\n",
        "1. Abrir la escena de extensión .ttt en CoppeliaSim\n",
        "2. Editar un script Lua para abrir un puerto de comunicación. En este caso abrimos el puerto 19999 añadiendo a la funcuión **sysCall_init()** agregue la siguiente línea de código: `simRemoteApi.start(19999)`\n",
        "\n",
        "3. Añadir los archivos 'sim.py', 'simConst.py' y 'remoteapi.dll' a la misma carpeta que este cuaderno de Jupyter.\n",
        "4. Ejecutar la simulación."
      ],
      "metadata": {
        "id": "N9ri1y255O7a"
      }
    },
    {
      "cell_type": "code",
      "execution_count": null,
      "metadata": {
        "id": "AUa6kSKi1XZF"
      },
      "outputs": [],
      "source": [
        "import sim\n",
        "import numpy as np"
      ]
    },
    {
      "cell_type": "markdown",
      "metadata": {
        "id": "ykV6Rb9o1XZG"
      },
      "source": [
        "## 1. Establecer la conexión\n",
        "Utilizaremos las funciones del API Remoto de en VREP para poder conectarnos al entorno de trabajo de CoppeliaSim a través del puerto 19999.\n",
        "\n",
        "Para más detalles refiérase a la documentación de la librería:\n",
        "http://www.coppeliarobotics.com/helpFiles/en/remoteApiFunctionsPython.htm\n",
        "\n"
      ]
    },
    {
      "cell_type": "code",
      "execution_count": null,
      "metadata": {
        "id": "KLgKPEra1XZF"
      },
      "outputs": [],
      "source": [
        "def connect(port):\n",
        "# Establece la conexión a VREP\n",
        "# port debe coincidir con el puerto de conexión en VREP\n",
        "# retorna el número de cliente o -1 si no puede establecer conexión\n",
        "    sim.simxFinish(-1) # just in case, close all opened connections\n",
        "    clientID=sim.simxStart('127.0.0.1',port,True,True,2000,5) # Conectarse\n",
        "    if clientID == 0: print(\"conectado a\", port)\n",
        "    else: print(\"no se pudo conectar\")\n",
        "    return clientID"
      ]
    },
    {
      "cell_type": "code",
      "execution_count": null,
      "metadata": {
        "id": "rTzkMgS41XZG",
        "outputId": "4f81e8ef-2fd2-4eb2-ce0c-4651c7c3e9d5"
      },
      "outputs": [
        {
          "name": "stdout",
          "output_type": "stream",
          "text": [
            "conectado a 19999\n"
          ]
        }
      ],
      "source": [
        "# Conectarse al servidor de VREP\n",
        "# *** ejecutar cada vez que se reinicia la simulación ***\n",
        "clientID = connect(19999)"
      ]
    },
    {
      "cell_type": "markdown",
      "metadata": {
        "id": "hw7iri_e1XZG"
      },
      "source": [
        "## 2. Obtener los manejadores (handlers)\n",
        "Un manejador (handler) es un número identificador que asigna CoppeliaSim para cada uno de los elementos de la escena. A través de su manejador se puede hacer referencia a un elemento en específico de la escena. Como ejemplo obtenemos el manejador del dummy, para a partir de dicho manejador poder obtener su posición en coordenadas X,Y,Z."
      ]
    },
    {
      "cell_type": "code",
      "execution_count": null,
      "metadata": {
        "id": "dMm3p4Dt1XZG",
        "outputId": "8006a405-6d16-4879-9715-bb39435b6795"
      },
      "outputs": [
        {
          "name": "stdout",
          "output_type": "stream",
          "text": [
            "20\n"
          ]
        }
      ],
      "source": [
        "# Obtenemos el manejador para el dummy\n",
        "returnCode,handle=sim.simxGetObjectHandle(clientID,'Dummy',sim.simx_opmode_blocking)\n",
        "dummy = handle\n",
        "print(dummy)"
      ]
    },
    {
      "cell_type": "code",
      "execution_count": null,
      "metadata": {
        "id": "IqMMJghQ1XZH",
        "outputId": "7f5b81ad-4419-4494-c795-04982328009a"
      },
      "outputs": [
        {
          "name": "stdout",
          "output_type": "stream",
          "text": [
            "[0.5, 1.9778745308229873e-09, 8.67280292027317e-08]\n"
          ]
        }
      ],
      "source": [
        "# A partir de su manejador podemos accionar sobre el objeto,\n",
        "# por ejemplo, obtener su posición\n",
        "returnCode,pos=sim.simxGetObjectPosition(clientID, dummy, -1, sim.simx_opmode_blocking)\n",
        "print(pos)"
      ]
    },
    {
      "cell_type": "markdown",
      "source": [
        "Una vez comprobado el funcionamiento del manejador obtenemos los de las articulaciones para luego poder obtener sus posiciones o mover el robot a través de ellas."
      ],
      "metadata": {
        "id": "2PVkJvwj3wGZ"
      }
    },
    {
      "cell_type": "code",
      "execution_count": null,
      "metadata": {
        "id": "cDwM2unx1XZH",
        "outputId": "ce4cd348-a801-417c-939e-8b1fbbdcbe28"
      },
      "outputs": [
        {
          "name": "stdout",
          "output_type": "stream",
          "text": [
            "16 18\n"
          ]
        }
      ],
      "source": [
        "# Obtenemos los manejadores para cada una de las articulaciones del robot\n",
        "ret,joint1=sim.simxGetObjectHandle(clientID,'joint1',sim.simx_opmode_blocking)\n",
        "ret,joint2=sim.simxGetObjectHandle(clientID,'joint2',sim.simx_opmode_blocking)\n",
        "print(joint1, joint2)"
      ]
    },
    {
      "cell_type": "code",
      "execution_count": null,
      "metadata": {
        "id": "5oTvFryk1XZH",
        "outputId": "76b9a5bf-e535-41aa-e1a9-5e97859ff0ca"
      },
      "outputs": [
        {
          "name": "stdout",
          "output_type": "stream",
          "text": [
            "-3.005580495596405e-08\n"
          ]
        }
      ],
      "source": [
        "# leemos la posición de joint1, en radianes.\n",
        "returnCode, pos1 = sim.simxGetJointPosition(clientID, joint1, sim.simx_opmode_blocking)\n",
        "print(pos1)"
      ]
    },
    {
      "cell_type": "code",
      "execution_count": null,
      "metadata": {
        "id": "7DpHw0361XZH",
        "outputId": "eedcec8c-59e5-4dea-ff3d-7ee769c7a857"
      },
      "outputs": [
        {
          "name": "stdout",
          "output_type": "stream",
          "text": [
            "3.3156997147898437e-09\n"
          ]
        }
      ],
      "source": [
        "# leemos la posición de joint2, en radianes.\n",
        "returnCode, pos2 = sim.simxGetJointPosition(clientID, joint2, sim.simx_opmode_blocking)\n",
        "print(pos2)"
      ]
    },
    {
      "cell_type": "markdown",
      "metadata": {
        "id": "EaxHhUzZ1XZI"
      },
      "source": [
        "## 4. Mover el robot\n",
        "Movemos las articulaciónes enviando su posición, en radianes. Si todo es correcto se devuelve un 0."
      ]
    },
    {
      "cell_type": "code",
      "execution_count": null,
      "metadata": {
        "id": "P3vOPJ5d1XZI",
        "outputId": "0996c55e-4866-4cf0-f28f-e708aa45b506"
      },
      "outputs": [
        {
          "name": "stdout",
          "output_type": "stream",
          "text": [
            "0\n"
          ]
        }
      ],
      "source": [
        "# enviamos la posición de joint1, en radianes.\n",
        "q1 = -30 * np.pi/180\n",
        "returnCode = sim.simxSetJointTargetPosition(clientID, joint1, q1, sim.simx_opmode_oneshot)\n",
        "print(returnCode)"
      ]
    },
    {
      "cell_type": "code",
      "execution_count": null,
      "metadata": {
        "id": "KtVorrzY1XZI",
        "outputId": "989fb361-2849-46aa-e839-c0ad163b05c5"
      },
      "outputs": [
        {
          "name": "stdout",
          "output_type": "stream",
          "text": [
            "0\n"
          ]
        }
      ],
      "source": [
        "# enviamos la posición de joint2, en radianes.\n",
        "q2 = 30 * np.pi/180\n",
        "returnCode = sim.simxSetJointTargetPosition(clientID, joint2, q2, sim.simx_opmode_oneshot)\n",
        "print(returnCode)"
      ]
    },
    {
      "cell_type": "code",
      "execution_count": null,
      "metadata": {
        "id": "Mcf2p6bs1XZI",
        "outputId": "b7738a5a-ba6b-415b-c08e-9e1335129fe0"
      },
      "outputs": [
        {
          "name": "stdout",
          "output_type": "stream",
          "text": [
            "conectado a 19999\n"
          ]
        }
      ],
      "source": [
        "# Podemos poner todo el código junto para conectarnos y crear secuencias de varios movimientos\n",
        "clientID = connect(19999)\n",
        "# obtenemos los manejadores\n",
        "returnCode,handle=sim.simxGetObjectHandle(clientID,'Dummy',sim.simx_opmode_blocking)\n",
        "dummy = handle\n",
        "ret,joint1=sim.simxGetObjectHandle(clientID,'joint1',sim.simx_opmode_blocking)\n",
        "ret,joint2=sim.simxGetObjectHandle(clientID,'joint2',sim.simx_opmode_blocking)\n",
        "# enviamos la posición de las articulaciones en radianes.\n",
        "q1 = -90 * np.pi/180\n",
        "returnCode = sim.simxSetJointTargetPosition(clientID, joint1, q1, sim.simx_opmode_oneshot)\n",
        "q2 = 0 * np.pi/180\n",
        "returnCode = sim.simxSetJointTargetPosition(clientID, joint2, q2, sim.simx_opmode_oneshot)"
      ]
    },
    {
      "cell_type": "code",
      "execution_count": null,
      "metadata": {
        "id": "szlcJdQj1XZI",
        "outputId": "11c45861-1593-4269-b888-7e07bea5a76e"
      },
      "outputs": [
        {
          "name": "stdout",
          "output_type": "stream",
          "text": [
            "[-2.395809950428429e-08, -0.5, 8.883495894451698e-08]\n"
          ]
        }
      ],
      "source": [
        "returnCode,pos=sim.simxGetObjectPosition(clientID, dummy, -1, sim.simx_opmode_blocking)\n",
        "print(pos)"
      ]
    }
  ],
  "metadata": {
    "kernelspec": {
      "display_name": "base",
      "language": "python",
      "name": "python3"
    },
    "language_info": {
      "codemirror_mode": {
        "name": "ipython",
        "version": 3
      },
      "file_extension": ".py",
      "mimetype": "text/x-python",
      "name": "python",
      "nbconvert_exporter": "python",
      "pygments_lexer": "ipython3",
      "version": "3.11.4"
    },
    "colab": {
      "provenance": []
    }
  },
  "nbformat": 4,
  "nbformat_minor": 0
}