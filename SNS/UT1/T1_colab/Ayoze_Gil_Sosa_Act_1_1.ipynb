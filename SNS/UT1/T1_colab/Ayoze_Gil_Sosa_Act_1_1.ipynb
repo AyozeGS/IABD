{
  "cells": [
    {
      "cell_type": "markdown",
      "metadata": {
        "id": "view-in-github",
        "colab_type": "text"
      },
      "source": [
        "<a href=\"https://colab.research.google.com/github/AyozeGS/IABD/blob/main/SNS/UT1/T1_colab/Ayoze_Gil_Sosa_Act_1_1.ipynb\" target=\"_parent\"><img src=\"https://colab.research.google.com/assets/colab-badge.svg\" alt=\"Open In Colab\"/></a>"
      ]
    },
    {
      "cell_type": "markdown",
      "source": [
        "## **Actividad 1.1 – Gestión de ficheros en Google colab**\n",
        "\n",
        "\n"
      ],
      "metadata": {
        "id": "cg_GZ1Mod-0N"
      }
    },
    {
      "cell_type": "markdown",
      "source": [
        "#Ejer 01: Crear en el PC un fichero con un contenido de Loren Ipsum y subirlo"
      ],
      "metadata": {
        "id": "T7-qLZO7kRdH"
      }
    },
    {
      "cell_type": "code",
      "source": [
        "#Ejer 01 (Parte 1/1):\n",
        "\n",
        "#Importamos librería\n",
        "from google.colab import files\n",
        "\n",
        "#Subimos fichero y mostramos información de la subida\n",
        "uploaded = files.upload()\n",
        "for fn in uploaded.keys():\n",
        "  print('User uploaded file \"{name}\" with length {length} bytes'.format(\n",
        "      name=fn, length=len(uploaded[fn])))"
      ],
      "metadata": {
        "colab": {
          "base_uri": "https://localhost:8080/",
          "height": 91
        },
        "id": "aTvtl93Z79uI",
        "outputId": "9e81e146-641f-4e91-f417-84dcfbf6c956"
      },
      "execution_count": 1,
      "outputs": [
        {
          "output_type": "display_data",
          "data": {
            "text/plain": [
              "<IPython.core.display.HTML object>"
            ],
            "text/html": [
              "\n",
              "     <input type=\"file\" id=\"files-80b39930-6362-4ebc-bbe2-bcf749843d6c\" name=\"files[]\" multiple disabled\n",
              "        style=\"border:none\" />\n",
              "     <output id=\"result-80b39930-6362-4ebc-bbe2-bcf749843d6c\">\n",
              "      Upload widget is only available when the cell has been executed in the\n",
              "      current browser session. Please rerun this cell to enable.\n",
              "      </output>\n",
              "      <script>// Copyright 2017 Google LLC\n",
              "//\n",
              "// Licensed under the Apache License, Version 2.0 (the \"License\");\n",
              "// you may not use this file except in compliance with the License.\n",
              "// You may obtain a copy of the License at\n",
              "//\n",
              "//      http://www.apache.org/licenses/LICENSE-2.0\n",
              "//\n",
              "// Unless required by applicable law or agreed to in writing, software\n",
              "// distributed under the License is distributed on an \"AS IS\" BASIS,\n",
              "// WITHOUT WARRANTIES OR CONDITIONS OF ANY KIND, either express or implied.\n",
              "// See the License for the specific language governing permissions and\n",
              "// limitations under the License.\n",
              "\n",
              "/**\n",
              " * @fileoverview Helpers for google.colab Python module.\n",
              " */\n",
              "(function(scope) {\n",
              "function span(text, styleAttributes = {}) {\n",
              "  const element = document.createElement('span');\n",
              "  element.textContent = text;\n",
              "  for (const key of Object.keys(styleAttributes)) {\n",
              "    element.style[key] = styleAttributes[key];\n",
              "  }\n",
              "  return element;\n",
              "}\n",
              "\n",
              "// Max number of bytes which will be uploaded at a time.\n",
              "const MAX_PAYLOAD_SIZE = 100 * 1024;\n",
              "\n",
              "function _uploadFiles(inputId, outputId) {\n",
              "  const steps = uploadFilesStep(inputId, outputId);\n",
              "  const outputElement = document.getElementById(outputId);\n",
              "  // Cache steps on the outputElement to make it available for the next call\n",
              "  // to uploadFilesContinue from Python.\n",
              "  outputElement.steps = steps;\n",
              "\n",
              "  return _uploadFilesContinue(outputId);\n",
              "}\n",
              "\n",
              "// This is roughly an async generator (not supported in the browser yet),\n",
              "// where there are multiple asynchronous steps and the Python side is going\n",
              "// to poll for completion of each step.\n",
              "// This uses a Promise to block the python side on completion of each step,\n",
              "// then passes the result of the previous step as the input to the next step.\n",
              "function _uploadFilesContinue(outputId) {\n",
              "  const outputElement = document.getElementById(outputId);\n",
              "  const steps = outputElement.steps;\n",
              "\n",
              "  const next = steps.next(outputElement.lastPromiseValue);\n",
              "  return Promise.resolve(next.value.promise).then((value) => {\n",
              "    // Cache the last promise value to make it available to the next\n",
              "    // step of the generator.\n",
              "    outputElement.lastPromiseValue = value;\n",
              "    return next.value.response;\n",
              "  });\n",
              "}\n",
              "\n",
              "/**\n",
              " * Generator function which is called between each async step of the upload\n",
              " * process.\n",
              " * @param {string} inputId Element ID of the input file picker element.\n",
              " * @param {string} outputId Element ID of the output display.\n",
              " * @return {!Iterable<!Object>} Iterable of next steps.\n",
              " */\n",
              "function* uploadFilesStep(inputId, outputId) {\n",
              "  const inputElement = document.getElementById(inputId);\n",
              "  inputElement.disabled = false;\n",
              "\n",
              "  const outputElement = document.getElementById(outputId);\n",
              "  outputElement.innerHTML = '';\n",
              "\n",
              "  const pickedPromise = new Promise((resolve) => {\n",
              "    inputElement.addEventListener('change', (e) => {\n",
              "      resolve(e.target.files);\n",
              "    });\n",
              "  });\n",
              "\n",
              "  const cancel = document.createElement('button');\n",
              "  inputElement.parentElement.appendChild(cancel);\n",
              "  cancel.textContent = 'Cancel upload';\n",
              "  const cancelPromise = new Promise((resolve) => {\n",
              "    cancel.onclick = () => {\n",
              "      resolve(null);\n",
              "    };\n",
              "  });\n",
              "\n",
              "  // Wait for the user to pick the files.\n",
              "  const files = yield {\n",
              "    promise: Promise.race([pickedPromise, cancelPromise]),\n",
              "    response: {\n",
              "      action: 'starting',\n",
              "    }\n",
              "  };\n",
              "\n",
              "  cancel.remove();\n",
              "\n",
              "  // Disable the input element since further picks are not allowed.\n",
              "  inputElement.disabled = true;\n",
              "\n",
              "  if (!files) {\n",
              "    return {\n",
              "      response: {\n",
              "        action: 'complete',\n",
              "      }\n",
              "    };\n",
              "  }\n",
              "\n",
              "  for (const file of files) {\n",
              "    const li = document.createElement('li');\n",
              "    li.append(span(file.name, {fontWeight: 'bold'}));\n",
              "    li.append(span(\n",
              "        `(${file.type || 'n/a'}) - ${file.size} bytes, ` +\n",
              "        `last modified: ${\n",
              "            file.lastModifiedDate ? file.lastModifiedDate.toLocaleDateString() :\n",
              "                                    'n/a'} - `));\n",
              "    const percent = span('0% done');\n",
              "    li.appendChild(percent);\n",
              "\n",
              "    outputElement.appendChild(li);\n",
              "\n",
              "    const fileDataPromise = new Promise((resolve) => {\n",
              "      const reader = new FileReader();\n",
              "      reader.onload = (e) => {\n",
              "        resolve(e.target.result);\n",
              "      };\n",
              "      reader.readAsArrayBuffer(file);\n",
              "    });\n",
              "    // Wait for the data to be ready.\n",
              "    let fileData = yield {\n",
              "      promise: fileDataPromise,\n",
              "      response: {\n",
              "        action: 'continue',\n",
              "      }\n",
              "    };\n",
              "\n",
              "    // Use a chunked sending to avoid message size limits. See b/62115660.\n",
              "    let position = 0;\n",
              "    do {\n",
              "      const length = Math.min(fileData.byteLength - position, MAX_PAYLOAD_SIZE);\n",
              "      const chunk = new Uint8Array(fileData, position, length);\n",
              "      position += length;\n",
              "\n",
              "      const base64 = btoa(String.fromCharCode.apply(null, chunk));\n",
              "      yield {\n",
              "        response: {\n",
              "          action: 'append',\n",
              "          file: file.name,\n",
              "          data: base64,\n",
              "        },\n",
              "      };\n",
              "\n",
              "      let percentDone = fileData.byteLength === 0 ?\n",
              "          100 :\n",
              "          Math.round((position / fileData.byteLength) * 100);\n",
              "      percent.textContent = `${percentDone}% done`;\n",
              "\n",
              "    } while (position < fileData.byteLength);\n",
              "  }\n",
              "\n",
              "  // All done.\n",
              "  yield {\n",
              "    response: {\n",
              "      action: 'complete',\n",
              "    }\n",
              "  };\n",
              "}\n",
              "\n",
              "scope.google = scope.google || {};\n",
              "scope.google.colab = scope.google.colab || {};\n",
              "scope.google.colab._files = {\n",
              "  _uploadFiles,\n",
              "  _uploadFilesContinue,\n",
              "};\n",
              "})(self);\n",
              "</script> "
            ]
          },
          "metadata": {}
        },
        {
          "output_type": "stream",
          "name": "stdout",
          "text": [
            "Saving Lorem Ipsum Ayoze Gil.txt to Lorem Ipsum Ayoze Gil.txt\n",
            "User uploaded file \"Lorem Ipsum Ayoze Gil.txt\" with length 3114 bytes\n"
          ]
        }
      ]
    },
    {
      "cell_type": "markdown",
      "source": [
        "#Ejer 02: Descargar el fichero subido en el apartado anterior"
      ],
      "metadata": {
        "id": "Nv0z8z6hkVo2"
      }
    },
    {
      "cell_type": "code",
      "source": [
        "#Ejer 02 (Parte 1/1):\n",
        "\n",
        "\"\"\"\n",
        "Nota: ejecutar primero el código del ejercicio 1\n",
        "para disponer de la librería y el fichero correspondientes\n",
        "\"\"\"\n",
        "\n",
        "#Subimos fichero y mostramos información de la subida\n",
        "files.download('Lorem Ipsum Ayoze Gil.txt')"
      ],
      "metadata": {
        "colab": {
          "base_uri": "https://localhost:8080/",
          "height": 17
        },
        "id": "2ZPJdlcl8uwA",
        "outputId": "81289622-e236-48f7-8f40-3c18570cf865"
      },
      "execution_count": 2,
      "outputs": [
        {
          "output_type": "display_data",
          "data": {
            "text/plain": [
              "<IPython.core.display.Javascript object>"
            ],
            "application/javascript": [
              "\n",
              "    async function download(id, filename, size) {\n",
              "      if (!google.colab.kernel.accessAllowed) {\n",
              "        return;\n",
              "      }\n",
              "      const div = document.createElement('div');\n",
              "      const label = document.createElement('label');\n",
              "      label.textContent = `Downloading \"${filename}\": `;\n",
              "      div.appendChild(label);\n",
              "      const progress = document.createElement('progress');\n",
              "      progress.max = size;\n",
              "      div.appendChild(progress);\n",
              "      document.body.appendChild(div);\n",
              "\n",
              "      const buffers = [];\n",
              "      let downloaded = 0;\n",
              "\n",
              "      const channel = await google.colab.kernel.comms.open(id);\n",
              "      // Send a message to notify the kernel that we're ready.\n",
              "      channel.send({})\n",
              "\n",
              "      for await (const message of channel.messages) {\n",
              "        // Send a message to notify the kernel that we're ready.\n",
              "        channel.send({})\n",
              "        if (message.buffers) {\n",
              "          for (const buffer of message.buffers) {\n",
              "            buffers.push(buffer);\n",
              "            downloaded += buffer.byteLength;\n",
              "            progress.value = downloaded;\n",
              "          }\n",
              "        }\n",
              "      }\n",
              "      const blob = new Blob(buffers, {type: 'application/binary'});\n",
              "      const a = document.createElement('a');\n",
              "      a.href = window.URL.createObjectURL(blob);\n",
              "      a.download = filename;\n",
              "      div.appendChild(a);\n",
              "      a.click();\n",
              "      div.remove();\n",
              "    }\n",
              "  "
            ]
          },
          "metadata": {}
        },
        {
          "output_type": "display_data",
          "data": {
            "text/plain": [
              "<IPython.core.display.Javascript object>"
            ],
            "application/javascript": [
              "download(\"download_6dc6e985-ef6c-4b5d-8e3a-75b7ec6b35f8\", \"Lorem Ipsum Ayoze Gil.txt\", 3114)"
            ]
          },
          "metadata": {}
        }
      ]
    },
    {
      "cell_type": "markdown",
      "source": [
        "#Importante: Se recomienda hacer todos los ejercicios tomando como punto de partida el drirectorio raiz de Drive,\n",
        "#Ejer 03: Crear en drive un directorio llamado GoogleColab_test_Ejer_23_24 y dentro de ella un fichero con un contenido de Loren Ipsum. Consultar/verificar su creación en Google Drive y en el navegador de Google Colab"
      ],
      "metadata": {
        "id": "VToOBmVUkg3e"
      }
    },
    {
      "cell_type": "code",
      "source": [
        "#Ejer 03 (Parte 1/2):\n",
        "\"\"\"\n",
        "Nota: No es necesario vovler a importar files si se han ejecutado las celdas\n",
        "de los ejercicios anteriores y ya se ha importado. Volver a importarlo\n",
        "dota de cierta autonomía a la celda.\n",
        "\n",
        "Nota: Desomantamos la unidad de google drive por si estuviera montada\n",
        "previamente poder volver a montarla.\n",
        "\"\"\"\n",
        "#Importamos librerías\n",
        "from google.colab import drive\n",
        "from google.colab import files\n",
        "\n",
        "# montamos la unidad de google drive\n",
        "drive.flush_and_unmount\n",
        "drive.mount('/content/drive', force_remount=True)"
      ],
      "metadata": {
        "colab": {
          "base_uri": "https://localhost:8080/"
        },
        "id": "iHNe4ojYAHEu",
        "outputId": "c4a7d607-c92a-497b-b503-bb44208d0832"
      },
      "execution_count": 3,
      "outputs": [
        {
          "output_type": "stream",
          "name": "stdout",
          "text": [
            "Mounted at /content/drive\n"
          ]
        }
      ]
    },
    {
      "cell_type": "code",
      "source": [
        "#Ejer 03 (Parte 2/2):\n",
        "\n",
        "#Se crean el directorio y el fichero\n",
        "folder_name = 'GoogleColab_test_Ejer_23_24'\n",
        "folder_path = '/content/drive/My Drive/'+folder_name+'/'\n",
        "file_name = 'Lorem Ipsum AGS.txt'\n",
        "!mkdir \"{folder_path}\"\n",
        "with open(folder_path+file_name, 'w') as f:\n",
        "  f.write('Lorem ipsum dolor sit amet, consectetur adipiscing elit. Nam accumsan.')\n",
        "\n",
        "#Se muestra el contenido de la carpeta (escribiendo ruta directamente)\n",
        "print(\"\\nContenido de la carpeta:\")\n",
        "!ls -l '/content/drive/My Drive/GoogleColab_test_Ejer_23_24/'\n",
        "\n",
        "#Se muestra el contenido del fichero (usando variables de python)\n",
        "print(\"\\nContenido del fichero:\")\n",
        "!cat '{folder_path}{file_name}'\n"
      ],
      "metadata": {
        "colab": {
          "base_uri": "https://localhost:8080/"
        },
        "id": "ULdaMOK1Hf3x",
        "outputId": "5a306ec8-af61-40ab-cda9-2b423d487228"
      },
      "execution_count": 4,
      "outputs": [
        {
          "output_type": "stream",
          "name": "stdout",
          "text": [
            "\n",
            "Contenido de la carpeta:\n",
            "total 1\n",
            "-rw------- 1 root root 70 Oct 22 18:12 'Lorem Ipsum AGS.txt'\n",
            "\n",
            "Contenido del fichero:\n",
            "Lorem ipsum dolor sit amet, consectetur adipiscing elit. Nam accumsan."
          ]
        }
      ]
    },
    {
      "cell_type": "markdown",
      "source": [
        "#Ejer 04: En la carpeta creada en el ejercicio anterior (GoogleColab_test_Ejer_23_24), crear un fichero cuyo nombre sean tu nombre y apellidos, en su contenido incluir un texto LorenIpsum distinto al utilizado en el punto anterior (de 50 palabras y añadir tu nombre al principio) y al terminar mostrar su contenido.\n",
        "#Similar al ejemplo. Validar su existencia consultando Gdrive.ListFile  y el explorador de archivos de GoogleColab en este notebook"
      ],
      "metadata": {
        "id": "gtrF9zyWksZY"
      }
    },
    {
      "cell_type": "code",
      "source": [
        "#Ejer 04 (Parte 1/3)\n",
        "\n",
        "#Cargamos librerías\n",
        "from pydrive.auth import GoogleAuth\n",
        "from pydrive.drive import GoogleDrive\n",
        "from google.colab import auth\n",
        "from oauth2client.client import GoogleCredentials\n",
        "\n",
        "#Nos autenticamos y creamos el cliente Drive\n",
        "auth.authenticate_user()\n",
        "gauth = GoogleAuth()\n",
        "gauth.credentials = GoogleCredentials.get_application_default()\n",
        "drive = GoogleDrive(gauth)"
      ],
      "metadata": {
        "id": "hXneGUkZFCY-"
      },
      "execution_count": 5,
      "outputs": []
    },
    {
      "cell_type": "code",
      "source": [
        "#Ejer 04 (Parte 2/3)\n",
        "\n",
        "#Obtenemos el id de la carpeta buscando su nombre en en la raíz de nuestro directorio drive.\n",
        "def get_folder_id_in_root(folder_name):\n",
        "  file_list = drive.ListFile({'q': \"'root' in parents and trashed=false\"}).GetList()\n",
        "  for f in file_list:\n",
        "    if f['title'] == folder_name:\n",
        "      return f['id']\n",
        "  return 0\n",
        "\n",
        "folder_name = 'GoogleColab_test_Ejer_23_24'\n",
        "folder_id = get_folder_id_in_root(folder_name)\n",
        "\n",
        "#Creamos el fichero dentro del directorio indicando su id por parámetro.\n",
        "file_name_ejer04 = 'Ayoze Gil Sosa.txt'\n",
        "file = drive.CreateFile({'title': file_name_ejer04, 'parents': [{'id':folder_id}]})\n",
        "file.SetContentString('Lorem ipsum dolor sit amet, consectetur adipiscing elit. Nam orci risus, dapibus ac lectus sed, mollis maximus ex. Morbi egestas mollis nulla, vel pellentesque dolor porttitor a. Cras rhoncus auctor congue. Donec lobortis blandit arcu sed interdum. Cras facilisis dapibus aliquet. Nullam scelerisque in diam et mattis. Nunc non dui.')\n",
        "file.Upload()"
      ],
      "metadata": {
        "id": "cIqam1ZY7S5Z"
      },
      "execution_count": 6,
      "outputs": []
    },
    {
      "cell_type": "code",
      "source": [
        "#Ejer 04 (Parte 3/3)\n",
        "#Miramos el los ficheros del directorio\n",
        "file_list = drive.ListFile({'q': \"'{}' in parents and trashed=false\".format(folder_id)}).GetList()\n",
        "for f in file_list:\n",
        "  print('title: %s, id: %s' % (f['title'], f['id']))\n",
        "\n",
        "#Comprobamos el contendio del fichero\n",
        "check_file = drive.CreateFile({'id': file.get('id')})\n",
        "print('\\nContenido del fichero (ID: {}):\\n \"{}\"'.format(file.get('id'), check_file.GetContentString()))\n"
      ],
      "metadata": {
        "colab": {
          "base_uri": "https://localhost:8080/"
        },
        "id": "G03xy6R8Piyp",
        "outputId": "4225df09-8e34-4087-bc8a-e3caed0bc53b"
      },
      "execution_count": 7,
      "outputs": [
        {
          "output_type": "stream",
          "name": "stdout",
          "text": [
            "title: Ayoze Gil Sosa.txt, id: 1GKeaujuisZ3mysMbiTaWbhTkFJyL3CQe\n",
            "title: Lorem Ipsum AGS.txt, id: 1-0vGhs3wiu350PzsnhUADcggXo7lAJEw\n",
            "\n",
            "Contenido del fichero (ID: 1GKeaujuisZ3mysMbiTaWbhTkFJyL3CQe):\n",
            " \"Lorem ipsum dolor sit amet, consectetur adipiscing elit. Nam orci risus, dapibus ac lectus sed, mollis maximus ex. Morbi egestas mollis nulla, vel pellentesque dolor porttitor a. Cras rhoncus auctor congue. Donec lobortis blandit arcu sed interdum. Cras facilisis dapibus aliquet. Nullam scelerisque in diam et mattis. Nunc non dui.\"\n"
          ]
        }
      ]
    },
    {
      "cell_type": "markdown",
      "source": [
        "#Ejer 05: Mostrar una lista de los ficheros que existen en el directorio GoogleColab_test_Ejer_23_24"
      ],
      "metadata": {
        "id": "Ud5Yo7zuk9de"
      }
    },
    {
      "cell_type": "code",
      "source": [
        "#Ejer 05 ( Parte 1/1)\n",
        "\n",
        "# Nota: Se repite el proceso hecho del ejercicio 4 para validar la subida del fichero con Gdrive.ListFile\n",
        "\n",
        "#Miramos el los ficheros del directorio.\n",
        "file_list = drive.ListFile({'q': \"'{}' in parents and trashed=false\".format(folder_id)}).GetList()\n",
        "for f in file_list:\n",
        "  print('title: %s, id: %s' % (f['title'], f['id']))"
      ],
      "metadata": {
        "colab": {
          "base_uri": "https://localhost:8080/"
        },
        "id": "R42vTHlU16T6",
        "outputId": "549d1d51-4641-40b7-f1a6-9d17c3b2f69c"
      },
      "execution_count": 8,
      "outputs": [
        {
          "output_type": "stream",
          "name": "stdout",
          "text": [
            "title: Ayoze Gil Sosa.txt, id: 1GKeaujuisZ3mysMbiTaWbhTkFJyL3CQe\n",
            "title: Lorem Ipsum AGS.txt, id: 1-0vGhs3wiu350PzsnhUADcggXo7lAJEw\n"
          ]
        }
      ]
    },
    {
      "cell_type": "markdown",
      "source": [
        "# Ejer 06: Haciendo uso de la api (ejemplo anterior) descargar/mostrar el contenido del fichero que creaste con contenido LorenIpsum en la carpeta GoogleColab_test_Ejer y con el nombre tuyo."
      ],
      "metadata": {
        "id": "DIn9W19nlEnW"
      }
    },
    {
      "cell_type": "code",
      "source": [
        "#Ejer 06 ( Parte 0/2)\n",
        "\n",
        "#Nota: importar librerías si se ha reiniciado el entorno de ejecución\n",
        "from google.colab import auth\n",
        "from pydrive.auth import GoogleAuth\n",
        "from pydrive.auth import GoogleAuth\n",
        "from pydrive.drive import GoogleDrive\n",
        "from oauth2client.client import GoogleCredentials\n",
        "\n",
        "auth.authenticate_user()\n",
        "gauth = GoogleAuth()\n",
        "gauth.credentials = GoogleCredentials.get_application_default()\n",
        "drive = GoogleDrive(gauth)"
      ],
      "metadata": {
        "id": "0cxfRz0aViq7"
      },
      "execution_count": 9,
      "outputs": []
    },
    {
      "cell_type": "code",
      "source": [
        "#Ejer 06 ( Parte 1/2)\n",
        "\n",
        "#Cargamos librerías\n",
        "import io\n",
        "from googleapiclient.http import MediaIoBaseDownload\n",
        "\n",
        "from googleapiclient.discovery import build\n",
        "drive_service = build('drive', 'v3')"
      ],
      "metadata": {
        "id": "gqaXs-slMDzk"
      },
      "execution_count": 10,
      "outputs": []
    },
    {
      "cell_type": "code",
      "source": [
        "#Ejer 06 ( Parte 2/2)\n",
        "\n",
        "#Obtenemos el id de la carpeta buscando su nombre en en la raíz de nuestro directorio drive.\n",
        "def get_folder_id_in_root(folder_name):\n",
        "  file_list = drive.ListFile({'q': \"'root' in parents and trashed=false\"}).GetList()\n",
        "  for f in file_list:\n",
        "    if f['title'] == folder_name:\n",
        "      return f['id']\n",
        "  return 0\n",
        "\n",
        "#Obtenemos el id del fichero buscando en un directorio indicado por su id.\n",
        "def get_file_id_in_folder(file_name, folder_id):\n",
        "  file_list = drive.ListFile({'q': \"'{}' in parents and trashed=false\".format(folder_id)}).GetList()\n",
        "  for f in file_list:\n",
        "    if f['title'] == file_name:\n",
        "      return f['id']\n",
        "  return 0\n",
        "\n",
        "# Buscamos el id del fichero\n",
        "folder_name = 'GoogleColab_test_Ejer_23_24'\n",
        "file_name = \"Ayoze Gil Sosa.txt\"\n",
        "file_id = get_file_id_in_folder(file_name, get_folder_id_in_root(folder_name))\n",
        "\n",
        "# Descargamos el contenido del fichero\n",
        "request = drive_service.files().get_media(fileId=file_id)\n",
        "downloaded = io.BytesIO()\n",
        "downloader = MediaIoBaseDownload(downloaded, request)\n",
        "done = False\n",
        "while done is False:\n",
        "  # _ is a placeholder for a progress object that we ignore.\n",
        "  # (Our file is small, so we skip reporting progress.)\n",
        "  _, done = downloader.next_chunk()\n",
        "\n",
        "downloaded.seek(0)\n",
        "print('Contenido del fichero: {}'.format(downloaded.read()))"
      ],
      "metadata": {
        "colab": {
          "base_uri": "https://localhost:8080/"
        },
        "id": "OGQKpSskM418",
        "outputId": "0d3290e8-df91-4ae5-b6e1-f1bc6d3471a1"
      },
      "execution_count": 11,
      "outputs": [
        {
          "output_type": "stream",
          "name": "stdout",
          "text": [
            "Contenido del fichero: b'Lorem ipsum dolor sit amet, consectetur adipiscing elit. Nam orci risus, dapibus ac lectus sed, mollis maximus ex. Morbi egestas mollis nulla, vel pellentesque dolor porttitor a. Cras rhoncus auctor congue. Donec lobortis blandit arcu sed interdum. Cras facilisis dapibus aliquet. Nullam scelerisque in diam et mattis. Nunc non dui.'\n"
          ]
        }
      ]
    },
    {
      "cell_type": "markdown",
      "source": [
        "# Ejer 07: Subir a un repositorio de GitHub una hoja de cálculo en formato csv y realizar la importanción a un dataframe, utilizando como separador de campos un \"punto y coma\" ;"
      ],
      "metadata": {
        "id": "vy0gfvgWlIl2"
      }
    },
    {
      "cell_type": "code",
      "source": [
        "#Ejer 07 ( Parte 1/1)\n",
        "\n",
        "#Importamos librerías\n",
        "import pandas as pd\n",
        "\n",
        "#Importamos los datos\n",
        "repositorio = 'https://raw.githubusercontent.com/AyozeGS/IABD/main/SNS/UT1/T1_colab/Asignaturas_Master_IA_BD.csv'\n",
        "\n",
        "df_master_ia_bd = pd.read_csv(repositorio, sep=';')\n",
        "df_master_ia_bd"
      ],
      "metadata": {
        "colab": {
          "base_uri": "https://localhost:8080/",
          "height": 206
        },
        "id": "dMWm_M5taSPz",
        "outputId": "7ced081e-3984-496b-a41e-4f0316306614"
      },
      "execution_count": 12,
      "outputs": [
        {
          "output_type": "execute_result",
          "data": {
            "text/plain": [
              "                                asignatura codigo     tutor  horas semanales\n",
              "0                        Big Data Aplicado    BIU   Gustavo                5\n",
              "1       Modelos de Inteligencia Artificial    M2D    Carlos                2\n",
              "2  Programación de Inteligencia Artificial    7RO    Carlos                7\n",
              "3       Sistemas de Aprendizaje Automático    SNS  Salvador                3\n",
              "4                     Sistemas de Big Data    SPS   Gustavo                3"
            ],
            "text/html": [
              "\n",
              "  <div id=\"df-0cfcd26d-8249-4d6b-a605-c554bd8e73ce\" class=\"colab-df-container\">\n",
              "    <div>\n",
              "<style scoped>\n",
              "    .dataframe tbody tr th:only-of-type {\n",
              "        vertical-align: middle;\n",
              "    }\n",
              "\n",
              "    .dataframe tbody tr th {\n",
              "        vertical-align: top;\n",
              "    }\n",
              "\n",
              "    .dataframe thead th {\n",
              "        text-align: right;\n",
              "    }\n",
              "</style>\n",
              "<table border=\"1\" class=\"dataframe\">\n",
              "  <thead>\n",
              "    <tr style=\"text-align: right;\">\n",
              "      <th></th>\n",
              "      <th>asignatura</th>\n",
              "      <th>codigo</th>\n",
              "      <th>tutor</th>\n",
              "      <th>horas semanales</th>\n",
              "    </tr>\n",
              "  </thead>\n",
              "  <tbody>\n",
              "    <tr>\n",
              "      <th>0</th>\n",
              "      <td>Big Data Aplicado</td>\n",
              "      <td>BIU</td>\n",
              "      <td>Gustavo</td>\n",
              "      <td>5</td>\n",
              "    </tr>\n",
              "    <tr>\n",
              "      <th>1</th>\n",
              "      <td>Modelos de Inteligencia Artificial</td>\n",
              "      <td>M2D</td>\n",
              "      <td>Carlos</td>\n",
              "      <td>2</td>\n",
              "    </tr>\n",
              "    <tr>\n",
              "      <th>2</th>\n",
              "      <td>Programación de Inteligencia Artificial</td>\n",
              "      <td>7RO</td>\n",
              "      <td>Carlos</td>\n",
              "      <td>7</td>\n",
              "    </tr>\n",
              "    <tr>\n",
              "      <th>3</th>\n",
              "      <td>Sistemas de Aprendizaje Automático</td>\n",
              "      <td>SNS</td>\n",
              "      <td>Salvador</td>\n",
              "      <td>3</td>\n",
              "    </tr>\n",
              "    <tr>\n",
              "      <th>4</th>\n",
              "      <td>Sistemas de Big Data</td>\n",
              "      <td>SPS</td>\n",
              "      <td>Gustavo</td>\n",
              "      <td>3</td>\n",
              "    </tr>\n",
              "  </tbody>\n",
              "</table>\n",
              "</div>\n",
              "    <div class=\"colab-df-buttons\">\n",
              "\n",
              "  <div class=\"colab-df-container\">\n",
              "    <button class=\"colab-df-convert\" onclick=\"convertToInteractive('df-0cfcd26d-8249-4d6b-a605-c554bd8e73ce')\"\n",
              "            title=\"Convert this dataframe to an interactive table.\"\n",
              "            style=\"display:none;\">\n",
              "\n",
              "  <svg xmlns=\"http://www.w3.org/2000/svg\" height=\"24px\" viewBox=\"0 -960 960 960\">\n",
              "    <path d=\"M120-120v-720h720v720H120Zm60-500h600v-160H180v160Zm220 220h160v-160H400v160Zm0 220h160v-160H400v160ZM180-400h160v-160H180v160Zm440 0h160v-160H620v160ZM180-180h160v-160H180v160Zm440 0h160v-160H620v160Z\"/>\n",
              "  </svg>\n",
              "    </button>\n",
              "\n",
              "  <style>\n",
              "    .colab-df-container {\n",
              "      display:flex;\n",
              "      gap: 12px;\n",
              "    }\n",
              "\n",
              "    .colab-df-convert {\n",
              "      background-color: #E8F0FE;\n",
              "      border: none;\n",
              "      border-radius: 50%;\n",
              "      cursor: pointer;\n",
              "      display: none;\n",
              "      fill: #1967D2;\n",
              "      height: 32px;\n",
              "      padding: 0 0 0 0;\n",
              "      width: 32px;\n",
              "    }\n",
              "\n",
              "    .colab-df-convert:hover {\n",
              "      background-color: #E2EBFA;\n",
              "      box-shadow: 0px 1px 2px rgba(60, 64, 67, 0.3), 0px 1px 3px 1px rgba(60, 64, 67, 0.15);\n",
              "      fill: #174EA6;\n",
              "    }\n",
              "\n",
              "    .colab-df-buttons div {\n",
              "      margin-bottom: 4px;\n",
              "    }\n",
              "\n",
              "    [theme=dark] .colab-df-convert {\n",
              "      background-color: #3B4455;\n",
              "      fill: #D2E3FC;\n",
              "    }\n",
              "\n",
              "    [theme=dark] .colab-df-convert:hover {\n",
              "      background-color: #434B5C;\n",
              "      box-shadow: 0px 1px 3px 1px rgba(0, 0, 0, 0.15);\n",
              "      filter: drop-shadow(0px 1px 2px rgba(0, 0, 0, 0.3));\n",
              "      fill: #FFFFFF;\n",
              "    }\n",
              "  </style>\n",
              "\n",
              "    <script>\n",
              "      const buttonEl =\n",
              "        document.querySelector('#df-0cfcd26d-8249-4d6b-a605-c554bd8e73ce button.colab-df-convert');\n",
              "      buttonEl.style.display =\n",
              "        google.colab.kernel.accessAllowed ? 'block' : 'none';\n",
              "\n",
              "      async function convertToInteractive(key) {\n",
              "        const element = document.querySelector('#df-0cfcd26d-8249-4d6b-a605-c554bd8e73ce');\n",
              "        const dataTable =\n",
              "          await google.colab.kernel.invokeFunction('convertToInteractive',\n",
              "                                                    [key], {});\n",
              "        if (!dataTable) return;\n",
              "\n",
              "        const docLinkHtml = 'Like what you see? Visit the ' +\n",
              "          '<a target=\"_blank\" href=https://colab.research.google.com/notebooks/data_table.ipynb>data table notebook</a>'\n",
              "          + ' to learn more about interactive tables.';\n",
              "        element.innerHTML = '';\n",
              "        dataTable['output_type'] = 'display_data';\n",
              "        await google.colab.output.renderOutput(dataTable, element);\n",
              "        const docLink = document.createElement('div');\n",
              "        docLink.innerHTML = docLinkHtml;\n",
              "        element.appendChild(docLink);\n",
              "      }\n",
              "    </script>\n",
              "  </div>\n",
              "\n",
              "\n",
              "<div id=\"df-9d9c4f1c-9c96-4828-a6de-dd4fd7a2032f\">\n",
              "  <button class=\"colab-df-quickchart\" onclick=\"quickchart('df-9d9c4f1c-9c96-4828-a6de-dd4fd7a2032f')\"\n",
              "            title=\"Suggest charts.\"\n",
              "            style=\"display:none;\">\n",
              "\n",
              "<svg xmlns=\"http://www.w3.org/2000/svg\" height=\"24px\"viewBox=\"0 0 24 24\"\n",
              "     width=\"24px\">\n",
              "    <g>\n",
              "        <path d=\"M19 3H5c-1.1 0-2 .9-2 2v14c0 1.1.9 2 2 2h14c1.1 0 2-.9 2-2V5c0-1.1-.9-2-2-2zM9 17H7v-7h2v7zm4 0h-2V7h2v10zm4 0h-2v-4h2v4z\"/>\n",
              "    </g>\n",
              "</svg>\n",
              "  </button>\n",
              "\n",
              "<style>\n",
              "  .colab-df-quickchart {\n",
              "      --bg-color: #E8F0FE;\n",
              "      --fill-color: #1967D2;\n",
              "      --hover-bg-color: #E2EBFA;\n",
              "      --hover-fill-color: #174EA6;\n",
              "      --disabled-fill-color: #AAA;\n",
              "      --disabled-bg-color: #DDD;\n",
              "  }\n",
              "\n",
              "  [theme=dark] .colab-df-quickchart {\n",
              "      --bg-color: #3B4455;\n",
              "      --fill-color: #D2E3FC;\n",
              "      --hover-bg-color: #434B5C;\n",
              "      --hover-fill-color: #FFFFFF;\n",
              "      --disabled-bg-color: #3B4455;\n",
              "      --disabled-fill-color: #666;\n",
              "  }\n",
              "\n",
              "  .colab-df-quickchart {\n",
              "    background-color: var(--bg-color);\n",
              "    border: none;\n",
              "    border-radius: 50%;\n",
              "    cursor: pointer;\n",
              "    display: none;\n",
              "    fill: var(--fill-color);\n",
              "    height: 32px;\n",
              "    padding: 0;\n",
              "    width: 32px;\n",
              "  }\n",
              "\n",
              "  .colab-df-quickchart:hover {\n",
              "    background-color: var(--hover-bg-color);\n",
              "    box-shadow: 0 1px 2px rgba(60, 64, 67, 0.3), 0 1px 3px 1px rgba(60, 64, 67, 0.15);\n",
              "    fill: var(--button-hover-fill-color);\n",
              "  }\n",
              "\n",
              "  .colab-df-quickchart-complete:disabled,\n",
              "  .colab-df-quickchart-complete:disabled:hover {\n",
              "    background-color: var(--disabled-bg-color);\n",
              "    fill: var(--disabled-fill-color);\n",
              "    box-shadow: none;\n",
              "  }\n",
              "\n",
              "  .colab-df-spinner {\n",
              "    border: 2px solid var(--fill-color);\n",
              "    border-color: transparent;\n",
              "    border-bottom-color: var(--fill-color);\n",
              "    animation:\n",
              "      spin 1s steps(1) infinite;\n",
              "  }\n",
              "\n",
              "  @keyframes spin {\n",
              "    0% {\n",
              "      border-color: transparent;\n",
              "      border-bottom-color: var(--fill-color);\n",
              "      border-left-color: var(--fill-color);\n",
              "    }\n",
              "    20% {\n",
              "      border-color: transparent;\n",
              "      border-left-color: var(--fill-color);\n",
              "      border-top-color: var(--fill-color);\n",
              "    }\n",
              "    30% {\n",
              "      border-color: transparent;\n",
              "      border-left-color: var(--fill-color);\n",
              "      border-top-color: var(--fill-color);\n",
              "      border-right-color: var(--fill-color);\n",
              "    }\n",
              "    40% {\n",
              "      border-color: transparent;\n",
              "      border-right-color: var(--fill-color);\n",
              "      border-top-color: var(--fill-color);\n",
              "    }\n",
              "    60% {\n",
              "      border-color: transparent;\n",
              "      border-right-color: var(--fill-color);\n",
              "    }\n",
              "    80% {\n",
              "      border-color: transparent;\n",
              "      border-right-color: var(--fill-color);\n",
              "      border-bottom-color: var(--fill-color);\n",
              "    }\n",
              "    90% {\n",
              "      border-color: transparent;\n",
              "      border-bottom-color: var(--fill-color);\n",
              "    }\n",
              "  }\n",
              "</style>\n",
              "\n",
              "  <script>\n",
              "    async function quickchart(key) {\n",
              "      const quickchartButtonEl =\n",
              "        document.querySelector('#' + key + ' button');\n",
              "      quickchartButtonEl.disabled = true;  // To prevent multiple clicks.\n",
              "      quickchartButtonEl.classList.add('colab-df-spinner');\n",
              "      try {\n",
              "        const charts = await google.colab.kernel.invokeFunction(\n",
              "            'suggestCharts', [key], {});\n",
              "      } catch (error) {\n",
              "        console.error('Error during call to suggestCharts:', error);\n",
              "      }\n",
              "      quickchartButtonEl.classList.remove('colab-df-spinner');\n",
              "      quickchartButtonEl.classList.add('colab-df-quickchart-complete');\n",
              "    }\n",
              "    (() => {\n",
              "      let quickchartButtonEl =\n",
              "        document.querySelector('#df-9d9c4f1c-9c96-4828-a6de-dd4fd7a2032f button');\n",
              "      quickchartButtonEl.style.display =\n",
              "        google.colab.kernel.accessAllowed ? 'block' : 'none';\n",
              "    })();\n",
              "  </script>\n",
              "</div>\n",
              "    </div>\n",
              "  </div>\n"
            ]
          },
          "metadata": {},
          "execution_count": 12
        }
      ]
    }
  ],
  "metadata": {
    "colab": {
      "provenance": [],
      "include_colab_link": true
    },
    "kernelspec": {
      "display_name": "Python 3",
      "name": "python3"
    }
  },
  "nbformat": 4,
  "nbformat_minor": 0
}