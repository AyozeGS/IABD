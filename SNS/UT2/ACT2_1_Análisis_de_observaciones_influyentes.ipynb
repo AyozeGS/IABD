{
  "nbformat": 4,
  "nbformat_minor": 0,
  "metadata": {
    "colab": {
      "provenance": [],
      "authorship_tag": "ABX9TyN2rq+wk6ZyUg7qO3Zv2lPo",
      "include_colab_link": true
    },
    "kernelspec": {
      "name": "python3",
      "display_name": "Python 3"
    },
    "language_info": {
      "name": "python"
    }
  },
  "cells": [
    {
      "cell_type": "markdown",
      "metadata": {
        "id": "view-in-github",
        "colab_type": "text"
      },
      "source": [
        "<a href=\"https://colab.research.google.com/github/AyozeGS/IABD/blob/main/SNS/UT2/ACT2_1_An%C3%A1lisis_de_observaciones_influyentes.ipynb\" target=\"_parent\"><img src=\"https://colab.research.google.com/assets/colab-badge.svg\" alt=\"Open In Colab\"/></a>"
      ]
    },
    {
      "cell_type": "markdown",
      "source": [
        "### **Actividad 2.1 – Análisis de observaciones influyentes**"
      ],
      "metadata": {
        "id": "eCG2JJRbMLlx"
      }
    },
    {
      "cell_type": "code",
      "source": [
        "# LIBRERÍAS\n",
        "# ==============================================================================\n",
        "# Tratamiento de datos\n",
        "import numpy as np\n",
        "import pandas as pd\n",
        "# ==============================================================================\n",
        "# Tratamiento estadístico\n",
        "import scipy.stats as st\n",
        "# ==============================================================================\n",
        "# Preprocesado\n",
        "from sklearn.compose import ColumnTransformer\n",
        "from sklearn.preprocessing import StandardScaler\n",
        "from sklearn.preprocessing import MinMaxScaler\n",
        "from sklearn.compose import make_column_selector"
      ],
      "metadata": {
        "id": "VeQ8tBmFYbyU"
      },
      "execution_count": 1,
      "outputs": []
    },
    {
      "cell_type": "markdown",
      "source": [
        "**1.   A partir del código de ejemplo utilizado en el notebook**\n",
        "\n",
        "Ejemplo_2_4_Observaciones_influyentes_Sin soluciones.ipynb\n",
        "\n",
        "Url: https://colab.research.google.com/drive/17Mski--bw1HRcpb3mJKpNIAPmv6KnmVL?usp=sharing\n",
        "\n",
        "**Responder a las siguientes preguntas:**"
      ],
      "metadata": {
        "id": "3NHeCRjrMR64"
      }
    },
    {
      "cell_type": "code",
      "source": [
        "# Generamos (100 elementos) ingresos uniformemente distribuidos en [15000,25000]\n",
        "datos = 15000+np.random.rand(100)*10000\n",
        "datos_ord = datos\n",
        "datos_ord.sort()"
      ],
      "metadata": {
        "id": "Zak_RRXmIL1Z"
      },
      "execution_count": 2,
      "outputs": []
    },
    {
      "cell_type": "markdown",
      "source": [
        "\n",
        "**a)   Calcular la media y la mediana antes de realizar la modificación de incluir unos ingresos de 500.000€**"
      ],
      "metadata": {
        "id": "_wEtOIOHM_GX"
      }
    },
    {
      "cell_type": "code",
      "source": [
        "# Cálculo de la media y la mediana antes de introducir un valor atípico\n",
        "print(\"Media =\", np.mean(datos))\n",
        "print(\"Mediana =\", np.median(datos))"
      ],
      "metadata": {
        "colab": {
          "base_uri": "https://localhost:8080/"
        },
        "id": "_Q_rbk0FNtEo",
        "outputId": "a5ca8d50-8372-4870-fede-cb7b638a04b5"
      },
      "execution_count": 3,
      "outputs": [
        {
          "output_type": "stream",
          "name": "stdout",
          "text": [
            "Media = 19640.132472597357\n",
            "Mediana = 19710.139190448866\n"
          ]
        }
      ]
    },
    {
      "cell_type": "code",
      "source": [
        "# El vecino 50 tiene unos ingresos significativamente mayores que el resto\n",
        "datos2 = datos\n",
        "datos2[50]=500000\n",
        "\n",
        "media=  np.mean(datos2)\n",
        "mediana=  np.median (datos2) # Es el valor central cuando los datos se ordenan\n",
        "print(f\"Media= {media}\\nMediana={mediana}\")"
      ],
      "metadata": {
        "colab": {
          "base_uri": "https://localhost:8080/"
        },
        "id": "vlMu-q_APSgf",
        "outputId": "1f52dfed-eea4-4c21-ea84-b92f51fa0d95"
      },
      "execution_count": 4,
      "outputs": [
        {
          "output_type": "stream",
          "name": "stdout",
          "text": [
            "Media= 24442.650887808708\n",
            "Mediana=19808.67419108151\n"
          ]
        }
      ]
    },
    {
      "cell_type": "markdown",
      "source": [
        "**b)   Aplicar el método de Probabilidad global, para detectar los outliers utilizado en el ejemplo 2_3_Outliers**"
      ],
      "metadata": {
        "id": "XRTliYxjNKzw"
      }
    },
    {
      "cell_type": "code",
      "source": [
        "# Probabilidad de la muestra de estar dentro de las bandas\n",
        "p_g=0.95\n",
        "# probabilidad global\n",
        "alfa_g=(1-p_g)/2\n",
        "# probabilidad  para un solo dato\n",
        "alfa= 1-(1-alfa_g)**(1/len(datos))\n",
        "# Criterio Chauvenet\n",
        "Z_alfa=st.norm.ppf(1-alfa/2)\n",
        "\n",
        "# Impresión de resultados\n",
        "alfa=round(alfa,5)\n",
        "Z_alfa=round(Z_alfa,5)\n",
        "print(f\" Alfa ={alfa}\")\n",
        "print(f\" Z_alfa ={Z_alfa}\")\n",
        "\n",
        "# Cálculo de las bandas\n",
        "xL=  round(np.mean(datos)-Z_alfa*  np.std(datos),4)\n",
        "xU=  round(np.mean(datos)+Z_alfa*  np.std(datos),4)\n",
        "print(f\" Banda= [ {xL},{xU}]\")\n",
        "\n",
        "for i in  range(len(datos)):\n",
        "  if datos[i] < xL  or datos[i]>xU:\n",
        "    print(f\" El dato[{i}]={datos[i]} es un outlier\")"
      ],
      "metadata": {
        "colab": {
          "base_uri": "https://localhost:8080/"
        },
        "id": "C9NpsiehPDi3",
        "outputId": "2b411de7-515a-4d9d-ed26-bf0c6cab1fc2"
      },
      "execution_count": 5,
      "outputs": [
        {
          "output_type": "stream",
          "name": "stdout",
          "text": [
            " Alfa =0.00025\n",
            " Z_alfa =3.65906\n",
            " Banda= [ -150769.9918,199655.2936]\n",
            " El dato[50]=500000.0 es un outlier\n"
          ]
        }
      ]
    },
    {
      "cell_type": "markdown",
      "source": [
        "**c)   Repetir el mismo procedimiento de detectar los outliers para la mediana en lugar de con la media: ¿Qué ocurre?**"
      ],
      "metadata": {
        "id": "ILGmrwM6NNcQ"
      }
    },
    {
      "cell_type": "code",
      "source": [
        "# Cálculo de las bandas\n",
        "xL=  round(np.median(datos)-Z_alfa*  np.std(datos),4)\n",
        "xU=  round(np.median(datos)+Z_alfa*  np.std(datos),4)\n",
        "print(f\" Banda= [ {xL},{xU}]\")\n",
        "\n",
        "for i in  range(len(datos)):\n",
        "  if datos[i] < xL  or datos[i]>xU:\n",
        "    print(f\" El dato[{i}]={datos[i]} es un outlier\")"
      ],
      "metadata": {
        "colab": {
          "base_uri": "https://localhost:8080/"
        },
        "id": "J_ViqJ59s5NN",
        "outputId": "6f1a2331-0bf6-4d3c-b0b8-f36bd37e2890"
      },
      "execution_count": 9,
      "outputs": [
        {
          "output_type": "stream",
          "name": "stdout",
          "text": [
            " Banda= [ -155403.9685,195021.3169]\n",
            " El dato[50]=500000.0 es un outlier\n"
          ]
        }
      ]
    },
    {
      "cell_type": "markdown",
      "source": [
        "**c)   Repetir el mismo procedimiento (método Jackknife) de detectar los outliers para la mediana en lugar de con la media: ¿Qué ocurre? ¿observas variaciones?**"
      ],
      "metadata": {
        "id": "0MvQpgo5s0xC"
      }
    },
    {
      "cell_type": "code",
      "source": [
        "# Remuestreo de los datos en base a su mediana\n",
        "phi_median=np.zeros(len(datos))\n",
        "for i in  range(len(datos)):\n",
        "  datos_aux=datos\n",
        "  datos_sin_i=np.delete(datos_aux, i)\n",
        "  phi_median[i]=np.median(datos_sin_i)\n",
        "phi_median"
      ],
      "metadata": {
        "id": "135MsEUZPD-f",
        "colab": {
          "base_uri": "https://localhost:8080/"
        },
        "outputId": "dd4d709b-f1d5-4e28-9414-6cb0c3d2686e"
      },
      "execution_count": 6,
      "outputs": [
        {
          "output_type": "execute_result",
          "data": {
            "text/plain": [
              "array([19945.22848013, 19945.22848013, 19945.22848013, 19945.22848013,\n",
              "       19945.22848013, 19945.22848013, 19945.22848013, 19945.22848013,\n",
              "       19945.22848013, 19945.22848013, 19945.22848013, 19945.22848013,\n",
              "       19945.22848013, 19945.22848013, 19945.22848013, 19945.22848013,\n",
              "       19945.22848013, 19945.22848013, 19945.22848013, 19945.22848013,\n",
              "       19945.22848013, 19945.22848013, 19945.22848013, 19945.22848013,\n",
              "       19945.22848013, 19945.22848013, 19945.22848013, 19945.22848013,\n",
              "       19945.22848013, 19945.22848013, 19945.22848013, 19945.22848013,\n",
              "       19945.22848013, 19945.22848013, 19945.22848013, 19945.22848013,\n",
              "       19945.22848013, 19945.22848013, 19945.22848013, 19945.22848013,\n",
              "       19945.22848013, 19945.22848013, 19945.22848013, 19945.22848013,\n",
              "       19945.22848013, 19945.22848013, 19945.22848013, 19945.22848013,\n",
              "       19945.22848013, 19945.22848013, 19672.11990203, 19672.11990203,\n",
              "       19672.11990203, 19672.11990203, 19672.11990203, 19672.11990203,\n",
              "       19672.11990203, 19672.11990203, 19672.11990203, 19672.11990203,\n",
              "       19672.11990203, 19672.11990203, 19672.11990203, 19672.11990203,\n",
              "       19672.11990203, 19672.11990203, 19672.11990203, 19672.11990203,\n",
              "       19672.11990203, 19672.11990203, 19672.11990203, 19672.11990203,\n",
              "       19672.11990203, 19672.11990203, 19672.11990203, 19672.11990203,\n",
              "       19672.11990203, 19672.11990203, 19672.11990203, 19672.11990203,\n",
              "       19672.11990203, 19672.11990203, 19672.11990203, 19672.11990203,\n",
              "       19672.11990203, 19672.11990203, 19672.11990203, 19672.11990203,\n",
              "       19672.11990203, 19672.11990203, 19672.11990203, 19672.11990203,\n",
              "       19672.11990203, 19672.11990203, 19672.11990203, 19672.11990203,\n",
              "       19672.11990203, 19672.11990203, 19672.11990203, 19672.11990203])"
            ]
          },
          "metadata": {},
          "execution_count": 6
        }
      ]
    },
    {
      "cell_type": "code",
      "source": [
        "# Cálculo de las bandas por medio de los quartiles 1 y 3 del remuestreo\n",
        "Q1 = np.quantile(phi_median,0.25)\n",
        "Q3 = np.quantile(phi_median,0.75)\n",
        "IQR = Q3 - Q1\n",
        "xL=Q1 - 1.5 * IQR\n",
        "xU=Q3 + 1.5 * IQR\n",
        "\n",
        "exist_outlier = False\n",
        "for i in range(len(datos)):\n",
        "  if phi_median[i] < xL  or phi_median[i]>xU:\n",
        "    print(f\" El dato {i} es una observación influyente para la media\")\n",
        "    exist_outlier = True\n",
        "\n",
        "if not exist_outlier:\n",
        "  print(\"No hay valores atípicos\")"
      ],
      "metadata": {
        "colab": {
          "base_uri": "https://localhost:8080/"
        },
        "id": "vrf2l4JioYcz",
        "outputId": "5ec64d0f-d250-49a7-cbfe-af6573ef703f"
      },
      "execution_count": 7,
      "outputs": [
        {
          "output_type": "stream",
          "name": "stdout",
          "text": [
            "No hay valores atípicos\n"
          ]
        }
      ]
    },
    {
      "cell_type": "markdown",
      "source": [
        "Al utilizar la mediana como medida para realizar el remuestreo por medio del método de Jackknife no se obtiene ningún valor atípico porque estos no son influyentes en su cálculo."
      ],
      "metadata": {
        "id": "ajaH5QJ0oyRi"
      }
    },
    {
      "cell_type": "markdown",
      "source": [
        "**2.   A partir del código de ejemplo utilizado en el notebook**\n",
        "\n",
        "Ejemplo_2_5_Escalamiento_de_datos_Sin soluciones.ipynb\n",
        "\n",
        "Url: https://colab.research.google.com/drive/1qXM980YsWtGr4TpQara1kbzp9C3lFBuO?usp=sharing\n",
        "\n",
        "**Responder a las siguientes preguntas:**\n",
        "\n",
        "**Considerar que la variable X toma los valores 1,2,3,4,5,6,7,8,9,10. Se pide:**"
      ],
      "metadata": {
        "id": "BCg7lS_YNU3Q"
      }
    },
    {
      "cell_type": "markdown",
      "source": [
        "**a)   ¿Cuánto vale la media, mediana, la desviación estándar muestral, la varianza muestral y el rango de la variable X?**"
      ],
      "metadata": {
        "id": "aPA7DOjpNcNV"
      }
    },
    {
      "cell_type": "code",
      "source": [
        "X = np.arange(1,11)\n",
        "\n",
        "print(\"Media =\", np.mean(X))\n",
        "print(\"Mediana =\", np.median(X))\n",
        "print(\"Desviación estándar =\", np.std(X))\n",
        "print(\"Varianza =\", np.var(X))\n",
        "print(\"Rango =\", np.max(X)-np.min(X))"
      ],
      "metadata": {
        "colab": {
          "base_uri": "https://localhost:8080/"
        },
        "id": "uGCi07YLPEtn",
        "outputId": "acc1672c-94bc-424b-8792-7bc84b245663"
      },
      "execution_count": 10,
      "outputs": [
        {
          "output_type": "stream",
          "name": "stdout",
          "text": [
            "Media = 5.5\n",
            "Mediana = 5.5\n",
            "Desviación estándar = 2.8722813232690143\n",
            "Varianza = 8.25\n",
            "Rango = 9\n"
          ]
        }
      ]
    },
    {
      "cell_type": "markdown",
      "source": [
        "**b)   Utilizar la función describe() de Panda, para obtener la media, desviación estándar, etc…**"
      ],
      "metadata": {
        "id": "osG1y2M3NcZ6"
      }
    },
    {
      "cell_type": "code",
      "source": [
        "X = pd.DataFrame(X, columns=['X'])\n",
        "X.describe()"
      ],
      "metadata": {
        "colab": {
          "base_uri": "https://localhost:8080/",
          "height": 300
        },
        "id": "GgCLklEuPFGf",
        "outputId": "ca8ed28f-8322-49fc-a1cb-3d15236530ba"
      },
      "execution_count": 55,
      "outputs": [
        {
          "output_type": "execute_result",
          "data": {
            "text/plain": [
              "              X\n",
              "count  10.00000\n",
              "mean    5.50000\n",
              "std     3.02765\n",
              "min     1.00000\n",
              "25%     3.25000\n",
              "50%     5.50000\n",
              "75%     7.75000\n",
              "max    10.00000"
            ],
            "text/html": [
              "\n",
              "  <div id=\"df-81f5176c-819a-4c29-8759-b6498d07fc29\" class=\"colab-df-container\">\n",
              "    <div>\n",
              "<style scoped>\n",
              "    .dataframe tbody tr th:only-of-type {\n",
              "        vertical-align: middle;\n",
              "    }\n",
              "\n",
              "    .dataframe tbody tr th {\n",
              "        vertical-align: top;\n",
              "    }\n",
              "\n",
              "    .dataframe thead th {\n",
              "        text-align: right;\n",
              "    }\n",
              "</style>\n",
              "<table border=\"1\" class=\"dataframe\">\n",
              "  <thead>\n",
              "    <tr style=\"text-align: right;\">\n",
              "      <th></th>\n",
              "      <th>X</th>\n",
              "    </tr>\n",
              "  </thead>\n",
              "  <tbody>\n",
              "    <tr>\n",
              "      <th>count</th>\n",
              "      <td>10.00000</td>\n",
              "    </tr>\n",
              "    <tr>\n",
              "      <th>mean</th>\n",
              "      <td>5.50000</td>\n",
              "    </tr>\n",
              "    <tr>\n",
              "      <th>std</th>\n",
              "      <td>3.02765</td>\n",
              "    </tr>\n",
              "    <tr>\n",
              "      <th>min</th>\n",
              "      <td>1.00000</td>\n",
              "    </tr>\n",
              "    <tr>\n",
              "      <th>25%</th>\n",
              "      <td>3.25000</td>\n",
              "    </tr>\n",
              "    <tr>\n",
              "      <th>50%</th>\n",
              "      <td>5.50000</td>\n",
              "    </tr>\n",
              "    <tr>\n",
              "      <th>75%</th>\n",
              "      <td>7.75000</td>\n",
              "    </tr>\n",
              "    <tr>\n",
              "      <th>max</th>\n",
              "      <td>10.00000</td>\n",
              "    </tr>\n",
              "  </tbody>\n",
              "</table>\n",
              "</div>\n",
              "    <div class=\"colab-df-buttons\">\n",
              "\n",
              "  <div class=\"colab-df-container\">\n",
              "    <button class=\"colab-df-convert\" onclick=\"convertToInteractive('df-81f5176c-819a-4c29-8759-b6498d07fc29')\"\n",
              "            title=\"Convert this dataframe to an interactive table.\"\n",
              "            style=\"display:none;\">\n",
              "\n",
              "  <svg xmlns=\"http://www.w3.org/2000/svg\" height=\"24px\" viewBox=\"0 -960 960 960\">\n",
              "    <path d=\"M120-120v-720h720v720H120Zm60-500h600v-160H180v160Zm220 220h160v-160H400v160Zm0 220h160v-160H400v160ZM180-400h160v-160H180v160Zm440 0h160v-160H620v160ZM180-180h160v-160H180v160Zm440 0h160v-160H620v160Z\"/>\n",
              "  </svg>\n",
              "    </button>\n",
              "\n",
              "  <style>\n",
              "    .colab-df-container {\n",
              "      display:flex;\n",
              "      gap: 12px;\n",
              "    }\n",
              "\n",
              "    .colab-df-convert {\n",
              "      background-color: #E8F0FE;\n",
              "      border: none;\n",
              "      border-radius: 50%;\n",
              "      cursor: pointer;\n",
              "      display: none;\n",
              "      fill: #1967D2;\n",
              "      height: 32px;\n",
              "      padding: 0 0 0 0;\n",
              "      width: 32px;\n",
              "    }\n",
              "\n",
              "    .colab-df-convert:hover {\n",
              "      background-color: #E2EBFA;\n",
              "      box-shadow: 0px 1px 2px rgba(60, 64, 67, 0.3), 0px 1px 3px 1px rgba(60, 64, 67, 0.15);\n",
              "      fill: #174EA6;\n",
              "    }\n",
              "\n",
              "    .colab-df-buttons div {\n",
              "      margin-bottom: 4px;\n",
              "    }\n",
              "\n",
              "    [theme=dark] .colab-df-convert {\n",
              "      background-color: #3B4455;\n",
              "      fill: #D2E3FC;\n",
              "    }\n",
              "\n",
              "    [theme=dark] .colab-df-convert:hover {\n",
              "      background-color: #434B5C;\n",
              "      box-shadow: 0px 1px 3px 1px rgba(0, 0, 0, 0.15);\n",
              "      filter: drop-shadow(0px 1px 2px rgba(0, 0, 0, 0.3));\n",
              "      fill: #FFFFFF;\n",
              "    }\n",
              "  </style>\n",
              "\n",
              "    <script>\n",
              "      const buttonEl =\n",
              "        document.querySelector('#df-81f5176c-819a-4c29-8759-b6498d07fc29 button.colab-df-convert');\n",
              "      buttonEl.style.display =\n",
              "        google.colab.kernel.accessAllowed ? 'block' : 'none';\n",
              "\n",
              "      async function convertToInteractive(key) {\n",
              "        const element = document.querySelector('#df-81f5176c-819a-4c29-8759-b6498d07fc29');\n",
              "        const dataTable =\n",
              "          await google.colab.kernel.invokeFunction('convertToInteractive',\n",
              "                                                    [key], {});\n",
              "        if (!dataTable) return;\n",
              "\n",
              "        const docLinkHtml = 'Like what you see? Visit the ' +\n",
              "          '<a target=\"_blank\" href=https://colab.research.google.com/notebooks/data_table.ipynb>data table notebook</a>'\n",
              "          + ' to learn more about interactive tables.';\n",
              "        element.innerHTML = '';\n",
              "        dataTable['output_type'] = 'display_data';\n",
              "        await google.colab.output.renderOutput(dataTable, element);\n",
              "        const docLink = document.createElement('div');\n",
              "        docLink.innerHTML = docLinkHtml;\n",
              "        element.appendChild(docLink);\n",
              "      }\n",
              "    </script>\n",
              "  </div>\n",
              "\n",
              "\n",
              "<div id=\"df-9bd26af3-c850-408f-b42c-09370ffe215e\">\n",
              "  <button class=\"colab-df-quickchart\" onclick=\"quickchart('df-9bd26af3-c850-408f-b42c-09370ffe215e')\"\n",
              "            title=\"Suggest charts\"\n",
              "            style=\"display:none;\">\n",
              "\n",
              "<svg xmlns=\"http://www.w3.org/2000/svg\" height=\"24px\"viewBox=\"0 0 24 24\"\n",
              "     width=\"24px\">\n",
              "    <g>\n",
              "        <path d=\"M19 3H5c-1.1 0-2 .9-2 2v14c0 1.1.9 2 2 2h14c1.1 0 2-.9 2-2V5c0-1.1-.9-2-2-2zM9 17H7v-7h2v7zm4 0h-2V7h2v10zm4 0h-2v-4h2v4z\"/>\n",
              "    </g>\n",
              "</svg>\n",
              "  </button>\n",
              "\n",
              "<style>\n",
              "  .colab-df-quickchart {\n",
              "      --bg-color: #E8F0FE;\n",
              "      --fill-color: #1967D2;\n",
              "      --hover-bg-color: #E2EBFA;\n",
              "      --hover-fill-color: #174EA6;\n",
              "      --disabled-fill-color: #AAA;\n",
              "      --disabled-bg-color: #DDD;\n",
              "  }\n",
              "\n",
              "  [theme=dark] .colab-df-quickchart {\n",
              "      --bg-color: #3B4455;\n",
              "      --fill-color: #D2E3FC;\n",
              "      --hover-bg-color: #434B5C;\n",
              "      --hover-fill-color: #FFFFFF;\n",
              "      --disabled-bg-color: #3B4455;\n",
              "      --disabled-fill-color: #666;\n",
              "  }\n",
              "\n",
              "  .colab-df-quickchart {\n",
              "    background-color: var(--bg-color);\n",
              "    border: none;\n",
              "    border-radius: 50%;\n",
              "    cursor: pointer;\n",
              "    display: none;\n",
              "    fill: var(--fill-color);\n",
              "    height: 32px;\n",
              "    padding: 0;\n",
              "    width: 32px;\n",
              "  }\n",
              "\n",
              "  .colab-df-quickchart:hover {\n",
              "    background-color: var(--hover-bg-color);\n",
              "    box-shadow: 0 1px 2px rgba(60, 64, 67, 0.3), 0 1px 3px 1px rgba(60, 64, 67, 0.15);\n",
              "    fill: var(--button-hover-fill-color);\n",
              "  }\n",
              "\n",
              "  .colab-df-quickchart-complete:disabled,\n",
              "  .colab-df-quickchart-complete:disabled:hover {\n",
              "    background-color: var(--disabled-bg-color);\n",
              "    fill: var(--disabled-fill-color);\n",
              "    box-shadow: none;\n",
              "  }\n",
              "\n",
              "  .colab-df-spinner {\n",
              "    border: 2px solid var(--fill-color);\n",
              "    border-color: transparent;\n",
              "    border-bottom-color: var(--fill-color);\n",
              "    animation:\n",
              "      spin 1s steps(1) infinite;\n",
              "  }\n",
              "\n",
              "  @keyframes spin {\n",
              "    0% {\n",
              "      border-color: transparent;\n",
              "      border-bottom-color: var(--fill-color);\n",
              "      border-left-color: var(--fill-color);\n",
              "    }\n",
              "    20% {\n",
              "      border-color: transparent;\n",
              "      border-left-color: var(--fill-color);\n",
              "      border-top-color: var(--fill-color);\n",
              "    }\n",
              "    30% {\n",
              "      border-color: transparent;\n",
              "      border-left-color: var(--fill-color);\n",
              "      border-top-color: var(--fill-color);\n",
              "      border-right-color: var(--fill-color);\n",
              "    }\n",
              "    40% {\n",
              "      border-color: transparent;\n",
              "      border-right-color: var(--fill-color);\n",
              "      border-top-color: var(--fill-color);\n",
              "    }\n",
              "    60% {\n",
              "      border-color: transparent;\n",
              "      border-right-color: var(--fill-color);\n",
              "    }\n",
              "    80% {\n",
              "      border-color: transparent;\n",
              "      border-right-color: var(--fill-color);\n",
              "      border-bottom-color: var(--fill-color);\n",
              "    }\n",
              "    90% {\n",
              "      border-color: transparent;\n",
              "      border-bottom-color: var(--fill-color);\n",
              "    }\n",
              "  }\n",
              "</style>\n",
              "\n",
              "  <script>\n",
              "    async function quickchart(key) {\n",
              "      const quickchartButtonEl =\n",
              "        document.querySelector('#' + key + ' button');\n",
              "      quickchartButtonEl.disabled = true;  // To prevent multiple clicks.\n",
              "      quickchartButtonEl.classList.add('colab-df-spinner');\n",
              "      try {\n",
              "        const charts = await google.colab.kernel.invokeFunction(\n",
              "            'suggestCharts', [key], {});\n",
              "      } catch (error) {\n",
              "        console.error('Error during call to suggestCharts:', error);\n",
              "      }\n",
              "      quickchartButtonEl.classList.remove('colab-df-spinner');\n",
              "      quickchartButtonEl.classList.add('colab-df-quickchart-complete');\n",
              "    }\n",
              "    (() => {\n",
              "      let quickchartButtonEl =\n",
              "        document.querySelector('#df-9bd26af3-c850-408f-b42c-09370ffe215e button');\n",
              "      quickchartButtonEl.style.display =\n",
              "        google.colab.kernel.accessAllowed ? 'block' : 'none';\n",
              "    })();\n",
              "  </script>\n",
              "</div>\n",
              "    </div>\n",
              "  </div>\n"
            ]
          },
          "metadata": {},
          "execution_count": 55
        }
      ]
    },
    {
      "cell_type": "markdown",
      "source": [
        "**c)   ¿Por qué el resultado de calcular la desviación estándar con Numpy es diferente a la calculada por describe de Panda? ¿Qué ajuste sería necesario realizar para que los resultados fuesen similares/iguales?**"
      ],
      "metadata": {
        "id": "4liZyxRcNchi"
      }
    },
    {
      "cell_type": "markdown",
      "source": [
        "La razón es porque ambas utilizan distintos grados de libertad para su cálculo.\n",
        "\n",
        "Numpy calcula por defecto la desviacion estandar de la muestra s sin grados de libertad, de la forma:\n",
        "\n",
        "$$ s = \\sqrt{\\frac{\\sum_{i=1}^{n} (\\overline{x}-x_{i})}{n}} $$\n",
        "\n",
        "Pandas estima la desviación estándar poblacional de la muestra con un grado de libertad 1, de la forma:\n",
        "\n",
        "$$ \\sigma = \\sqrt{\\frac{\\sum_{i=1}^{n} (\\overline{x}-x_{i})}{n-1}} $$\n",
        "\n",
        "\n",
        "Por lo que su relación es\n",
        "\n",
        "$$ \\sigma^2 = s^2 \\frac {n}{n-1} \\hspace{1mm};\\hspace{5mm}  \\sigma = s \\sqrt{\\frac {n}{n-1}} $$"
      ],
      "metadata": {
        "id": "ZVvij4XQ39Gk"
      }
    },
    {
      "cell_type": "code",
      "source": [
        "#Comprabación de calcular la desviación a partir de la relación explicada\n",
        "print(\"Ajuste de desviación ajustada con ecuación:\", np.std(X) * np.sqrt(len(X)/(len(X)-1)))\n",
        "\n",
        "#Calculo de la desviación con grado de libertad 1\n",
        "print(\"Ajuste de desviación estándar con parámetro =\", np.std(X, ddof=1))"
      ],
      "metadata": {
        "id": "1AxlNYgtPFon",
        "colab": {
          "base_uri": "https://localhost:8080/"
        },
        "outputId": "ef0636fa-ec2f-4ef8-918d-a480d6299411"
      },
      "execution_count": 35,
      "outputs": [
        {
          "output_type": "stream",
          "name": "stdout",
          "text": [
            "Ajuste de desviación ajustada con ecuación: 0    3.02765\n",
            "dtype: float64\n",
            "Ajuste de desviación estándar con parámetro = 0    3.02765\n",
            "dtype: float64\n"
          ]
        }
      ]
    },
    {
      "cell_type": "markdown",
      "source": [
        "**d)   Estandarizar la variable (escalamiento) mediante rangos y a continuación calcular la media y la mediana de la variable escalada.**"
      ],
      "metadata": {
        "id": "H3MsUooENcmq"
      }
    },
    {
      "cell_type": "code",
      "source": [
        "# MinMaxScaler - Definimos el tipo de escalamiento a realizar: Estandarización por rangos\n",
        "preprocessor_RR = ColumnTransformer(\n",
        "                   [('scale', MinMaxScaler(), ['X'])],remainder='passthrough')\n",
        "\n",
        "Data_prep_RR = preprocessor_RR.fit_transform(X)\n",
        "\n",
        "# Cálculo de la media y la mediana antes de introducir un valor atípico\n",
        "print(Data_prep_RR)\n",
        "print(\"Media =\", np.mean(Data_prep_RR))\n",
        "print(\"Mediana =\", np.median(Data_prep_RR))"
      ],
      "metadata": {
        "id": "UqZsfK28PGB_",
        "colab": {
          "base_uri": "https://localhost:8080/"
        },
        "outputId": "fcc6c039-764e-41ba-9afb-916a5b29d21a"
      },
      "execution_count": 59,
      "outputs": [
        {
          "output_type": "stream",
          "name": "stdout",
          "text": [
            "[[0.        ]\n",
            " [0.11111111]\n",
            " [0.22222222]\n",
            " [0.33333333]\n",
            " [0.44444444]\n",
            " [0.55555556]\n",
            " [0.66666667]\n",
            " [0.77777778]\n",
            " [0.88888889]\n",
            " [1.        ]]\n",
            "Media = 0.5\n",
            "Mediana = 0.5\n"
          ]
        }
      ]
    },
    {
      "cell_type": "markdown",
      "source": [
        "**e)   Repetir el apartado anterior con el escalamiento Z - score**"
      ],
      "metadata": {
        "id": "GnVdHZmdNcuq"
      }
    },
    {
      "cell_type": "code",
      "source": [
        "# Standard scaler - Definimos el tipo de escalamientoa realizar: estandarización Z-score\n",
        "preprocessor_SS = ColumnTransformer(\n",
        "                   [('scale', StandardScaler(), ['X'])],remainder='passthrough')\n",
        "\n",
        "Data_prep_SS = preprocessor_SS.fit_transform(X)\n",
        "\n",
        "# Cálculo de la media y la mediana antes de introducir un valor atípico\n",
        "print(Data_prep_SS)\n",
        "print(\"Media =\", np.mean(Data_prep_SS))\n",
        "print(\"Mediana =\", np.median(Data_prep_SS))"
      ],
      "metadata": {
        "id": "zopxXGZfPGc_",
        "colab": {
          "base_uri": "https://localhost:8080/"
        },
        "outputId": "551a0e48-a14a-48ef-a9e4-f735e6778b8d"
      },
      "execution_count": 60,
      "outputs": [
        {
          "output_type": "stream",
          "name": "stdout",
          "text": [
            "[[-1.5666989 ]\n",
            " [-1.21854359]\n",
            " [-0.87038828]\n",
            " [-0.52223297]\n",
            " [-0.17407766]\n",
            " [ 0.17407766]\n",
            " [ 0.52223297]\n",
            " [ 0.87038828]\n",
            " [ 1.21854359]\n",
            " [ 1.5666989 ]]\n",
            "Media = -6.661338147750939e-17\n",
            "Mediana = 0.0\n"
          ]
        }
      ]
    }
  ]
}