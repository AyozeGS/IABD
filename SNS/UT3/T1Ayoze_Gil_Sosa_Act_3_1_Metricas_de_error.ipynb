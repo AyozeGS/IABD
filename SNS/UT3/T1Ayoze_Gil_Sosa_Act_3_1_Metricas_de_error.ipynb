{
  "nbformat": 4,
  "nbformat_minor": 0,
  "metadata": {
    "colab": {
      "provenance": [],
      "include_colab_link": true
    },
    "kernelspec": {
      "name": "python3",
      "display_name": "Python 3"
    },
    "language_info": {
      "name": "python"
    }
  },
  "cells": [
    {
      "cell_type": "markdown",
      "metadata": {
        "id": "view-in-github",
        "colab_type": "text"
      },
      "source": [
        "<a href=\"https://colab.research.google.com/github/AyozeGS/IABD/blob/main/SNS/UT3/T1Ayoze_Gil_Sosa_Act_3_1_Metricas_de_error.ipynb\" target=\"_parent\"><img src=\"https://colab.research.google.com/assets/colab-badge.svg\" alt=\"Open In Colab\"/></a>"
      ]
    },
    {
      "cell_type": "markdown",
      "source": [
        "# Ayoze Gil Sosa"
      ],
      "metadata": {
        "id": "JYqrbRSEjUSX"
      }
    },
    {
      "cell_type": "markdown",
      "source": [
        "23_24\n",
        "\n",
        "**Actividad 3.1 - Métricas de error para los problemas de regresión**\n",
        "\n",
        "**A partir de los ejemplos indicados realizar los ejercicios propuestos**"
      ],
      "metadata": {
        "id": "irnc2RYVuYVU"
      }
    },
    {
      "cell_type": "markdown",
      "source": [
        "## **Ejercicio 1**"
      ],
      "metadata": {
        "id": "H-eGFnYgvnjI"
      }
    },
    {
      "cell_type": "markdown",
      "source": [
        "$$ MAE = \\frac{1}{N} \\sum_{i=1}^{N} |y_i - \\hat{y}_i| $$"
      ],
      "metadata": {
        "id": "1WFpWlzX2fY-"
      }
    },
    {
      "cell_type": "code",
      "execution_count": 1,
      "metadata": {
        "colab": {
          "base_uri": "https://localhost:8080/"
        },
        "id": "jVLFdfzxdsfG",
        "outputId": "8e5c4751-01e3-4072-ddc4-2aa3507b35a7"
      },
      "outputs": [
        {
          "output_type": "execute_result",
          "data": {
            "text/plain": [
              "0.5"
            ]
          },
          "metadata": {},
          "execution_count": 1
        }
      ],
      "source": [
        "#Error absoluto medio - mae\n",
        "from sklearn.metrics import mean_absolute_error\n",
        "# Ejemplo 1\n",
        "y_true = [3, -0.5, 2, 7]\n",
        "y_pred = [2.5, 0, 2, 8]\n",
        "mean_absolute_error(y_true, y_pred)\n"
      ]
    },
    {
      "cell_type": "code",
      "source": [
        "# Ejer 1: Crear dos vectores/arrays de valores ciertos y valores previstos, y calcular el mae.\n",
        "# ¿Qué valores deberían de tener el array pred para que el error fuese 0? ¿y para que error fuese de 0.25?"
      ],
      "metadata": {
        "id": "67XK1bXegMai"
      },
      "execution_count": 2,
      "outputs": []
    },
    {
      "cell_type": "markdown",
      "source": [
        "Para que el error sea 0, los valores de ambos vectores deberían ser los mismos."
      ],
      "metadata": {
        "id": "7nE9KhtytGqJ"
      }
    },
    {
      "cell_type": "code",
      "source": [
        "y_true = [10, 20, 30, 40]\n",
        "y_pred = [10, 20, 30, 40]\n",
        "print(\"MAE:\", mean_absolute_error(y_true, y_pred))"
      ],
      "metadata": {
        "colab": {
          "base_uri": "https://localhost:8080/"
        },
        "id": "bOwojYCItHbp",
        "outputId": "a5fad4f0-c412-4171-9596-c6ce861a7059"
      },
      "execution_count": 3,
      "outputs": [
        {
          "output_type": "stream",
          "name": "stdout",
          "text": [
            "MAE: 0.0\n"
          ]
        }
      ]
    },
    {
      "cell_type": "markdown",
      "source": [
        "Para que el error sea 0.25, la diferencia media entre cada par de valores de ambos vectores definidos por el mismo índice debe ser 0.25.\n",
        "\n",
        "El vector de ejemplo tiene longitud 4, por lo que si multiplicamos 0.25 por dicha longitud tenemos que la suma de todas las diferencias absolutas (es decir, eliminando el signo) debe ser igual a 1."
      ],
      "metadata": {
        "id": "QHimgCu3tHn5"
      }
    },
    {
      "cell_type": "code",
      "source": [
        "y_true = [10, 20, 30, 40]\n",
        "y_pred = [10, 20, 30, 41]\n",
        "print(\"MAE:\", mean_absolute_error(y_true, y_pred))"
      ],
      "metadata": {
        "colab": {
          "base_uri": "https://localhost:8080/"
        },
        "id": "-4gkQwOutH1v",
        "outputId": "59a5a610-2f4f-44ad-f1fb-ec0a4f462d50"
      },
      "execution_count": 4,
      "outputs": [
        {
          "output_type": "stream",
          "name": "stdout",
          "text": [
            "MAE: 0.25\n"
          ]
        }
      ]
    },
    {
      "cell_type": "markdown",
      "source": [
        "## **Ejercicio 2**"
      ],
      "metadata": {
        "id": "v4wZXdwRvwz0"
      }
    },
    {
      "cell_type": "code",
      "source": [
        "# Ejemplo 2\n",
        "y_true = [[0.5, 1], [-1, 1], [7, -6]]\n",
        "y_pred = [[0, 2], [-1, 2], [8, -5]]\n",
        "mean_absolute_error(y_true, y_pred)"
      ],
      "metadata": {
        "id": "3LhzsD30f60T",
        "colab": {
          "base_uri": "https://localhost:8080/"
        },
        "outputId": "0487e274-edce-4995-a087-364c0ad8c5e7"
      },
      "execution_count": 5,
      "outputs": [
        {
          "output_type": "execute_result",
          "data": {
            "text/plain": [
              "0.75"
            ]
          },
          "metadata": {},
          "execution_count": 5
        }
      ]
    },
    {
      "cell_type": "code",
      "source": [
        "# Ejer 2: Crear dos matrices/arrays de valores ciertos y valores previstos, y calcular el mae.\n",
        "# ¿Qué valores deberían de tener el array pred para que el error fuese 0? ¿y para que error fuese de 0.33?"
      ],
      "metadata": {
        "id": "LnPx6A4Astfq"
      },
      "execution_count": 6,
      "outputs": []
    },
    {
      "cell_type": "markdown",
      "source": [
        "Para que el error sea 0, los valores de ambas matrices deberían ser los mismos."
      ],
      "metadata": {
        "id": "IusCoIK3ubcJ"
      }
    },
    {
      "cell_type": "code",
      "source": [
        "y_true = [[10, 20], [30, 40], [50, 60]]\n",
        "y_pred = [[10, 20], [30, 40], [50, 60]]\n",
        "print(\"MAE:\", mean_absolute_error(y_true, y_pred))"
      ],
      "metadata": {
        "colab": {
          "base_uri": "https://localhost:8080/"
        },
        "outputId": "93bc03f6-4a5e-49f5-b4e8-421c0ccd1d1d",
        "id": "KpyJkVdywt7d"
      },
      "execution_count": 7,
      "outputs": [
        {
          "output_type": "stream",
          "name": "stdout",
          "text": [
            "MAE: 0.0\n"
          ]
        }
      ]
    },
    {
      "cell_type": "markdown",
      "source": [
        "Para que el error sea 0.33, la diferencia media entre cada par de valores de ambas matrices definidas por los mismos índices de fila y columna debe ser 0.33.\n",
        "La matriz de ejemplo tiene dimensión 2x3 y por tanto 6 elementos.\n",
        "\n",
        "Si multiplicamos 0.33 por dicha longitud tenemos que la suma de todas las diferencias absolutas (es decir, eliminando el signo) debe ser igual a 2.\n"
      ],
      "metadata": {
        "id": "Vv0QJ6_Qubqf"
      }
    },
    {
      "cell_type": "code",
      "source": [
        "y_true = [[10, 20], [30, 40], [50, 60]]\n",
        "y_pred = [[10, 20], [30, 40], [50, 62]]\n",
        "print(\"MAE:\", mean_absolute_error(y_true, y_pred))"
      ],
      "metadata": {
        "colab": {
          "base_uri": "https://localhost:8080/"
        },
        "id": "fazu-4kpubjA",
        "outputId": "2c8810e3-e52f-44ca-e1f7-70223ade5621"
      },
      "execution_count": 8,
      "outputs": [
        {
          "output_type": "stream",
          "name": "stdout",
          "text": [
            "MAE: 0.3333333333333333\n"
          ]
        }
      ]
    },
    {
      "cell_type": "code",
      "source": [
        "y_true = [[10, 20], [30, 40], [50, 60]]\n",
        "y_pred = [[10.33, 20.33], [30.33, 39.66], [50.33, 59.66]]\n",
        "print(\"MAE:\", mean_absolute_error(y_true, y_pred))"
      ],
      "metadata": {
        "colab": {
          "base_uri": "https://localhost:8080/"
        },
        "id": "44T4RHn_qt2b",
        "outputId": "d3ff6d68-4435-4c10-ddd2-4ac5e2c7a1df"
      },
      "execution_count": 9,
      "outputs": [
        {
          "output_type": "stream",
          "name": "stdout",
          "text": [
            "MAE: 0.33333333333333365\n"
          ]
        }
      ]
    },
    {
      "cell_type": "code",
      "source": [
        "y_true = [[10, 20], [30, 40], [50, 60]]\n",
        "y_pred = [[11, 20], [30, 40.33], [50.33, 59.66]]\n",
        "print(\"MAE:\", mean_absolute_error(y_true, y_pred))"
      ],
      "metadata": {
        "colab": {
          "base_uri": "https://localhost:8080/"
        },
        "id": "2cvJREuyrKv6",
        "outputId": "5ae51d7a-2172-4534-e52c-b977db9984d8"
      },
      "execution_count": 10,
      "outputs": [
        {
          "output_type": "stream",
          "name": "stdout",
          "text": [
            "MAE: 0.3333333333333333\n"
          ]
        }
      ]
    },
    {
      "cell_type": "markdown",
      "source": [
        "## **Ejercicio 3**"
      ],
      "metadata": {
        "id": "AJh4eDe2vz5c"
      }
    },
    {
      "cell_type": "markdown",
      "source": [
        "$$ MSE = \\frac{1}{N} \\sum_{i=1}^{N} (y_i - \\hat{y}_i)^2  $$"
      ],
      "metadata": {
        "id": "Dz0tL_iN3Ku2"
      }
    },
    {
      "cell_type": "code",
      "source": [
        "# Error cuadrático medio - mse\n",
        "from sklearn.metrics import mean_squared_error\n",
        "y_true = [3, -0.5, 2, 7]\n",
        "y_pred = [2.5, 0.0, 2, 8]\n",
        "mean_squared_error(y_true, y_pred)"
      ],
      "metadata": {
        "colab": {
          "base_uri": "https://localhost:8080/"
        },
        "id": "59efr-GWgKP6",
        "outputId": "329efb28-bfbf-46f4-f21a-0ff61aeab62f"
      },
      "execution_count": 11,
      "outputs": [
        {
          "output_type": "execute_result",
          "data": {
            "text/plain": [
              "0.375"
            ]
          },
          "metadata": {},
          "execution_count": 11
        }
      ]
    },
    {
      "cell_type": "code",
      "source": [
        "# Ejer 3: Crear dos vectores/arrays de valores ciertos y valores previstos, y calcular el mse.\n",
        "# ¿Qué valores deberían de tener el array pred para que el error fuese 0? ¿y para que error fuese de 0.25?\n",
        "# Nota: Es muy interesante comparar los resultados al aplicar mae y mse sobre el mismo conjunto de datos. Podrás observar\n",
        "# que mse \"penaliza más\" (es decir, el número que se obtiene es mayor) con las diferencias entre los valores originales y los predichos que mae\n"
      ],
      "metadata": {
        "id": "FLZt6j17u7sE"
      },
      "execution_count": 12,
      "outputs": []
    },
    {
      "cell_type": "markdown",
      "source": [
        "Para que el error sea 0, los valores de ambos vectores deberían ser los mismos."
      ],
      "metadata": {
        "id": "qy7uHBAuxtab"
      }
    },
    {
      "cell_type": "code",
      "source": [
        "y_true = [10, 20, 30, 40]\n",
        "y_pred = [10, 20, 30, 40]\n",
        "print(\"MSE:\", mean_squared_error(y_true, y_pred))"
      ],
      "metadata": {
        "colab": {
          "base_uri": "https://localhost:8080/"
        },
        "id": "5NtcpmYLxpGP",
        "outputId": "a80556b3-e210-4b2a-f87a-3683a3bca0c0"
      },
      "execution_count": 13,
      "outputs": [
        {
          "output_type": "stream",
          "name": "stdout",
          "text": [
            "MSE: 0.0\n"
          ]
        }
      ]
    },
    {
      "cell_type": "markdown",
      "source": [
        "Para que el error sea 0.25, el cuadrado de cada diferencia entre los pares de valores de ambos vectores definidos por el mismo índice debe ser de media la raíz de dicho valor. En este caso 0.5, cuyo cuadrado corresponde a 0.25.\n",
        "\n",
        "El vector de ejemplo tiene longitud 4, por lo que si multiplicamos 0.25 por dicha longitud tenemos que la suma de cada diferencia al cuadrado (el cuadrado elimina el signo en caso de ser negativo) debe ser igual a 1.\n"
      ],
      "metadata": {
        "id": "wpraOndwz2CP"
      }
    },
    {
      "cell_type": "code",
      "source": [
        "y_true = [10, 20, 30, 40]\n",
        "y_pred = [10, 20, 30, 41]\n",
        "print(\"MSE:\", mean_squared_error(y_true, y_pred))"
      ],
      "metadata": {
        "colab": {
          "base_uri": "https://localhost:8080/"
        },
        "id": "Tubp_nDVz2I3",
        "outputId": "dd73ac11-976a-4ee8-c314-48282bcebaf6"
      },
      "execution_count": 14,
      "outputs": [
        {
          "output_type": "stream",
          "name": "stdout",
          "text": [
            "MSE: 0.25\n"
          ]
        }
      ]
    },
    {
      "cell_type": "code",
      "source": [
        "y_true = [10, 20, 30, 40]\n",
        "y_pred = [10.5, 20.5, 29.5, 40.5]\n",
        "print(\"MSE:\", mean_squared_error(y_true, y_pred))"
      ],
      "metadata": {
        "colab": {
          "base_uri": "https://localhost:8080/"
        },
        "id": "xwWz8d-t1UJn",
        "outputId": "9c74fb00-502c-4fdb-df49-3debf109c748"
      },
      "execution_count": 15,
      "outputs": [
        {
          "output_type": "stream",
          "name": "stdout",
          "text": [
            "MSE: 0.25\n"
          ]
        }
      ]
    },
    {
      "cell_type": "code",
      "source": [
        "y_true = [10, 20, 30, 40]\n",
        "y_pred = [10, 20, 29.2, 40.6]\n",
        "print(\"MSE:\", mean_squared_error(y_true, y_pred))"
      ],
      "metadata": {
        "colab": {
          "base_uri": "https://localhost:8080/"
        },
        "id": "r8QEwx_l4o3G",
        "outputId": "c6019581-ffed-434c-c071-d65b8cd364c8"
      },
      "execution_count": 16,
      "outputs": [
        {
          "output_type": "stream",
          "name": "stdout",
          "text": [
            "MSE: 0.2500000000000007\n"
          ]
        }
      ]
    },
    {
      "cell_type": "code",
      "source": [
        "y_true = [10, 20, 30, 40]\n",
        "y_pred = [10.7, 20.5, 30.5, 39.9]\n",
        "print(\"MSE:\", mean_squared_error(y_true, y_pred))"
      ],
      "metadata": {
        "colab": {
          "base_uri": "https://localhost:8080/"
        },
        "id": "WHLa7Z2y_HJ8",
        "outputId": "28be4b24-1687-4077-b689-2417f0795d4c"
      },
      "execution_count": 17,
      "outputs": [
        {
          "output_type": "stream",
          "name": "stdout",
          "text": [
            "MSE: 0.2499999999999998\n"
          ]
        }
      ]
    },
    {
      "cell_type": "markdown",
      "source": [
        "## **Ejercicio 4**"
      ],
      "metadata": {
        "id": "QazP5v2hv0ql"
      }
    },
    {
      "cell_type": "code",
      "source": [
        "# Ejer 4: Crear dos matrices/arrays de valores ciertos y valores previstos, y calcular el mae.\n",
        "# ¿Qué valores deberían de tener el array pred para que el error fuese 0? ¿y para que error fuese de 0.33?"
      ],
      "metadata": {
        "id": "M9nZd4nLvIRB"
      },
      "execution_count": 18,
      "outputs": []
    },
    {
      "cell_type": "markdown",
      "source": [
        "Para que el error sea 0, los valores de ambas matrices deberían ser los mismos."
      ],
      "metadata": {
        "id": "F0RY7gO_xcZ8"
      }
    },
    {
      "cell_type": "code",
      "source": [
        "y_true = [[10, 20], [30, 40], [50, 60]]\n",
        "y_pred = [[10, 20], [30, 40], [50, 60]]\n",
        "print(\"MSE:\", mean_squared_error(y_true, y_pred))"
      ],
      "metadata": {
        "colab": {
          "base_uri": "https://localhost:8080/"
        },
        "id": "rReqgxbYxoE_",
        "outputId": "d5779bcc-aa5c-46fa-f948-f8e3338c217e"
      },
      "execution_count": 19,
      "outputs": [
        {
          "output_type": "stream",
          "name": "stdout",
          "text": [
            "MSE: 0.0\n"
          ]
        }
      ]
    },
    {
      "cell_type": "markdown",
      "source": [
        "Para que el error sea 0.33 el cuadrado de cada diferencia entre los pares de valores de ambas matrices definidas por los mismos índices de fila y columna debe ser de media la raíz de dicho valor, 0.577….\n",
        "\n",
        "La matriz de ejemplo tiene dimensión 2x3 y por tanto 6 elementos. Si multiplicamos 0.33 por dicha longitud tenemos que la suma de cada diferencia al cuadrado (el cuadrado elimina el signo en caso de ser negativo) debe ser igual a 2."
      ],
      "metadata": {
        "id": "Wt39nyg8r4-z"
      }
    },
    {
      "cell_type": "code",
      "source": [
        "y_true = [[10, 20], [30, 40], [50, 60]]\n",
        "y_pred = [[10, 20], [30, 40], [51, 61]]\n",
        "print(\"MSE:\", mean_squared_error(y_true, y_pred))"
      ],
      "metadata": {
        "colab": {
          "base_uri": "https://localhost:8080/"
        },
        "id": "RjdtCew6r5Ha",
        "outputId": "05afd21d-03b3-440d-a21f-e10b3a01c66c"
      },
      "execution_count": 20,
      "outputs": [
        {
          "output_type": "stream",
          "name": "stdout",
          "text": [
            "MSE: 0.3333333333333333\n"
          ]
        }
      ]
    },
    {
      "cell_type": "code",
      "source": [
        "y_true = [[10, 20], [30, 40], [50, 60]]\n",
        "y_pred = [[10, 19.4], [30, 40.8], [49, 60]]\n",
        "print(\"MSE:\", mean_squared_error(y_true, y_pred))"
      ],
      "metadata": {
        "colab": {
          "base_uri": "https://localhost:8080/"
        },
        "id": "HuXo-h7uxhmp",
        "outputId": "46e53677-3fce-40ea-bc0f-8eb6a983b58d"
      },
      "execution_count": 21,
      "outputs": [
        {
          "output_type": "stream",
          "name": "stdout",
          "text": [
            "MSE: 0.3333333333333328\n"
          ]
        }
      ]
    },
    {
      "cell_type": "code",
      "source": [
        "y_true = [[10, 20], [30, 40], [50, 60]]\n",
        "y_pred = [[10.1, 20.1], [30.5, 39.7], [50.8, 59]]\n",
        "print(\"MSE:\", mean_squared_error(y_true, y_pred))"
      ],
      "metadata": {
        "colab": {
          "base_uri": "https://localhost:8080/"
        },
        "id": "-dsJGtHdxiMg",
        "outputId": "d1353af7-1ac8-4b91-ccbf-dcb1c20218f3"
      },
      "execution_count": 22,
      "outputs": [
        {
          "output_type": "stream",
          "name": "stdout",
          "text": [
            "MSE: 0.33333333333333237\n"
          ]
        }
      ]
    },
    {
      "cell_type": "markdown",
      "source": [
        "## **Ejercicio 5**"
      ],
      "metadata": {
        "id": "FINnsan2v1LB"
      }
    },
    {
      "cell_type": "markdown",
      "source": [
        "$$ MAPE = \\frac{100\\%}{N} \\sum_{i=1}^{N} \\frac{|y_i - \\hat{y}_i|}{|y_i|}  $$\n"
      ],
      "metadata": {
        "id": "WQ4xTFhp3RXV"
      }
    },
    {
      "cell_type": "code",
      "source": [
        "# Error de porcentaje absoluto medio - mape\n",
        "from sklearn.metrics import mean_absolute_percentage_error\n",
        "y_true = [3, -0.5, 2, 7]\n",
        "y_pred = [2.5, 0.0, 2, 8]\n",
        "mean_absolute_percentage_error(y_true, y_pred)"
      ],
      "metadata": {
        "colab": {
          "base_uri": "https://localhost:8080/"
        },
        "id": "0j3DDJPnBTmF",
        "outputId": "5f020351-1209-4a05-e885-6836057516fe"
      },
      "execution_count": 23,
      "outputs": [
        {
          "output_type": "execute_result",
          "data": {
            "text/plain": [
              "0.3273809523809524"
            ]
          },
          "metadata": {},
          "execution_count": 23
        }
      ]
    },
    {
      "cell_type": "code",
      "source": [
        "# Ejer 5: Crear dos vectores/arrays de valores ciertos y valores previstos, y calcular el mape.\n",
        "# ¿Qué valores deberían de tener el array pred para que el error fuese 0?\n"
      ],
      "metadata": {
        "id": "0vsYXdRqB0TE"
      },
      "execution_count": 24,
      "outputs": []
    },
    {
      "cell_type": "markdown",
      "source": [
        "Para que el error sea 0, los valores de ambos vectores deberían ser los mismos."
      ],
      "metadata": {
        "id": "NcHeLelfxuzq"
      }
    },
    {
      "cell_type": "code",
      "source": [
        "y_true = [10, 20, 30, 40]\n",
        "y_pred = [10, 20, 30, 40]\n",
        "print(\"MAPE:\", mean_absolute_percentage_error(y_true, y_pred))"
      ],
      "metadata": {
        "colab": {
          "base_uri": "https://localhost:8080/"
        },
        "id": "l1BhNkcQxml2",
        "outputId": "048de31c-74b9-410a-e1d0-69b49cc241db"
      },
      "execution_count": 25,
      "outputs": [
        {
          "output_type": "stream",
          "name": "stdout",
          "text": [
            "MAPE: 0.0\n"
          ]
        }
      ]
    },
    {
      "cell_type": "markdown",
      "source": [],
      "metadata": {
        "id": "riB9tSghyyS5"
      }
    },
    {
      "cell_type": "code",
      "source": [
        "y_true = [10, 20, 30, 40]\n",
        "y_pred = [10, 20, 30, 80]\n",
        "print(\"MAPE:\", mean_absolute_percentage_error(y_true, y_pred))"
      ],
      "metadata": {
        "colab": {
          "base_uri": "https://localhost:8080/"
        },
        "id": "s8dop4xwyybB",
        "outputId": "8bcb05e4-3e93-47e8-bcf2-8f6a57ecd7ac"
      },
      "execution_count": 26,
      "outputs": [
        {
          "output_type": "stream",
          "name": "stdout",
          "text": [
            "MAPE: 0.25\n"
          ]
        }
      ]
    },
    {
      "cell_type": "code",
      "source": [
        "y_true = [10, 20, 30, 40]\n",
        "y_pred = [10, 20, 45, 60]\n",
        "print(\"MAPE:\", mean_absolute_percentage_error(y_true, y_pred))"
      ],
      "metadata": {
        "colab": {
          "base_uri": "https://localhost:8080/"
        },
        "id": "yWTXWnw4zyQJ",
        "outputId": "c23086df-2725-4e23-c620-aee1a97f71bb"
      },
      "execution_count": 27,
      "outputs": [
        {
          "output_type": "stream",
          "name": "stdout",
          "text": [
            "MAPE: 0.25\n"
          ]
        }
      ]
    },
    {
      "cell_type": "code",
      "source": [
        "y_true = [10, 20, 30, 40]\n",
        "y_pred = [12.5, 15, 37.5, 50]\n",
        "print(\"MAPE:\", mean_absolute_percentage_error(y_true, y_pred))"
      ],
      "metadata": {
        "colab": {
          "base_uri": "https://localhost:8080/"
        },
        "id": "cpXmWdgUz1-f",
        "outputId": "dde83d9c-977b-45c0-c068-6422747f2c65"
      },
      "execution_count": 28,
      "outputs": [
        {
          "output_type": "stream",
          "name": "stdout",
          "text": [
            "MAPE: 0.25\n"
          ]
        }
      ]
    },
    {
      "cell_type": "markdown",
      "source": [
        "## **Ejercicio 6**"
      ],
      "metadata": {
        "id": "1jbmtKmav1ck"
      }
    },
    {
      "cell_type": "code",
      "source": [
        "# Ejer 6: Crear dos matrices/arrays de valores ciertos y valores previstos, y calcular el MAPE.\n",
        "# ¿Qué valores deberían de tener el array pred para que el error fuese 0?"
      ],
      "metadata": {
        "id": "085pmFVO-cA3"
      },
      "execution_count": 29,
      "outputs": []
    },
    {
      "cell_type": "markdown",
      "source": [
        "Para que el error sea 0, los valores de ambas matrices deberían ser los mismos."
      ],
      "metadata": {
        "id": "F9j2AX2Gxh70"
      }
    },
    {
      "cell_type": "code",
      "source": [
        "y_true = [[10, 20], [30, 40], [50, 60]]\n",
        "y_pred = [[10, 20], [30, 40], [50, 60]]\n",
        "print(\"MAPE:\", mean_absolute_percentage_error(y_true, y_pred))"
      ],
      "metadata": {
        "colab": {
          "base_uri": "https://localhost:8080/"
        },
        "id": "oiuuUbKGxmGo",
        "outputId": "0a781e8b-4fac-4b67-85c4-a2a8a381d134"
      },
      "execution_count": 30,
      "outputs": [
        {
          "output_type": "stream",
          "name": "stdout",
          "text": [
            "MAPE: 0.0\n"
          ]
        }
      ]
    },
    {
      "cell_type": "markdown",
      "source": [
        "Para que el error sea 0.33, la diferencia media entre cada par de valores de ambas matrices definidas por los mismos índices de fila y columna debe ser un 33% del valor cierto.\n",
        "La matriz de ejemplo tiene dimensión 2x3 y por tanto 6 elementos. Si multiplicamos 0.33 (33.33%) por dicha longitud tenemos que la suma de todas las diferencias absolutas (es decir, eliminando el signo) debe ser igual a 2(200%).\n"
      ],
      "metadata": {
        "id": "0aapc6y1yzCR"
      }
    },
    {
      "cell_type": "code",
      "source": [
        "y_true = [[10, 20], [30, 40], [50, 60]]\n",
        "y_pred = [[10, 20], [30, 40], [50, 180]]\n",
        "print(\"MAPE:\", mean_absolute_percentage_error(y_true, y_pred))"
      ],
      "metadata": {
        "colab": {
          "base_uri": "https://localhost:8080/"
        },
        "id": "58Ssm12dyzKA",
        "outputId": "800ea5c7-be74-4460-b703-4ec4d8518abd"
      },
      "execution_count": 31,
      "outputs": [
        {
          "output_type": "stream",
          "name": "stdout",
          "text": [
            "MAPE: 0.3333333333333333\n"
          ]
        }
      ]
    },
    {
      "cell_type": "code",
      "source": [
        "y_true = [[10, 20], [30, 40], [50, 60]]\n",
        "y_pred = [[20, 20], [30, 40], [50, 120]]\n",
        "print(\"MAPE:\", mean_absolute_percentage_error(y_true, y_pred))"
      ],
      "metadata": {
        "colab": {
          "base_uri": "https://localhost:8080/"
        },
        "id": "Gi6L7tOq2f34",
        "outputId": "343b8d28-4229-441c-bba0-4cfb8dbc2428"
      },
      "execution_count": 32,
      "outputs": [
        {
          "output_type": "stream",
          "name": "stdout",
          "text": [
            "MAPE: 0.3333333333333333\n"
          ]
        }
      ]
    },
    {
      "cell_type": "code",
      "source": [
        "y_true = [[10, 20], [30, 40], [50, 60]]\n",
        "y_pred = [[15, 26], [45, 60], [55, 66]]\n",
        "print(\"MAPE:\", mean_absolute_percentage_error(y_true, y_pred))"
      ],
      "metadata": {
        "colab": {
          "base_uri": "https://localhost:8080/"
        },
        "id": "DRX6UniF2gHP",
        "outputId": "82026463-ccc4-458e-888f-620e171d43b5"
      },
      "execution_count": 33,
      "outputs": [
        {
          "output_type": "stream",
          "name": "stdout",
          "text": [
            "MAPE: 0.33333333333333337\n"
          ]
        }
      ]
    }
  ]
}